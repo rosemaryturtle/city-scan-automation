{
 "cells": [
  {
   "cell_type": "code",
   "execution_count": 62,
   "id": "22b944c0-d8e0-478c-a3d8-ea670d90cc2f",
   "metadata": {},
   "outputs": [],
   "source": [
    "import yaml"
   ]
  },
  {
   "cell_type": "code",
   "execution_count": 63,
   "id": "2607ecaa-758c-4a3e-80f2-050f2c73df8b",
   "metadata": {},
   "outputs": [],
   "source": [
    "# load menu\n",
    "with open(\"../mnt/city-directories/01-user-input/menu.yml\", 'r') as f:\n",
    "    menu = yaml.safe_load(f)"
   ]
  },
  {
   "cell_type": "code",
   "execution_count": 64,
   "id": "a6992e26-b62f-41fc-85e7-66c95e7380e9",
   "metadata": {},
   "outputs": [],
   "source": [
    "if menu['all_stats']:\n",
    "    import os\n",
    "    import glob\n",
    "    import math\n",
    "    import geopandas as gpd\n",
    "    import pandas as pd\n",
    "    import numpy as np\n",
    "    from io import StringIO\n",
    "    import requests\n",
    "    from sklearn.preprocessing import MinMaxScaler\n",
    "    from shapely.geometry import shape\n",
    "    from shapely.ops import unary_union\n",
    "    import pint\n",
    "    import folium\n",
    "    from pathlib import Path\n",
    "    import matplotlib.pyplot as plt\n",
    "    import requests\n",
    "    import re\n",
    "    import rasterio\n",
    "    from rasterio.mask import mask\n",
    "    from shapely.geometry import Point\n",
    "    from fiona.crs import from_epsg\n",
    "    from nbconvert import MarkdownExporter\n",
    "    import nbformat\n",
    "    import base64\n",
    "    import pickle\n",
    "    import plotly.graph_objects as go\n",
    "    import seaborn as sns\n",
    "    import plotly.express as px\n",
    "    from datetime import datetime\n",
    "    import squarify"
   ]
  },
  {
   "cell_type": "code",
   "execution_count": 65,
   "id": "0ca8d4ff-ae23-4850-95f6-4a374d77ab88",
   "metadata": {},
   "outputs": [],
   "source": [
    "url = \"https://raw.githubusercontent.com/compoundrisk/monitor/databricks/src/country-groups.csv\"\n",
    "country_groups = pd.read_csv(url)\n",
    "helpers_url = \"https://raw.githubusercontent.com/compoundrisk/monitor/databricks/src/fns/helpers.R\"\n",
    "helpers_code = requests.get(helpers_url).text\n",
    "\n",
    "def tolatin(x):\n",
    "    return stri_trans_general(x, id=\"Latin-ASCII\")\n",
    "def normalize(x):\n",
    "    x_min = np.min(x)\n",
    "    x_max = np.max(x)\n",
    "    return (x - x_min) / (x_max - x_min)\n",
    "def print_text(x, linebreaks=2):\n",
    "    print(x + \"\\n\" + \"<br>\" * linebreaks)"
   ]
  },
  {
   "cell_type": "code",
   "execution_count": 66,
   "id": "a5df3a99-85dd-4b6b-93d7-bbd0a68679f7",
   "metadata": {},
   "outputs": [
    {
     "name": "stderr",
     "output_type": "stream",
     "text": [
      "findfont: Font family 'system-ui' not found.\n",
      "findfont: Font family '-apple-system' not found.\n",
      "findfont: Font family '\"Segoe UI\"' not found.\n",
      "findfont: Font family 'Roboto' not found.\n",
      "findfont: Font family '\"Helvetica Neue\"' not found.\n",
      "findfont: Font family '\"Noto Sans\"' not found.\n",
      "findfont: Font family '\"Liberation Sans\"' not found.\n",
      "findfont: Font family '\"Apple Color Emoji\"' not found.\n",
      "findfont: Font family '\"Segoe UI Emoji\"' not found.\n",
      "findfont: Font family '\"Segoe UI Symbol\"' not found.\n",
      "findfont: Font family '\"Noto Color Emoji\"' not found.\n",
      "findfont: Font family 'system-ui' not found.\n",
      "findfont: Font family '-apple-system' not found.\n",
      "findfont: Font family '\"Segoe UI\"' not found.\n",
      "findfont: Font family 'Roboto' not found.\n",
      "findfont: Font family '\"Helvetica Neue\"' not found.\n",
      "findfont: Font family '\"Noto Sans\"' not found.\n",
      "findfont: Font family '\"Liberation Sans\"' not found.\n",
      "findfont: Font family '\"Apple Color Emoji\"' not found.\n",
      "findfont: Font family '\"Segoe UI Emoji\"' not found.\n",
      "findfont: Font family '\"Segoe UI Symbol\"' not found.\n",
      "findfont: Font family '\"Noto Color Emoji\"' not found.\n",
      "findfont: Font family 'system-ui' not found.\n",
      "findfont: Font family '-apple-system' not found.\n",
      "findfont: Font family '\"Segoe UI\"' not found.\n",
      "findfont: Font family 'Roboto' not found.\n",
      "findfont: Font family '\"Helvetica Neue\"' not found.\n",
      "findfont: Font family '\"Noto Sans\"' not found.\n",
      "findfont: Font family '\"Liberation Sans\"' not found.\n",
      "findfont: Font family '\"Apple Color Emoji\"' not found.\n",
      "findfont: Font family '\"Segoe UI Emoji\"' not found.\n",
      "findfont: Font family '\"Segoe UI Symbol\"' not found.\n",
      "findfont: Font family '\"Noto Color Emoji\"' not found.\n",
      "findfont: Font family 'system-ui' not found.\n",
      "findfont: Font family '-apple-system' not found.\n",
      "findfont: Font family '\"Segoe UI\"' not found.\n",
      "findfont: Font family 'Roboto' not found.\n",
      "findfont: Font family '\"Helvetica Neue\"' not found.\n",
      "findfont: Font family '\"Noto Sans\"' not found.\n",
      "findfont: Font family '\"Liberation Sans\"' not found.\n",
      "findfont: Font family '\"Apple Color Emoji\"' not found.\n",
      "findfont: Font family '\"Segoe UI Emoji\"' not found.\n",
      "findfont: Font family '\"Segoe UI Symbol\"' not found.\n",
      "findfont: Font family '\"Noto Color Emoji\"' not found.\n",
      "findfont: Font family 'system-ui' not found.\n",
      "findfont: Font family '-apple-system' not found.\n",
      "findfont: Font family '\"Segoe UI\"' not found.\n",
      "findfont: Font family 'Roboto' not found.\n",
      "findfont: Font family '\"Helvetica Neue\"' not found.\n",
      "findfont: Font family '\"Noto Sans\"' not found.\n",
      "findfont: Font family '\"Liberation Sans\"' not found.\n",
      "findfont: Font family '\"Apple Color Emoji\"' not found.\n",
      "findfont: Font family '\"Segoe UI Emoji\"' not found.\n",
      "findfont: Font family '\"Segoe UI Symbol\"' not found.\n",
      "findfont: Font family '\"Noto Color Emoji\"' not found.\n",
      "findfont: Font family 'system-ui' not found.\n",
      "findfont: Font family '-apple-system' not found.\n",
      "findfont: Font family '\"Segoe UI\"' not found.\n",
      "findfont: Font family 'Roboto' not found.\n",
      "findfont: Font family '\"Helvetica Neue\"' not found.\n",
      "findfont: Font family '\"Noto Sans\"' not found.\n",
      "findfont: Font family '\"Liberation Sans\"' not found.\n",
      "findfont: Font family '\"Apple Color Emoji\"' not found.\n",
      "findfont: Font family '\"Segoe UI Emoji\"' not found.\n",
      "findfont: Font family '\"Segoe UI Symbol\"' not found.\n",
      "findfont: Font family '\"Noto Color Emoji\"' not found.\n",
      "findfont: Font family 'system-ui' not found.\n",
      "findfont: Font family '-apple-system' not found.\n",
      "findfont: Font family '\"Segoe UI\"' not found.\n",
      "findfont: Font family 'Roboto' not found.\n",
      "findfont: Font family '\"Helvetica Neue\"' not found.\n",
      "findfont: Font family '\"Noto Sans\"' not found.\n",
      "findfont: Font family '\"Liberation Sans\"' not found.\n",
      "findfont: Font family '\"Apple Color Emoji\"' not found.\n",
      "findfont: Font family '\"Segoe UI Emoji\"' not found.\n",
      "findfont: Font family '\"Segoe UI Symbol\"' not found.\n",
      "findfont: Font family '\"Noto Color Emoji\"' not found.\n",
      "findfont: Font family 'system-ui' not found.\n",
      "findfont: Font family '-apple-system' not found.\n",
      "findfont: Font family '\"Segoe UI\"' not found.\n",
      "findfont: Font family 'Roboto' not found.\n",
      "findfont: Font family '\"Helvetica Neue\"' not found.\n",
      "findfont: Font family '\"Noto Sans\"' not found.\n",
      "findfont: Font family '\"Liberation Sans\"' not found.\n",
      "findfont: Font family '\"Apple Color Emoji\"' not found.\n",
      "findfont: Font family '\"Segoe UI Emoji\"' not found.\n",
      "findfont: Font family '\"Segoe UI Symbol\"' not found.\n",
      "findfont: Font family '\"Noto Color Emoji\"' not found.\n",
      "findfont: Font family 'system-ui' not found.\n",
      "findfont: Font family '-apple-system' not found.\n",
      "findfont: Font family '\"Segoe UI\"' not found.\n",
      "findfont: Font family 'Roboto' not found.\n",
      "findfont: Font family '\"Helvetica Neue\"' not found.\n",
      "findfont: Font family '\"Noto Sans\"' not found.\n",
      "findfont: Font family '\"Liberation Sans\"' not found.\n",
      "findfont: Font family '\"Apple Color Emoji\"' not found.\n",
      "findfont: Font family '\"Segoe UI Emoji\"' not found.\n",
      "findfont: Font family '\"Segoe UI Symbol\"' not found.\n",
      "findfont: Font family '\"Noto Color Emoji\"' not found.\n",
      "findfont: Font family 'system-ui' not found.\n",
      "findfont: Font family '-apple-system' not found.\n",
      "findfont: Font family '\"Segoe UI\"' not found.\n",
      "findfont: Font family 'Roboto' not found.\n",
      "findfont: Font family '\"Helvetica Neue\"' not found.\n",
      "findfont: Font family '\"Noto Sans\"' not found.\n",
      "findfont: Font family '\"Liberation Sans\"' not found.\n",
      "findfont: Font family '\"Apple Color Emoji\"' not found.\n",
      "findfont: Font family '\"Segoe UI Emoji\"' not found.\n",
      "findfont: Font family '\"Segoe UI Symbol\"' not found.\n",
      "findfont: Font family '\"Noto Color Emoji\"' not found.\n",
      "findfont: Font family 'system-ui' not found.\n",
      "findfont: Font family '-apple-system' not found.\n",
      "findfont: Font family '\"Segoe UI\"' not found.\n",
      "findfont: Font family 'Roboto' not found.\n",
      "findfont: Font family '\"Helvetica Neue\"' not found.\n",
      "findfont: Font family '\"Noto Sans\"' not found.\n",
      "findfont: Font family '\"Liberation Sans\"' not found.\n",
      "findfont: Font family '\"Apple Color Emoji\"' not found.\n",
      "findfont: Font family '\"Segoe UI Emoji\"' not found.\n",
      "findfont: Font family '\"Segoe UI Symbol\"' not found.\n",
      "findfont: Font family '\"Noto Color Emoji\"' not found.\n",
      "findfont: Font family 'system-ui' not found.\n",
      "findfont: Font family '-apple-system' not found.\n",
      "findfont: Font family '\"Segoe UI\"' not found.\n",
      "findfont: Font family 'Roboto' not found.\n",
      "findfont: Font family '\"Helvetica Neue\"' not found.\n",
      "findfont: Font family '\"Noto Sans\"' not found.\n",
      "findfont: Font family '\"Liberation Sans\"' not found.\n",
      "findfont: Font family '\"Apple Color Emoji\"' not found.\n",
      "findfont: Font family '\"Segoe UI Emoji\"' not found.\n",
      "findfont: Font family '\"Segoe UI Symbol\"' not found.\n",
      "findfont: Font family '\"Noto Color Emoji\"' not found.\n",
      "findfont: Font family 'system-ui' not found.\n",
      "findfont: Font family '-apple-system' not found.\n",
      "findfont: Font family '\"Segoe UI\"' not found.\n",
      "findfont: Font family 'Roboto' not found.\n",
      "findfont: Font family '\"Helvetica Neue\"' not found.\n",
      "findfont: Font family '\"Noto Sans\"' not found.\n",
      "findfont: Font family '\"Liberation Sans\"' not found.\n",
      "findfont: Font family '\"Apple Color Emoji\"' not found.\n",
      "findfont: Font family '\"Segoe UI Emoji\"' not found.\n",
      "findfont: Font family '\"Segoe UI Symbol\"' not found.\n",
      "findfont: Font family '\"Noto Color Emoji\"' not found.\n",
      "findfont: Font family 'system-ui' not found.\n",
      "findfont: Font family '-apple-system' not found.\n",
      "findfont: Font family '\"Segoe UI\"' not found.\n",
      "findfont: Font family 'Roboto' not found.\n",
      "findfont: Font family '\"Helvetica Neue\"' not found.\n",
      "findfont: Font family '\"Noto Sans\"' not found.\n",
      "findfont: Font family '\"Liberation Sans\"' not found.\n",
      "findfont: Font family '\"Apple Color Emoji\"' not found.\n",
      "findfont: Font family '\"Segoe UI Emoji\"' not found.\n",
      "findfont: Font family '\"Segoe UI Symbol\"' not found.\n",
      "findfont: Font family '\"Noto Color Emoji\"' not found.\n",
      "findfont: Font family 'system-ui' not found.\n",
      "findfont: Font family '-apple-system' not found.\n",
      "findfont: Font family '\"Segoe UI\"' not found.\n",
      "findfont: Font family 'Roboto' not found.\n",
      "findfont: Font family '\"Helvetica Neue\"' not found.\n",
      "findfont: Font family '\"Noto Sans\"' not found.\n",
      "findfont: Font family '\"Liberation Sans\"' not found.\n",
      "findfont: Font family '\"Apple Color Emoji\"' not found.\n",
      "findfont: Font family '\"Segoe UI Emoji\"' not found.\n",
      "findfont: Font family '\"Segoe UI Symbol\"' not found.\n",
      "findfont: Font family '\"Noto Color Emoji\"' not found.\n",
      "findfont: Font family 'system-ui' not found.\n",
      "findfont: Font family '-apple-system' not found.\n",
      "findfont: Font family '\"Segoe UI\"' not found.\n",
      "findfont: Font family 'Roboto' not found.\n",
      "findfont: Font family '\"Helvetica Neue\"' not found.\n",
      "findfont: Font family '\"Noto Sans\"' not found.\n",
      "findfont: Font family '\"Liberation Sans\"' not found.\n",
      "findfont: Font family '\"Apple Color Emoji\"' not found.\n",
      "findfont: Font family '\"Segoe UI Emoji\"' not found.\n",
      "findfont: Font family '\"Segoe UI Symbol\"' not found.\n",
      "findfont: Font family '\"Noto Color Emoji\"' not found.\n",
      "findfont: Font family 'system-ui' not found.\n",
      "findfont: Font family '-apple-system' not found.\n",
      "findfont: Font family '\"Segoe UI\"' not found.\n",
      "findfont: Font family 'Roboto' not found.\n",
      "findfont: Font family '\"Helvetica Neue\"' not found.\n",
      "findfont: Font family '\"Noto Sans\"' not found.\n",
      "findfont: Font family '\"Liberation Sans\"' not found.\n",
      "findfont: Font family '\"Apple Color Emoji\"' not found.\n",
      "findfont: Font family '\"Segoe UI Emoji\"' not found.\n",
      "findfont: Font family '\"Segoe UI Symbol\"' not found.\n",
      "findfont: Font family '\"Noto Color Emoji\"' not found.\n",
      "findfont: Font family 'system-ui' not found.\n",
      "findfont: Font family '-apple-system' not found.\n",
      "findfont: Font family '\"Segoe UI\"' not found.\n",
      "findfont: Font family 'Roboto' not found.\n",
      "findfont: Font family '\"Helvetica Neue\"' not found.\n",
      "findfont: Font family '\"Noto Sans\"' not found.\n",
      "findfont: Font family '\"Liberation Sans\"' not found.\n",
      "findfont: Font family '\"Apple Color Emoji\"' not found.\n",
      "findfont: Font family '\"Segoe UI Emoji\"' not found.\n",
      "findfont: Font family '\"Segoe UI Symbol\"' not found.\n",
      "findfont: Font family '\"Noto Color Emoji\"' not found.\n",
      "findfont: Font family 'system-ui' not found.\n",
      "findfont: Font family '-apple-system' not found.\n",
      "findfont: Font family '\"Segoe UI\"' not found.\n",
      "findfont: Font family 'Roboto' not found.\n",
      "findfont: Font family '\"Helvetica Neue\"' not found.\n",
      "findfont: Font family '\"Noto Sans\"' not found.\n",
      "findfont: Font family '\"Liberation Sans\"' not found.\n",
      "findfont: Font family '\"Apple Color Emoji\"' not found.\n",
      "findfont: Font family '\"Segoe UI Emoji\"' not found.\n",
      "findfont: Font family '\"Segoe UI Symbol\"' not found.\n",
      "findfont: Font family '\"Noto Color Emoji\"' not found.\n",
      "findfont: Font family 'system-ui' not found.\n",
      "findfont: Font family '-apple-system' not found.\n",
      "findfont: Font family '\"Segoe UI\"' not found.\n",
      "findfont: Font family 'Roboto' not found.\n",
      "findfont: Font family '\"Helvetica Neue\"' not found.\n",
      "findfont: Font family '\"Noto Sans\"' not found.\n",
      "findfont: Font family '\"Liberation Sans\"' not found.\n",
      "findfont: Font family '\"Apple Color Emoji\"' not found.\n",
      "findfont: Font family '\"Segoe UI Emoji\"' not found.\n",
      "findfont: Font family '\"Segoe UI Symbol\"' not found.\n",
      "findfont: Font family '\"Noto Color Emoji\"' not found.\n",
      "findfont: Font family 'system-ui' not found.\n",
      "findfont: Font family '-apple-system' not found.\n",
      "findfont: Font family '\"Segoe UI\"' not found.\n",
      "findfont: Font family 'Roboto' not found.\n",
      "findfont: Font family '\"Helvetica Neue\"' not found.\n",
      "findfont: Font family '\"Noto Sans\"' not found.\n",
      "findfont: Font family '\"Liberation Sans\"' not found.\n",
      "findfont: Font family '\"Apple Color Emoji\"' not found.\n",
      "findfont: Font family '\"Segoe UI Emoji\"' not found.\n",
      "findfont: Font family '\"Segoe UI Symbol\"' not found.\n",
      "findfont: Font family '\"Noto Color Emoji\"' not found.\n",
      "findfont: Font family 'system-ui' not found.\n",
      "findfont: Font family '-apple-system' not found.\n",
      "findfont: Font family '\"Segoe UI\"' not found.\n",
      "findfont: Font family 'Roboto' not found.\n",
      "findfont: Font family '\"Helvetica Neue\"' not found.\n",
      "findfont: Font family '\"Noto Sans\"' not found.\n",
      "findfont: Font family '\"Liberation Sans\"' not found.\n",
      "findfont: Font family '\"Apple Color Emoji\"' not found.\n",
      "findfont: Font family '\"Segoe UI Emoji\"' not found.\n",
      "findfont: Font family '\"Segoe UI Symbol\"' not found.\n",
      "findfont: Font family '\"Noto Color Emoji\"' not found.\n",
      "findfont: Font family 'system-ui' not found.\n",
      "findfont: Font family '-apple-system' not found.\n",
      "findfont: Font family '\"Segoe UI\"' not found.\n",
      "findfont: Font family 'Roboto' not found.\n",
      "findfont: Font family '\"Helvetica Neue\"' not found.\n",
      "findfont: Font family '\"Noto Sans\"' not found.\n",
      "findfont: Font family '\"Liberation Sans\"' not found.\n",
      "findfont: Font family '\"Apple Color Emoji\"' not found.\n",
      "findfont: Font family '\"Segoe UI Emoji\"' not found.\n",
      "findfont: Font family '\"Segoe UI Symbol\"' not found.\n",
      "findfont: Font family '\"Noto Color Emoji\"' not found.\n",
      "findfont: Font family 'system-ui' not found.\n",
      "findfont: Font family '-apple-system' not found.\n",
      "findfont: Font family '\"Segoe UI\"' not found.\n",
      "findfont: Font family 'Roboto' not found.\n",
      "findfont: Font family '\"Helvetica Neue\"' not found.\n",
      "findfont: Font family '\"Noto Sans\"' not found.\n",
      "findfont: Font family '\"Liberation Sans\"' not found.\n",
      "findfont: Font family '\"Apple Color Emoji\"' not found.\n",
      "findfont: Font family '\"Segoe UI Emoji\"' not found.\n",
      "findfont: Font family '\"Segoe UI Symbol\"' not found.\n",
      "findfont: Font family '\"Noto Color Emoji\"' not found.\n",
      "findfont: Font family 'system-ui' not found.\n",
      "findfont: Font family '-apple-system' not found.\n",
      "findfont: Font family '\"Segoe UI\"' not found.\n",
      "findfont: Font family 'Roboto' not found.\n",
      "findfont: Font family '\"Helvetica Neue\"' not found.\n",
      "findfont: Font family '\"Noto Sans\"' not found.\n",
      "findfont: Font family '\"Liberation Sans\"' not found.\n",
      "findfont: Font family '\"Apple Color Emoji\"' not found.\n",
      "findfont: Font family '\"Segoe UI Emoji\"' not found.\n",
      "findfont: Font family '\"Segoe UI Symbol\"' not found.\n",
      "findfont: Font family '\"Noto Color Emoji\"' not found.\n",
      "findfont: Font family 'system-ui' not found.\n",
      "findfont: Font family '-apple-system' not found.\n",
      "findfont: Font family '\"Segoe UI\"' not found.\n",
      "findfont: Font family 'Roboto' not found.\n",
      "findfont: Font family '\"Helvetica Neue\"' not found.\n",
      "findfont: Font family '\"Noto Sans\"' not found.\n",
      "findfont: Font family '\"Liberation Sans\"' not found.\n",
      "findfont: Font family '\"Apple Color Emoji\"' not found.\n",
      "findfont: Font family '\"Segoe UI Emoji\"' not found.\n",
      "findfont: Font family '\"Segoe UI Symbol\"' not found.\n",
      "findfont: Font family '\"Noto Color Emoji\"' not found.\n",
      "findfont: Font family 'system-ui' not found.\n",
      "findfont: Font family '-apple-system' not found.\n",
      "findfont: Font family '\"Segoe UI\"' not found.\n",
      "findfont: Font family 'Roboto' not found.\n",
      "findfont: Font family '\"Helvetica Neue\"' not found.\n",
      "findfont: Font family '\"Noto Sans\"' not found.\n",
      "findfont: Font family '\"Liberation Sans\"' not found.\n",
      "findfont: Font family '\"Apple Color Emoji\"' not found.\n",
      "findfont: Font family '\"Segoe UI Emoji\"' not found.\n",
      "findfont: Font family '\"Segoe UI Symbol\"' not found.\n",
      "findfont: Font family '\"Noto Color Emoji\"' not found.\n",
      "findfont: Font family 'system-ui' not found.\n",
      "findfont: Font family '-apple-system' not found.\n",
      "findfont: Font family '\"Segoe UI\"' not found.\n",
      "findfont: Font family 'Roboto' not found.\n",
      "findfont: Font family '\"Helvetica Neue\"' not found.\n",
      "findfont: Font family '\"Noto Sans\"' not found.\n",
      "findfont: Font family '\"Liberation Sans\"' not found.\n",
      "findfont: Font family '\"Apple Color Emoji\"' not found.\n",
      "findfont: Font family '\"Segoe UI Emoji\"' not found.\n",
      "findfont: Font family '\"Segoe UI Symbol\"' not found.\n",
      "findfont: Font family '\"Noto Color Emoji\"' not found.\n",
      "findfont: Font family 'system-ui' not found.\n",
      "findfont: Font family '-apple-system' not found.\n",
      "findfont: Font family '\"Segoe UI\"' not found.\n",
      "findfont: Font family 'Roboto' not found.\n",
      "findfont: Font family '\"Helvetica Neue\"' not found.\n",
      "findfont: Font family '\"Noto Sans\"' not found.\n",
      "findfont: Font family '\"Liberation Sans\"' not found.\n",
      "findfont: Font family '\"Apple Color Emoji\"' not found.\n",
      "findfont: Font family '\"Segoe UI Emoji\"' not found.\n",
      "findfont: Font family '\"Segoe UI Symbol\"' not found.\n",
      "findfont: Font family '\"Noto Color Emoji\"' not found.\n",
      "findfont: Font family 'system-ui' not found.\n",
      "findfont: Font family '-apple-system' not found.\n",
      "findfont: Font family '\"Segoe UI\"' not found.\n",
      "findfont: Font family 'Roboto' not found.\n",
      "findfont: Font family '\"Helvetica Neue\"' not found.\n",
      "findfont: Font family '\"Noto Sans\"' not found.\n",
      "findfont: Font family '\"Liberation Sans\"' not found.\n",
      "findfont: Font family '\"Apple Color Emoji\"' not found.\n",
      "findfont: Font family '\"Segoe UI Emoji\"' not found.\n",
      "findfont: Font family '\"Segoe UI Symbol\"' not found.\n",
      "findfont: Font family '\"Noto Color Emoji\"' not found.\n",
      "findfont: Font family 'system-ui' not found.\n",
      "findfont: Font family '-apple-system' not found.\n",
      "findfont: Font family '\"Segoe UI\"' not found.\n",
      "findfont: Font family 'Roboto' not found.\n",
      "findfont: Font family '\"Helvetica Neue\"' not found.\n",
      "findfont: Font family '\"Noto Sans\"' not found.\n",
      "findfont: Font family '\"Liberation Sans\"' not found.\n",
      "findfont: Font family '\"Apple Color Emoji\"' not found.\n",
      "findfont: Font family '\"Segoe UI Emoji\"' not found.\n",
      "findfont: Font family '\"Segoe UI Symbol\"' not found.\n",
      "findfont: Font family '\"Noto Color Emoji\"' not found.\n",
      "findfont: Font family 'system-ui' not found.\n",
      "findfont: Font family '-apple-system' not found.\n",
      "findfont: Font family '\"Segoe UI\"' not found.\n",
      "findfont: Font family 'Roboto' not found.\n",
      "findfont: Font family '\"Helvetica Neue\"' not found.\n",
      "findfont: Font family '\"Noto Sans\"' not found.\n",
      "findfont: Font family '\"Liberation Sans\"' not found.\n",
      "findfont: Font family '\"Apple Color Emoji\"' not found.\n",
      "findfont: Font family '\"Segoe UI Emoji\"' not found.\n",
      "findfont: Font family '\"Segoe UI Symbol\"' not found.\n",
      "findfont: Font family '\"Noto Color Emoji\"' not found.\n",
      "findfont: Font family 'system-ui' not found.\n",
      "findfont: Font family '-apple-system' not found.\n",
      "findfont: Font family '\"Segoe UI\"' not found.\n",
      "findfont: Font family 'Roboto' not found.\n",
      "findfont: Font family '\"Helvetica Neue\"' not found.\n",
      "findfont: Font family '\"Noto Sans\"' not found.\n",
      "findfont: Font family '\"Liberation Sans\"' not found.\n",
      "findfont: Font family '\"Apple Color Emoji\"' not found.\n",
      "findfont: Font family '\"Segoe UI Emoji\"' not found.\n",
      "findfont: Font family '\"Segoe UI Symbol\"' not found.\n",
      "findfont: Font family '\"Noto Color Emoji\"' not found.\n",
      "findfont: Font family 'system-ui' not found.\n",
      "findfont: Font family '-apple-system' not found.\n",
      "findfont: Font family '\"Segoe UI\"' not found.\n",
      "findfont: Font family 'Roboto' not found.\n",
      "findfont: Font family '\"Helvetica Neue\"' not found.\n",
      "findfont: Font family '\"Noto Sans\"' not found.\n",
      "findfont: Font family '\"Liberation Sans\"' not found.\n",
      "findfont: Font family '\"Apple Color Emoji\"' not found.\n",
      "findfont: Font family '\"Segoe UI Emoji\"' not found.\n",
      "findfont: Font family '\"Segoe UI Symbol\"' not found.\n",
      "findfont: Font family '\"Noto Color Emoji\"' not found.\n",
      "findfont: Font family 'system-ui' not found.\n",
      "findfont: Font family '-apple-system' not found.\n",
      "findfont: Font family '\"Segoe UI\"' not found.\n",
      "findfont: Font family 'Roboto' not found.\n",
      "findfont: Font family '\"Helvetica Neue\"' not found.\n",
      "findfont: Font family '\"Noto Sans\"' not found.\n",
      "findfont: Font family '\"Liberation Sans\"' not found.\n",
      "findfont: Font family '\"Apple Color Emoji\"' not found.\n",
      "findfont: Font family '\"Segoe UI Emoji\"' not found.\n",
      "findfont: Font family '\"Segoe UI Symbol\"' not found.\n",
      "findfont: Font family '\"Noto Color Emoji\"' not found.\n",
      "findfont: Font family 'system-ui' not found.\n",
      "findfont: Font family '-apple-system' not found.\n",
      "findfont: Font family '\"Segoe UI\"' not found.\n",
      "findfont: Font family 'Roboto' not found.\n",
      "findfont: Font family '\"Helvetica Neue\"' not found.\n",
      "findfont: Font family '\"Noto Sans\"' not found.\n",
      "findfont: Font family '\"Liberation Sans\"' not found.\n",
      "findfont: Font family '\"Apple Color Emoji\"' not found.\n",
      "findfont: Font family '\"Segoe UI Emoji\"' not found.\n",
      "findfont: Font family '\"Segoe UI Symbol\"' not found.\n",
      "findfont: Font family '\"Noto Color Emoji\"' not found.\n",
      "findfont: Font family 'system-ui' not found.\n",
      "findfont: Font family '-apple-system' not found.\n",
      "findfont: Font family '\"Segoe UI\"' not found.\n",
      "findfont: Font family 'Roboto' not found.\n",
      "findfont: Font family '\"Helvetica Neue\"' not found.\n",
      "findfont: Font family '\"Noto Sans\"' not found.\n",
      "findfont: Font family '\"Liberation Sans\"' not found.\n",
      "findfont: Font family '\"Apple Color Emoji\"' not found.\n",
      "findfont: Font family '\"Segoe UI Emoji\"' not found.\n",
      "findfont: Font family '\"Segoe UI Symbol\"' not found.\n",
      "findfont: Font family '\"Noto Color Emoji\"' not found.\n",
      "findfont: Font family 'system-ui' not found.\n",
      "findfont: Font family '-apple-system' not found.\n",
      "findfont: Font family '\"Segoe UI\"' not found.\n",
      "findfont: Font family 'Roboto' not found.\n",
      "findfont: Font family '\"Helvetica Neue\"' not found.\n",
      "findfont: Font family '\"Noto Sans\"' not found.\n",
      "findfont: Font family '\"Liberation Sans\"' not found.\n",
      "findfont: Font family '\"Apple Color Emoji\"' not found.\n",
      "findfont: Font family '\"Segoe UI Emoji\"' not found.\n",
      "findfont: Font family '\"Segoe UI Symbol\"' not found.\n",
      "findfont: Font family '\"Noto Color Emoji\"' not found.\n",
      "findfont: Font family 'system-ui' not found.\n",
      "findfont: Font family '-apple-system' not found.\n",
      "findfont: Font family '\"Segoe UI\"' not found.\n",
      "findfont: Font family 'Roboto' not found.\n",
      "findfont: Font family '\"Helvetica Neue\"' not found.\n",
      "findfont: Font family '\"Noto Sans\"' not found.\n",
      "findfont: Font family '\"Liberation Sans\"' not found.\n",
      "findfont: Font family '\"Apple Color Emoji\"' not found.\n",
      "findfont: Font family '\"Segoe UI Emoji\"' not found.\n",
      "findfont: Font family '\"Segoe UI Symbol\"' not found.\n",
      "findfont: Font family '\"Noto Color Emoji\"' not found.\n",
      "findfont: Font family 'system-ui' not found.\n",
      "findfont: Font family '-apple-system' not found.\n",
      "findfont: Font family '\"Segoe UI\"' not found.\n",
      "findfont: Font family 'Roboto' not found.\n",
      "findfont: Font family '\"Helvetica Neue\"' not found.\n",
      "findfont: Font family '\"Noto Sans\"' not found.\n",
      "findfont: Font family '\"Liberation Sans\"' not found.\n",
      "findfont: Font family '\"Apple Color Emoji\"' not found.\n",
      "findfont: Font family '\"Segoe UI Emoji\"' not found.\n",
      "findfont: Font family '\"Segoe UI Symbol\"' not found.\n",
      "findfont: Font family '\"Noto Color Emoji\"' not found.\n",
      "findfont: Font family 'system-ui' not found.\n",
      "findfont: Font family '-apple-system' not found.\n",
      "findfont: Font family '\"Segoe UI\"' not found.\n",
      "findfont: Font family 'Roboto' not found.\n",
      "findfont: Font family '\"Helvetica Neue\"' not found.\n",
      "findfont: Font family '\"Noto Sans\"' not found.\n",
      "findfont: Font family '\"Liberation Sans\"' not found.\n",
      "findfont: Font family '\"Apple Color Emoji\"' not found.\n",
      "findfont: Font family '\"Segoe UI Emoji\"' not found.\n",
      "findfont: Font family '\"Segoe UI Symbol\"' not found.\n",
      "findfont: Font family '\"Noto Color Emoji\"' not found.\n",
      "findfont: Font family 'system-ui' not found.\n",
      "findfont: Font family '-apple-system' not found.\n",
      "findfont: Font family '\"Segoe UI\"' not found.\n",
      "findfont: Font family 'Roboto' not found.\n",
      "findfont: Font family '\"Helvetica Neue\"' not found.\n",
      "findfont: Font family '\"Noto Sans\"' not found.\n",
      "findfont: Font family '\"Liberation Sans\"' not found.\n",
      "findfont: Font family '\"Apple Color Emoji\"' not found.\n",
      "findfont: Font family '\"Segoe UI Emoji\"' not found.\n",
      "findfont: Font family '\"Segoe UI Symbol\"' not found.\n",
      "findfont: Font family '\"Noto Color Emoji\"' not found.\n",
      "findfont: Font family 'system-ui' not found.\n",
      "findfont: Font family '-apple-system' not found.\n",
      "findfont: Font family '\"Segoe UI\"' not found.\n",
      "findfont: Font family 'Roboto' not found.\n",
      "findfont: Font family '\"Helvetica Neue\"' not found.\n",
      "findfont: Font family '\"Noto Sans\"' not found.\n",
      "findfont: Font family '\"Liberation Sans\"' not found.\n",
      "findfont: Font family '\"Apple Color Emoji\"' not found.\n",
      "findfont: Font family '\"Segoe UI Emoji\"' not found.\n",
      "findfont: Font family '\"Segoe UI Symbol\"' not found.\n",
      "findfont: Font family '\"Noto Color Emoji\"' not found.\n",
      "findfont: Font family 'system-ui' not found.\n",
      "findfont: Font family '-apple-system' not found.\n",
      "findfont: Font family '\"Segoe UI\"' not found.\n",
      "findfont: Font family 'Roboto' not found.\n",
      "findfont: Font family '\"Helvetica Neue\"' not found.\n",
      "findfont: Font family '\"Noto Sans\"' not found.\n",
      "findfont: Font family '\"Liberation Sans\"' not found.\n",
      "findfont: Font family '\"Apple Color Emoji\"' not found.\n",
      "findfont: Font family '\"Segoe UI Emoji\"' not found.\n",
      "findfont: Font family '\"Segoe UI Symbol\"' not found.\n",
      "findfont: Font family '\"Noto Color Emoji\"' not found.\n",
      "findfont: Font family 'system-ui' not found.\n",
      "findfont: Font family '-apple-system' not found.\n",
      "findfont: Font family '\"Segoe UI\"' not found.\n",
      "findfont: Font family 'Roboto' not found.\n",
      "findfont: Font family '\"Helvetica Neue\"' not found.\n",
      "findfont: Font family '\"Noto Sans\"' not found.\n",
      "findfont: Font family '\"Liberation Sans\"' not found.\n",
      "findfont: Font family '\"Apple Color Emoji\"' not found.\n",
      "findfont: Font family '\"Segoe UI Emoji\"' not found.\n",
      "findfont: Font family '\"Segoe UI Symbol\"' not found.\n",
      "findfont: Font family '\"Noto Color Emoji\"' not found.\n",
      "findfont: Font family 'system-ui' not found.\n",
      "findfont: Font family '-apple-system' not found.\n",
      "findfont: Font family '\"Segoe UI\"' not found.\n",
      "findfont: Font family 'Roboto' not found.\n",
      "findfont: Font family '\"Helvetica Neue\"' not found.\n",
      "findfont: Font family '\"Noto Sans\"' not found.\n",
      "findfont: Font family '\"Liberation Sans\"' not found.\n",
      "findfont: Font family '\"Apple Color Emoji\"' not found.\n",
      "findfont: Font family '\"Segoe UI Emoji\"' not found.\n",
      "findfont: Font family '\"Segoe UI Symbol\"' not found.\n",
      "findfont: Font family '\"Noto Color Emoji\"' not found.\n",
      "findfont: Font family 'system-ui' not found.\n",
      "findfont: Font family '-apple-system' not found.\n",
      "findfont: Font family '\"Segoe UI\"' not found.\n",
      "findfont: Font family 'Roboto' not found.\n",
      "findfont: Font family '\"Helvetica Neue\"' not found.\n",
      "findfont: Font family '\"Noto Sans\"' not found.\n",
      "findfont: Font family '\"Liberation Sans\"' not found.\n",
      "findfont: Font family '\"Apple Color Emoji\"' not found.\n",
      "findfont: Font family '\"Segoe UI Emoji\"' not found.\n",
      "findfont: Font family '\"Segoe UI Symbol\"' not found.\n",
      "findfont: Font family '\"Noto Color Emoji\"' not found.\n",
      "findfont: Font family 'system-ui' not found.\n",
      "findfont: Font family '-apple-system' not found.\n",
      "findfont: Font family '\"Segoe UI\"' not found.\n",
      "findfont: Font family 'Roboto' not found.\n",
      "findfont: Font family '\"Helvetica Neue\"' not found.\n",
      "findfont: Font family '\"Noto Sans\"' not found.\n",
      "findfont: Font family '\"Liberation Sans\"' not found.\n",
      "findfont: Font family '\"Apple Color Emoji\"' not found.\n",
      "findfont: Font family '\"Segoe UI Emoji\"' not found.\n",
      "findfont: Font family '\"Segoe UI Symbol\"' not found.\n",
      "findfont: Font family '\"Noto Color Emoji\"' not found.\n",
      "findfont: Font family 'system-ui' not found.\n",
      "findfont: Font family '-apple-system' not found.\n",
      "findfont: Font family '\"Segoe UI\"' not found.\n",
      "findfont: Font family 'Roboto' not found.\n",
      "findfont: Font family '\"Helvetica Neue\"' not found.\n",
      "findfont: Font family '\"Noto Sans\"' not found.\n",
      "findfont: Font family '\"Liberation Sans\"' not found.\n",
      "findfont: Font family '\"Apple Color Emoji\"' not found.\n",
      "findfont: Font family '\"Segoe UI Emoji\"' not found.\n",
      "findfont: Font family '\"Segoe UI Symbol\"' not found.\n",
      "findfont: Font family '\"Noto Color Emoji\"' not found.\n",
      "findfont: Font family 'system-ui' not found.\n",
      "findfont: Font family '-apple-system' not found.\n",
      "findfont: Font family '\"Segoe UI\"' not found.\n",
      "findfont: Font family 'Roboto' not found.\n",
      "findfont: Font family '\"Helvetica Neue\"' not found.\n",
      "findfont: Font family '\"Noto Sans\"' not found.\n",
      "findfont: Font family '\"Liberation Sans\"' not found.\n",
      "findfont: Font family '\"Apple Color Emoji\"' not found.\n",
      "findfont: Font family '\"Segoe UI Emoji\"' not found.\n",
      "findfont: Font family '\"Segoe UI Symbol\"' not found.\n",
      "findfont: Font family '\"Noto Color Emoji\"' not found.\n",
      "findfont: Font family 'system-ui' not found.\n",
      "findfont: Font family '-apple-system' not found.\n",
      "findfont: Font family '\"Segoe UI\"' not found.\n",
      "findfont: Font family 'Roboto' not found.\n",
      "findfont: Font family '\"Helvetica Neue\"' not found.\n",
      "findfont: Font family '\"Noto Sans\"' not found.\n",
      "findfont: Font family '\"Liberation Sans\"' not found.\n",
      "findfont: Font family '\"Apple Color Emoji\"' not found.\n",
      "findfont: Font family '\"Segoe UI Emoji\"' not found.\n",
      "findfont: Font family '\"Segoe UI Symbol\"' not found.\n",
      "findfont: Font family '\"Noto Color Emoji\"' not found.\n",
      "findfont: Font family 'system-ui' not found.\n",
      "findfont: Font family '-apple-system' not found.\n",
      "findfont: Font family '\"Segoe UI\"' not found.\n",
      "findfont: Font family 'Roboto' not found.\n",
      "findfont: Font family '\"Helvetica Neue\"' not found.\n",
      "findfont: Font family '\"Noto Sans\"' not found.\n",
      "findfont: Font family '\"Liberation Sans\"' not found.\n",
      "findfont: Font family '\"Apple Color Emoji\"' not found.\n",
      "findfont: Font family '\"Segoe UI Emoji\"' not found.\n",
      "findfont: Font family '\"Segoe UI Symbol\"' not found.\n",
      "findfont: Font family '\"Noto Color Emoji\"' not found.\n",
      "findfont: Font family 'system-ui' not found.\n",
      "findfont: Font family '-apple-system' not found.\n",
      "findfont: Font family '\"Segoe UI\"' not found.\n",
      "findfont: Font family 'Roboto' not found.\n",
      "findfont: Font family '\"Helvetica Neue\"' not found.\n",
      "findfont: Font family '\"Noto Sans\"' not found.\n",
      "findfont: Font family '\"Liberation Sans\"' not found.\n",
      "findfont: Font family '\"Apple Color Emoji\"' not found.\n",
      "findfont: Font family '\"Segoe UI Emoji\"' not found.\n",
      "findfont: Font family '\"Segoe UI Symbol\"' not found.\n",
      "findfont: Font family '\"Noto Color Emoji\"' not found.\n",
      "findfont: Font family 'system-ui' not found.\n",
      "findfont: Font family '-apple-system' not found.\n",
      "findfont: Font family '\"Segoe UI\"' not found.\n",
      "findfont: Font family 'Roboto' not found.\n",
      "findfont: Font family '\"Helvetica Neue\"' not found.\n",
      "findfont: Font family '\"Noto Sans\"' not found.\n",
      "findfont: Font family '\"Liberation Sans\"' not found.\n",
      "findfont: Font family '\"Apple Color Emoji\"' not found.\n",
      "findfont: Font family '\"Segoe UI Emoji\"' not found.\n",
      "findfont: Font family '\"Segoe UI Symbol\"' not found.\n",
      "findfont: Font family '\"Noto Color Emoji\"' not found.\n",
      "findfont: Font family 'system-ui' not found.\n",
      "findfont: Font family '-apple-system' not found.\n",
      "findfont: Font family '\"Segoe UI\"' not found.\n",
      "findfont: Font family 'Roboto' not found.\n",
      "findfont: Font family '\"Helvetica Neue\"' not found.\n",
      "findfont: Font family '\"Noto Sans\"' not found.\n",
      "findfont: Font family '\"Liberation Sans\"' not found.\n",
      "findfont: Font family '\"Apple Color Emoji\"' not found.\n",
      "findfont: Font family '\"Segoe UI Emoji\"' not found.\n",
      "findfont: Font family '\"Segoe UI Symbol\"' not found.\n",
      "findfont: Font family '\"Noto Color Emoji\"' not found.\n",
      "findfont: Font family 'system-ui' not found.\n",
      "findfont: Font family '-apple-system' not found.\n",
      "findfont: Font family '\"Segoe UI\"' not found.\n",
      "findfont: Font family 'Roboto' not found.\n",
      "findfont: Font family '\"Helvetica Neue\"' not found.\n",
      "findfont: Font family '\"Noto Sans\"' not found.\n",
      "findfont: Font family '\"Liberation Sans\"' not found.\n",
      "findfont: Font family '\"Apple Color Emoji\"' not found.\n",
      "findfont: Font family '\"Segoe UI Emoji\"' not found.\n",
      "findfont: Font family '\"Segoe UI Symbol\"' not found.\n",
      "findfont: Font family '\"Noto Color Emoji\"' not found.\n",
      "findfont: Font family 'system-ui' not found.\n",
      "findfont: Font family '-apple-system' not found.\n",
      "findfont: Font family '\"Segoe UI\"' not found.\n",
      "findfont: Font family 'Roboto' not found.\n",
      "findfont: Font family '\"Helvetica Neue\"' not found.\n",
      "findfont: Font family '\"Noto Sans\"' not found.\n",
      "findfont: Font family '\"Liberation Sans\"' not found.\n",
      "findfont: Font family '\"Apple Color Emoji\"' not found.\n",
      "findfont: Font family '\"Segoe UI Emoji\"' not found.\n",
      "findfont: Font family '\"Segoe UI Symbol\"' not found.\n",
      "findfont: Font family '\"Noto Color Emoji\"' not found.\n"
     ]
    },
    {
     "data": {
      "image/png": "[encoded data removed]",
      "text/plain": [
       "<Figure size 640x480 with 1 Axes>"
      ]
     },
     "metadata": {},
     "output_type": "display_data"
    }
   ],
   "source": [
    "# SET UP ##############################################\n",
    "\n",
    "# load city inputs files, to be updated for each city scan\n",
    "with open(\"../mnt/city-directories/01-user-input/city_inputs.yml\", 'r') as f:\n",
    "    city_inputs = yaml.safe_load(f)\n",
    "\n",
    "city = city_inputs['city_name'].replace(' ', '_').lower()\n",
    "country = city_inputs['country_name'].replace(' ', '_').lower()\n",
    "# load global inputs, such as data sources that generally remain the same across scans\n",
    "with open(\"../global_inputs.yml\", 'r') as f:\n",
    "    global_inputs = yaml.safe_load(f)\n",
    "\n",
    "# Read AOI shapefile --------\n",
    "# transform the input shp to correct prj (epsg 4326)\n",
    "aoi_file = gpd.read_file(os.path.join('..', city_inputs['AOI_path'])).to_crs(epsg=4326)\n",
    "features = aoi_file.geometry\n",
    "\n",
    "# Define output folder ---------\n",
    "output_folder = Path('../mnt/city-directories/02-process-output')\n",
    "# Define render folder ---------\n",
    "render_folder = Path('../mnt/city-directories/03-render-output')\n",
    "multi_scan_folder = Path('../multi-scan-materials')\n",
    "\n",
    "if not os.path.exists(output_folder):\n",
    "    os.mkdir(output_folder)\n",
    "\n",
    "fig, ax = plt.subplots()\n",
    "features.plot(ax=ax)\n",
    "plt.title('AOI')\n",
    "plt.xlabel('Longitude')\n",
    "plt.ylabel('Latitude')\n",
    "plt.show()\n",
    "\n",
    "font_dict = {\n",
    "    'family': 'system-ui, -apple-system, \"Segoe UI\", Roboto, \"Helvetica Neue\", Arial, '\n",
    "              '\"Noto Sans\", \"Liberation Sans\", sans-serif, \"Apple Color Emoji\", '\n",
    "              '\"Segoe UI Emoji\", \"Segoe UI Symbol\", \"Noto Color Emoji\"',\n",
    "    'size': 12,  \n",
    "    'color': 'black'  \n",
    "}"
   ]
  },
  {
   "cell_type": "code",
   "execution_count": 67,
   "id": "18954664-49f8-43b5-96c1-7faef1809401",
   "metadata": {},
   "outputs": [
    {
     "data": {
      "text/plain": [
       "2531.550103581857"
      ]
     },
     "execution_count": 67,
     "metadata": {},
     "output_type": "execute_result"
    }
   ],
   "source": [
    "#AOI AREA\n",
    "def calculate_aoi_area(features):\n",
    "    ureg = pint.UnitRegistry()\n",
    "    combined_geometry = unary_union(features)\n",
    "    avg_lng = combined_geometry.centroid.x\n",
    "    utm_zone = math.floor((avg_lng + 180) / 6) + 1\n",
    "    utm_crs = f\"+proj=utm +zone={utm_zone} +ellps=WGS84 +datum=WGS84 +units=m +no_defs\"\n",
    "    gdf = gpd.GeoDataFrame(geometry=[combined_geometry], crs=\"EPSG:4326\")  \n",
    "    gdf_utm = gdf.to_crs(utm_crs)\n",
    "    area_m2 = gdf_utm.geometry.area[0]\n",
    "    area_km2 = (area_m2 * ureg.m**2).to(ureg.km**2).magnitude\n",
    "\n",
    "    return area_km2\n",
    "\n",
    "calculate_aoi_area(features)\n"
   ]
  },
  {
   "cell_type": "code",
   "execution_count": 68,
   "id": "c1cc951b-ac81-470a-b400-dd38767a235b",
   "metadata": {},
   "outputs": [],
   "source": [
    "#Climate\n",
    "def get_koeppen_classification():\n",
    "    with open(\"../global_inputs.yml\", 'r') as f:\n",
    "        global_inputs = yaml.safe_load(f)\n",
    "    centroid = features.centroid.values[0]\n",
    "    coords = {' Lon': centroid.x, 'Lat': centroid.y}\n",
    "\n",
    "    koeppen_file_path = global_inputs.get('koeppen_source')\n",
    "    koeppen = pd.read_csv(koeppen_file_path)\n",
    "\n",
    "    lon_min, lon_max = coords[' Lon'] - 0.5, coords[' Lon'] + 0.5\n",
    "    lat_min, lat_max = coords['Lat'] - 0.5, coords['Lat'] + 0.5\n",
    "    koeppen_city = koeppen[\n",
    "        (koeppen[' Lon'].between(lon_min, lon_max)) &\n",
    "        (koeppen['Lat'].between(lat_min, lat_max))\n",
    "    ][' Cls'].unique()\n",
    "\n",
    "\n",
    "    koeppen_text = ', '.join(koeppen_city)\n",
    "    print(f\"Köppen climate classification: {koeppen_text} (See https://en.wikipedia.org/wiki/Köppen_climate_classification for classes)\")\n",
    "    return koeppen_city\n"
   ]
  },
  {
   "cell_type": "code",
   "execution_count": 69,
   "id": "ad67458f",
   "metadata": {},
   "outputs": [],
   "source": [
    "def check_city_in_oxford(city, country):\n",
    "    oxford_locations = pd.read_csv(global_inputs['oxford_locations_source'])\n",
    "    oxford_locations_in_country = oxford_locations[oxford_locations['Country'] == country]\n",
    "    in_oxford = city in oxford_locations_in_country['Location'].values\n",
    "    \n",
    "    if not in_oxford:\n",
    "        print(f\"{city} is not in Oxford Locations.\")\n",
    "\n",
    "    oxford_full = pd.read_csv(global_inputs['oxford_global_source'])\n",
    "        \n",
    "    if in_oxford:\n",
    "        city_pop = (oxford_full[(oxford_full['Location'] == city) & \n",
    "                                (oxford_full['Indicator'] == 'Total population')]['2021'] * 1000).values[0]\n",
    "        print(f\"The population of {city} is {city_pop}\")\n",
    "    else:\n",
    "        print(f\"Population data for {city} does not exist in Oxford Economics. Check citypopulation.de or add manually\")\n",
    "    \n",
    "    return in_oxford, oxford_full"
   ]
  },
  {
   "cell_type": "code",
   "execution_count": 70,
   "id": "d525459c",
   "metadata": {},
   "outputs": [],
   "source": [
    "#CityPopulation.de\n",
    "def get_de_pop_growth(city, country):\n",
    "    try:\n",
    "        url = f'https://www.citypopulation.de/en/{country.lower().replace(\" \", \"\")}/cities/'\n",
    "        response = requests.get(url)\n",
    "        soup = BeautifulSoup(response.content, 'html.parser')\n",
    "        \n",
    "        def get_pop(city, soup, table_id):\n",
    "            html_table = soup.find('section', id=table_id).find('table')\n",
    "            if html_table:\n",
    "                cities_df = pd.read_html(str(html_table))[0]\n",
    "                city_pop = cities_df[cities_df['Name'].str.contains(city, case=False, na=False)]\n",
    "                return city_pop\n",
    "            return pd.DataFrame()\n",
    "\n",
    "        table_ids = ['citysection', 'largecities', 'adminareas']\n",
    "        city_pop = pd.DataFrame()\n",
    "\n",
    "        for table_id in table_ids:\n",
    "            city_pop = get_pop(city, soup, table_id)\n",
    "            if not city_pop.empty:\n",
    "                break\n",
    "        \n",
    "        if city_pop.empty:\n",
    "            # Load alternate city name from city_inputs.yaml\n",
    "            with open(\"city_inputs.yaml\", 'r') as file:\n",
    "                city_inputs = yaml.safe_load(file)\n",
    "            alternate_city_name = city_inputs.get('alternate_city_name', None)\n",
    "\n",
    "            if alternate_city_name:\n",
    "                for table_id in table_ids:\n",
    "                    city_pop = get_pop(alternate_city_name, soup, table_id)\n",
    "                    if not city_pop.empty:\n",
    "                        city = alternate_city_name\n",
    "                        break\n",
    "        \n",
    "        if city_pop.empty:\n",
    "            raise ValueError(f\"{city} (and alternate name if provided) cannot be found in citypopulation.de. Try manual entry instead.\")\n",
    "        \n",
    "        cols = city_pop.columns\n",
    "        pop_cols = cols[cols.str.contains('Population')]\n",
    "        pop_df = pd.melt(city_pop, id_vars=['Name', 'Area'], value_vars=pop_cols, var_name='Year', value_name='Population')\n",
    "\n",
    "        pop_df['Year'] = pop_df['Year'].str.extract(r'(\\d{4})').astype(int)\n",
    "        pop_df['Population'] = pop_df['Population'].astype(int)\n",
    "        pop_df['Source'] = 'citypopulation.de'\n",
    "        pop_df['Area_km'] = pop_df['Area'].astype(int) / 100\n",
    "        pop_df = pop_df.rename(columns={'Name': 'Location'})\n",
    "        pop_df = pop_df[['Location', 'Year', 'Population', 'Area_km', 'Source']]\n",
    "\n",
    "        pop_df = pop_df.sort_values(by='Year')\n",
    "        return pop_df\n",
    "    \n",
    "    except Exception as e:\n",
    "        print(e)\n",
    "        return None"
   ]
  },
  {
   "cell_type": "code",
   "execution_count": 71,
   "id": "4d41e977",
   "metadata": {},
   "outputs": [],
   "source": [
    "#Population plot CityPopulation.de\n",
    "def plot_population_growth(pop_growth, city):\n",
    "    try:\n",
    "        if pop_growth is None or pop_growth.empty:\n",
    "            raise ValueError(\"Population growth data is empty or None.\")\n",
    "        \n",
    "        \n",
    "        pop_min_year = pop_growth['Year'].min()\n",
    "        pop_max_year = pop_growth['Year'].max()\n",
    "\n",
    "        breaks = range(pop_min_year, pop_max_year + 1, 5 if pop_max_year - pop_min_year > 15 else 2)\n",
    "\n",
    "        plt.figure(figsize=(8.5, 6), dpi=300)\n",
    "        sns.lineplot(data=pop_growth, x='Year', y='Population', marker='o', hue='Location')\n",
    "\n",
    "        plt.xticks(breaks)\n",
    "        plt.gca().xaxis.set_minor_locator(plt.MultipleLocator(1))\n",
    "        plt.gca().yaxis.set_major_formatter(FuncFormatter(lambda x, _: f'{int(x):,}'))\n",
    "        plt.ylim(0, pop_growth['Population'].max() * 1.1)\n",
    "\n",
    "        plt.title(f\"{city} Population Growth, {pop_min_year}-{pop_max_year}\")\n",
    "        plt.xlabel('Year')\n",
    "        plt.ylabel('Population')\n",
    "        plt.legend(title='Location')\n",
    "        plt.grid(True, which='both', linestyle='--', linewidth=0.5)\n",
    "\n",
    "        legend = plt.gca().get_legend()\n",
    "        if legend:\n",
    "            legend.remove()\n",
    "\n",
    "\n",
    "        render_folder_path = Path(render_folder)\n",
    "        render_folder_path.mkdir(parents=True, exist_ok=True)\n",
    "        plt.savefig(render_folder_path / f\"{city.lower().replace(' ', '_')}-pop-growth.png\", dpi=300, bbox_inches='tight')\n",
    "\n",
    "        fig = px.line(\n",
    "            pop_growth, \n",
    "            x='Year', \n",
    "            y='Population', \n",
    "            color='Location', \n",
    "            line=dict(color='black'),\n",
    "            markers=True, \n",
    "            labels={'Year': 'Year', 'Population': 'Population'}\n",
    "        )\n",
    "\n",
    "        pop_min_year = pop_growth['Year'].min()\n",
    "        pop_max_year = pop_growth['Year'].max()\n",
    "        breaks = list(range(pop_min_year, pop_max_year + 1, 5 if pop_max_year - pop_min_year > 15 else 2))\n",
    "\n",
    "        fig.update_xaxes(\n",
    "            tickmode='array',\n",
    "            tickvals=breaks,\n",
    "            ticktext=[str(year) for year in breaks]\n",
    "        )\n",
    "        fig.update_yaxes(\n",
    "            tickformat=','\n",
    "        )\n",
    "\n",
    "        fig.update_layout(\n",
    "            template='plotly_white',\n",
    "            autosize=True,\n",
    "            xaxis_title='Year',\n",
    "            yaxis_title='Population',\n",
    "            legend=dict(\n",
    "                orientation=\"h\",\n",
    "                yanchor=\"top\",\n",
    "                y=-0.2,\n",
    "                xanchor=\"center\",\n",
    "                x=0.5\n",
    "            ),\n",
    "            xaxis=dict(\n",
    "                linecolor='black'\n",
    "            ),\n",
    "            yaxis=dict(\n",
    "                linecolor='black'\n",
    "            ),\n",
    "            showlegend=False,\n",
    "            font=font_dict,\n",
    "            plot_bgcolor='white'\n",
    "        )\n",
    "        fig.show()\n",
    "        render_path_html = os.path.join(render_folder, f\"{city}_pop_growth.html\")\n",
    "        fig.write_html(render_path_html,full_html=False, include_plotlyjs='cdn')\n",
    "    \n",
    "    except Exception as e:\n",
    "        print(f\"Error plotting population growth for {city}: {str(e)}\")\n",
    "\n",
    "def main():\n",
    "    try:\n",
    "        pop_growth = get_de_pop_growth(city, country)\n",
    "        \n",
    "        if pop_growth is not None and not pop_growth.empty:\n",
    "\n",
    "            pop_growth.to_csv(csv_path, index=False)\n",
    " \n",
    "            pop_growth_message = pop_growth[pop_growth['Location'].str.contains(city, case=False, na=False)].sort_values(by='Year')\n",
    "            \n",
    "            if pop_growth_message.empty:\n",
    "                print(f\"No population growth data found for {city} after filtering.\")\n",
    "            else:\n",
    "                plot_population_growth(pop_growth_message, city)\n",
    "        else:\n",
    "            print(f\"{city} population data could not be retrieved from CityPopulation.de. Try manual entry instead\")\n",
    "    except Exception as e:\n",
    "        print(f\"An error occurred: {str(e)}\")\n",
    "\n"
   ]
  },
  {
   "cell_type": "code",
   "execution_count": 72,
   "id": "cca28f41",
   "metadata": {},
   "outputs": [],
   "source": [
    "#Benchmark Cities\n",
    "def find_benchmark_cities(city, country):\n",
    "    try:\n",
    "        nearby_countries_string = city_inputs['nearby_countries_string']\n",
    "\n",
    "        oxford_locations = pd.read_csv(global_inputs['oxford_locations_source'])\n",
    "        oxford_full = pd.read_csv(global_inputs['oxford_global_source'])\n",
    "\n",
    "        nearby_cities = oxford_locations[\n",
    "            oxford_locations['Country'].str.lower().str.contains(nearby_countries_string) &\n",
    "            (oxford_locations['Location'] != country) &\n",
    "            (~oxford_locations['Location'].str.contains(\"Total\"))\n",
    "        ]['Location'].tolist()\n",
    "        print(\"Nearby cities:\", nearby_cities)\n",
    "\n",
    "        city_pop_df = oxford_full[\n",
    "            (oxford_full['Location'] == city) & \n",
    "            (oxford_full['Indicator'] == 'Total population')\n",
    "        ]\n",
    "        \n",
    "        if city_pop_df.empty:\n",
    "            raise ValueError(f\"No population data found for {city}.\")\n",
    "\n",
    "        city_pop = city_pop_df['2021'].values[0] * 1000\n",
    "        bm_cities_df = oxford_full[\n",
    "            (oxford_full['Location'].isin(nearby_cities)) &\n",
    "            (oxford_full['Indicator'] == \"Total population\") &\n",
    "            (\n",
    "                (oxford_full['2021'].between(city_pop * 0.5 / 1000, city_pop * 1.5 / 1000)) |\n",
    "                (oxford_full['Country'] == country)\n",
    "            ) &\n",
    "            (oxford_full['Location'] != city)\n",
    "        ]\n",
    "\n",
    "        if bm_cities_df.empty:\n",
    "            print(f\"No benchmark cities found for {city}. Proceed to next step of adding manual benchmark cities\")\n",
    "\n",
    "\n",
    "        bm_cities = bm_cities_df['Location'].tolist()\n",
    "\n",
    "        return bm_cities\n",
    "\n",
    "    except Exception as e:\n",
    "        print(f\"Error finding benchmark cities. Proceed to next step of adding manual benchmark cities\")\n",
    "        return []\n",
    "\n"
   ]
  },
  {
   "cell_type": "code",
   "execution_count": 73,
   "id": "b5022f64",
   "metadata": {},
   "outputs": [],
   "source": [
    "#Oxford National Shares\n",
    "def create_national_shares_plot():\n",
    "    oxford_full = pd.read_csv(global_inputs['oxford_global_source'])\n",
    "    oxford_locations = pd.read_csv(global_inputs['oxford_locations_source'])\n",
    "    filtered_oxford = oxford_full[oxford_full['Location'].isin([city] + bm_cities)]\n",
    "\n",
    "    if len(filtered_oxford) > 0:\n",
    "\n",
    "        filtered_oxford['Group'] = np.where(filtered_oxford['Location'] == city, city, 'Benchmark')\n",
    "        filtered_oxford['Group'] = pd.Categorical(filtered_oxford['Group'], categories=[city, 'Benchmark'], ordered=True)\n",
    "\n",
    "        oxford_filtered = filtered_oxford[filtered_oxford['Indicator'].isin(extra_inds)].drop_duplicates(subset=['Group', 'Location', 'Country', 'Indicator'])\n",
    "        oxford_countries_filtered = oxford_countries[oxford_countries['Indicator'].isin(extra_inds)].drop_duplicates(subset=['Country', 'Indicator'])\n",
    "\n",
    "        oxford_wide = oxford_filtered.pivot(index=['Group', 'Location', 'Country'], columns='Indicator', values='2021').reset_index()\n",
    "        oxford_countries_wide = oxford_countries_filtered.pivot(index='Country', columns='Indicator', values='2021').reset_index()\n",
    "        national_shares = pd.merge(oxford_wide, oxford_countries_wide, on='Country', suffixes=('', '_national'))\n",
    "        national_shares['Population Share'] = national_shares['Total population'] / national_shares['Total population_national']\n",
    "        national_shares['GDP Share'] = national_shares['GDP, real, US$ - Total'] / national_shares['GDP, real, US$ - Total_national']\n",
    "        national_shares['Employment Share'] = national_shares['Employment - Total'] / national_shares['Employment - Total_national']\n",
    "        national_shares = national_shares[['Group', 'Location', 'Population Share', 'GDP Share', 'Employment Share']]\n",
    "        national_shares = national_shares.sort_values(by=['Group', 'Population Share'], ascending=[False, False])\n",
    "        national_shares['Location'] = pd.Categorical(national_shares['Location'], categories=national_shares['Location'].unique(), ordered=True)\n",
    "\n",
    "        national_shares_long = national_shares.melt(id_vars=['Group', 'Location'], \n",
    "                                                    value_vars=['Population Share', 'GDP Share', 'Employment Share'], \n",
    "                                                    var_name='Indicator', value_name='Percentage')\n",
    "        national_shares_long['Indicator'] = pd.Categorical(national_shares_long['Indicator'], \n",
    "                                                           categories=['GDP Share', 'Employment Share', 'Population Share'], \n",
    "                                                           ordered=True)\n",
    "        fig = px.bar(national_shares_long, x='Percentage', y='Location', color='Indicator', barmode='group',\n",
    "                     labels={'Percentage': 'Percentage', 'Location': 'City'})\n",
    "\n",
    "        fig.update_layout(\n",
    "            xaxis=dict(\n",
    "                tickformat='.0%',\n",
    "                dtick=0.05,\n",
    "                range=[0, round(national_shares[['Population Share', 'GDP Share', 'Employment Share']].max().max(), 1)],\n",
    "                title=dict(font=dict(size=14, color='black', family=\"Arial\")),\n",
    "                tickfont=dict(size=12, color='black', family=\"Arial\"),\n",
    "                linecolor='black'\n",
    "            ),\n",
    "            yaxis=dict(\n",
    "                title='City',\n",
    "                titlefont=dict(size=14, color='black', family=\"Arial\"),\n",
    "                tickfont=dict(size=12, color='black', family=\"Arial\"),\n",
    "                linecolor='black'\n",
    "            ),\n",
    "            template='plotly_white',\n",
    "            showlegend=False,\n",
    "            margin=dict(l=40, r=40, t=80, b=40),\n",
    "            title=dict(font=dict(size=20, color='black', family=\"Arial\")),\n",
    "            autosize=True,\n",
    "            font=font_dict,\n",
    "            plot_bgcolor='white'\n",
    "        )\n",
    "\n",
    "        fig.update_yaxes(categoryorder='total ascending')\n",
    "        file_path_html = Path(render_folder) / f\"{city.lower().replace(' ', '_')}-national-shares.html\"\n",
    "        fig.write_html(file_path_html,full_html=False, include_plotlyjs='cdn')\n",
    "        fig.show()\n",
    "        plt.figure(figsize=(8.5, 6))\n",
    "        sns.barplot(data=national_shares_long, x='Percentage', y='Location', hue='Indicator', dodge=True)\n",
    "        plt.title(\"Cities' shares of national population, employment & GDP\")\n",
    "        plt.xlabel('Percentage')\n",
    "        plt.ylabel('City')\n",
    "        plt.legend(title='', loc='lower center', bbox_to_anchor=(0.5, -0.15), ncol=3)\n",
    "        plt.grid(True, which='both', linestyle='--', linewidth=0.5)\n",
    "        plt.tight_layout()\n",
    "        file_path_png = Path(render_folder) / f\"{city.lower().replace(' ', '_')}-national-shares.png\"\n",
    "        plt.savefig(file_path_png, format='png', dpi=300)"
   ]
  },
  {
   "cell_type": "code",
   "execution_count": 74,
   "id": "4774d97f",
   "metadata": {},
   "outputs": [],
   "source": [
    "#Oxford Pop Growth\n",
    "def oxford_pop_growth_plot():\n",
    "    Path(render_folder).mkdir(parents=True, exist_ok=True)\n",
    "\n",
    "    oxford = pd.read_csv(global_inputs['oxford_global_source'])\n",
    "    filtered_oxford = oxford[oxford['Location'].isin([city] + bm_cities)]\n",
    "\n",
    "    if len(filtered_oxford) > 0:\n",
    "        filtered_oxford['Group'] = np.where(filtered_oxford['Location'] == city, city, 'Benchmark')\n",
    "        filtered_oxford['Group'] = pd.Categorical(filtered_oxford['Group'], categories=[city, 'Benchmark'], ordered=True)\n",
    "\n",
    "        pop_longitude = filtered_oxford[filtered_oxford['Indicator'] == \"Total population\"]\n",
    "        pop_longitude = pop_longitude.melt(id_vars=['Group', 'Location'], value_vars=[col for col in pop_longitude.columns if '20' in col], var_name='Year', value_name='Population')\n",
    "        pop_longitude['Year'] = pop_longitude['Year'].astype(int)\n",
    "\n",
    "        pop_longitude['Population'] = pop_longitude['Population'] * 6\n",
    "\n",
    "        plt.figure(figsize=(8.5, 6))\n",
    "        \n",
    "        for location in bm_cities:\n",
    "            city_data = pop_longitude[pop_longitude['Location'] == location]\n",
    "            if not city_data.empty:\n",
    "                plt.plot(city_data['Year'], city_data['Population'], color='grey', linestyle='-', linewidth=1)\n",
    "        \n",
    "        city_data = pop_longitude[pop_longitude['Location'] == city]\n",
    "        if not city_data.empty:\n",
    "            plt.plot(city_data['Year'], city_data['Population'], color='black', linestyle='-', linewidth=2, marker='o')\n",
    "\n",
    "        plt.title(f\"Population of {city} and benchmark cities\")\n",
    "        plt.xlabel('Year')\n",
    "        plt.ylabel('Population')\n",
    "        plt.grid(True, which='both', linestyle='--', linewidth=0.5)\n",
    "        texts = []\n",
    "        for location in [city] + bm_cities:\n",
    "            city_data = pop_longitude[pop_longitude['Location'] == location]\n",
    "            if not city_data.empty:\n",
    "                last_point = city_data.iloc[-1]\n",
    "                texts.append(plt.text(last_point['Year'], last_point['Population'], location,\n",
    "                                      horizontalalignment='left', bbox=dict(facecolor='white', edgecolor='none', pad=1.0)))\n",
    "        adjust_text(texts, arrowprops=dict(arrowstyle='->', color='red'))\n",
    "\n",
    "        plt.tight_layout()\n",
    "        plt.savefig(Path(render_folder) / f\"{city.lower().replace(' ', '_')}-oxford-pop-plot.png\", format='png', dpi=300)\n",
    "        plt.show()\n",
    "        \n",
    "\n",
    "        fig = px.line(pop_longitude, x='Year', y='Population', color='Location')\n",
    "        for location in bm_cities:\n",
    "            fig.update_traces(selector=dict(name=location), line=dict(dash='dash'), mode='lines')\n",
    "        fig.update_traces(selector=dict(name=city), line=dict(dash='solid',color='black'), mode='lines')\n",
    "        fig.update_layout(\n",
    "            template='plotly_white',\n",
    "            autosize=True,\n",
    "            showlegend=False,  \n",
    "            legend=dict(\n",
    "                orientation=\"h\", \n",
    "                yanchor=\"bottom\",\n",
    "                y=-0.3, \n",
    "                xanchor=\"center\",\n",
    "                x=0.5,\n",
    "                title_text='',  \n",
    "            ),\n",
    "            xaxis=dict(\n",
    "                linecolor='black'  \n",
    "            ),\n",
    "            yaxis=dict(\n",
    "                range=[0, None],\n",
    "                linecolor='black'  \n",
    "            ),\n",
    "            margin=dict(l=40, r=40, t=80, b=40),\n",
    "            title=dict(font=dict(size=20, color='black', family=\"Arial\")),\n",
    "            font=font_dict,\n",
    "            plot_bgcolor='white'\n",
    "        )\n",
    "\n",
    "        fig.write_html(Path(render_folder) / f\"{city.lower().replace(' ', '_')}-oxford-pop-plot.html\", full_html=False, include_plotlyjs='cdn')\n",
    "        fig.show()"
   ]
  },
  {
   "cell_type": "code",
   "execution_count": 75,
   "id": "a3cb1e31",
   "metadata": {},
   "outputs": [],
   "source": [
    "#Oxford Employment Growth\n",
    "def oxford_emp_growth_plot():\n",
    "    Path(render_folder).mkdir(parents=True, exist_ok=True)\n",
    "    oxford = pd.read_csv(global_inputs['oxford_global_source'])\n",
    "    filtered_oxford = oxford[oxford['Location'].isin([city] + bm_cities)]\n",
    "\n",
    "    if len(filtered_oxford) > 0:\n",
    "        filtered_oxford['Group'] = np.where(filtered_oxford['Location'] == city, city, 'Benchmark')\n",
    "        filtered_oxford['Group'] = pd.Categorical(filtered_oxford['Group'], categories=[city, 'Benchmark'], ordered=True)\n",
    "        emp_longitude = filtered_oxford[filtered_oxford['Indicator'].isin([\"Employment - Total\"])]\n",
    "        emp_longitude = emp_longitude.melt(id_vars=['Group', 'Location', 'Country', 'Indicator'], value_vars=[col for col in emp_longitude.columns if col.isdigit()], var_name='Year', value_name='Value')\n",
    "        emp_longitude = emp_longitude.pivot_table(values='Value', index=['Group', 'Location', 'Country', 'Year'], columns='Indicator').reset_index()\n",
    "        emp_longitude['Year'] = emp_longitude['Year'].astype(int)\n",
    "        emp_longitude['Total employed'] = emp_longitude['Employment - Total'] * 1000\n",
    "        emp_longitude = emp_longitude[emp_longitude['Year'] <= 2021].dropna(subset=['Total employed'])\n",
    "        plt.figure(figsize=(8.5, 6))\n",
    "        for location in bm_cities:\n",
    "            city_data = emp_longitude[emp_longitude['Location'] == location]\n",
    "            if not city_data.empty:\n",
    "                plt.plot(city_data['Year'], city_data['Total employed'], color='grey', linestyle='-', linewidth=1)\n",
    "        \n",
    "        city_data = emp_longitude[emp_longitude['Location'] == city]\n",
    "        if not city_data.empty:\n",
    "            plt.plot(city_data['Year'], city_data['Total employed'], color='black', linestyle='-', linewidth=2, marker='o')\n",
    "\n",
    "        plt.title(f\"Employment of {city} and benchmark cities\")\n",
    "        plt.xlabel('Year')\n",
    "        plt.ylabel('Total employed')\n",
    "        plt.grid(True, which='both', linestyle='--', linewidth=0.5)\n",
    "\n",
    "        texts = []\n",
    "        for location in [city] + bm_cities:\n",
    "            city_data = emp_longitude[emp_longitude['Location'] == location]\n",
    "            if not city_data.empty:\n",
    "                last_point = city_data.iloc[-1]\n",
    "                texts.append(plt.text(last_point['Year'], last_point['Total employed'], location,\n",
    "                                      horizontalalignment='left', bbox=dict(facecolor='white', edgecolor='none', pad=1.0)))\n",
    "\n",
    "        adjust_text(texts, arrowprops=dict(arrowstyle='-', color='red'))\n",
    "\n",
    "        plt.tight_layout()\n",
    "        plt.savefig(Path(render_folder) / f\"{city.lower().replace(' ', '_')}-oxford-emp-plot.png\", format='png', dpi=300)\n",
    "        plt.show()\n",
    "\n",
    "        fig = px.line(emp_longitude, x='Year', y='Total employed', color='Location')\n",
    "\n",
    "        for location in bm_cities:\n",
    "            fig.update_traces(selector=dict(name=location), line=dict(dash='dash', width=1), mode='lines')\n",
    "        fig.update_traces(selector=dict(name=city), line=dict(dash='solid', color='black', width=2), mode='lines')\n",
    "        fig.update_layout(\n",
    "            template='plotly_white',\n",
    "            autosize=True,\n",
    "            showlegend=False,\n",
    "            legend=dict(\n",
    "                orientation=\"h\",\n",
    "                yanchor=\"top\",\n",
    "                y=-0.2,\n",
    "                xanchor=\"center\",\n",
    "                x=0.5\n",
    "            ),\n",
    "            xaxis=dict(\n",
    "                linecolor='black'  \n",
    "            ),\n",
    "            yaxis=dict(\n",
    "                linecolor='black'  \n",
    "            ),\n",
    "            font=font_dict,\n",
    "            plot_bgcolor='white'\n",
    "        )\n",
    "\n",
    "        fig.write_html(Path(render_folder) / f\"{city.lower().replace(' ', '_')}-oxford-emp-plot.html\", full_html=False, include_plotlyjs='cdn')\n",
    "        fig.show()\n"
   ]
  },
  {
   "cell_type": "code",
   "execution_count": 76,
   "id": "d59f14f1",
   "metadata": {},
   "outputs": [],
   "source": [
    "#Oxford GDP Growth\n",
    "def oxford_gdp_growth_plot():\n",
    "    Path(render_folder).mkdir(parents=True, exist_ok=True)\n",
    "    oxford = pd.read_csv(global_inputs['oxford_global_source'])\n",
    "    filtered_oxford = oxford[oxford['Location'].isin([city] + bm_cities)]\n",
    "\n",
    "    if len(filtered_oxford) > 0:\n",
    "        filtered_oxford['Group'] = np.where(filtered_oxford['Location'] == city, city, 'Benchmark')\n",
    "        filtered_oxford['Group'] = pd.Categorical(filtered_oxford['Group'], categories=[city, 'Benchmark'], ordered=True)\n",
    "\n",
    "        gdp_longitude = filtered_oxford[filtered_oxford['Indicator'] == \"GDP, real, US$ - Total\"]\n",
    "\n",
    "        value_vars = [col for col in gdp_longitude.columns if col.isdigit()]\n",
    "        if not value_vars:\n",
    "            raise ValueError(\"No valid year columns found for melting.\")\n",
    "        \n",
    "        gdp_longitude = gdp_longitude.melt(id_vars=['Group', 'Location', 'Country', 'Indicator'], \n",
    "                                           value_vars=value_vars, \n",
    "                                           var_name='Year', value_name='Value')\n",
    "        \n",
    "\n",
    "        gdp_longitude = gdp_longitude.pivot_table(values='Value', index=['Group', 'Location', 'Country', 'Year'], \n",
    "                                                  columns='Indicator').reset_index()\n",
    "        gdp_longitude['Year'] = gdp_longitude['Year'].astype(int)\n",
    "        gdp_longitude['GDP'] = gdp_longitude['GDP, real, US$ - Total'] * 1e6\n",
    "        gdp_longitude = gdp_longitude[gdp_longitude['Year'] <= 2021].dropna(subset=['GDP'])\n",
    "\n",
    "        plt.figure(figsize=(8.5, 6))\n",
    "\n",
    "        for location in bm_cities:\n",
    "            city_data = gdp_longitude[gdp_longitude['Location'] == location]\n",
    "            if not city_data.empty:\n",
    "                plt.plot(city_data['Year'], city_data['GDP'], color='grey', linestyle='-', linewidth=1)\n",
    "\n",
    "        city_data = gdp_longitude[gdp_longitude['Location'] == city]\n",
    "        if not city_data.empty:\n",
    "            plt.plot(city_data['Year'], city_data['GDP'], color='black', linestyle='-', linewidth=2, marker='o')\n",
    "\n",
    "        plt.title(f\"GDP of {city} and benchmark cities\")\n",
    "        plt.xlabel('Year')\n",
    "        plt.ylabel('GDP')\n",
    "        plt.grid(True, which='both', linestyle='--', linewidth=0.5)\n",
    "\n",
    "        texts = []\n",
    "        for location in [city] + bm_cities:\n",
    "            city_data = gdp_longitude[gdp_longitude['Location'] == location]\n",
    "            if not city_data.empty:\n",
    "                last_point = city_data.iloc[-1]\n",
    "                texts.append(plt.text(last_point['Year'], last_point['GDP'], location,\n",
    "                                      horizontalalignment='left', bbox=dict(facecolor='white', edgecolor='none', pad=1.0)))\n",
    "\n",
    "        adjust_text(texts, arrowprops=dict(arrowstyle='->', color='red'))\n",
    "\n",
    "        plt.tight_layout()\n",
    "        plt.savefig(Path(render_folder) / f\"{city.lower().replace(' ', '_')}-oxford-gdp-plot.png\", format='png', dpi=300)\n",
    "        plt.show()\n",
    "\n",
    "        fig = px.line(gdp_longitude, x='Year', y='GDP', color='Location')\n",
    "\n",
    "        for location in bm_cities:\n",
    "            fig.update_traces(selector=dict(name=location), line=dict(dash='dash', width=1), mode='lines')\n",
    "        fig.update_traces(selector=dict(name=city), line=dict(dash='solid', color='black', width=2), mode='lines')\n",
    "\n",
    "        fig.update_layout(\n",
    "            template='plotly_white',\n",
    "            autosize=True,\n",
    "            showlegend=False,\n",
    "            legend=dict(\n",
    "                orientation=\"h\",\n",
    "                yanchor=\"top\",\n",
    "                y=-0.2,\n",
    "                xanchor=\"center\",\n",
    "                x=0.5\n",
    "            ),\n",
    "            xaxis=dict(\n",
    "                linecolor='black'  \n",
    "            ),\n",
    "            yaxis=dict(\n",
    "                linecolor='black'  \n",
    "            ),\n",
    "            font=font_dict,\n",
    "            plot_bgcolor='white'\n",
    "        )\n",
    "\n",
    "        fig.write_html(Path(render_folder) / f\"{city.lower().replace(' ', '_')}-oxford-gdp-plot.html\", full_html=False, include_plotlyjs='cdn')\n",
    "        fig.show()\n"
   ]
  },
  {
   "cell_type": "code",
   "execution_count": 77,
   "id": "e15ef657",
   "metadata": {},
   "outputs": [],
   "source": [
    "#Oxford GVA shares\n",
    "def oxford_emp_gva_shares_plot():\n",
    "    Path(render_folder).mkdir(parents=True, exist_ok=True)\n",
    "    oxford = pd.read_csv(global_inputs['oxford_global_source'])\n",
    "    filtered_oxford = oxford[oxford['Location'].isin([city] + bm_cities)]\n",
    "\n",
    "    if len(filtered_oxford) > 0:\n",
    "        filtered_oxford['Group'] = np.where(filtered_oxford['Location'] == city, city, 'Benchmark')\n",
    "        filtered_oxford['Group'] = pd.Categorical(filtered_oxford['Group'], categories=[city, 'Benchmark'], ordered=True)\n",
    "        emp_shares = filtered_oxford[filtered_oxford['Indicator'].isin(emp_inds) & (filtered_oxford['Indicator'] != \"Employment - Total\")]\n",
    "        emp_shares = emp_shares[['Group', 'Location', 'Indicator', '2021']].rename(columns={'2021': 'Value'})\n",
    "        emp_shares['Indicator'] = emp_shares['Indicator'].str.replace(\"Employment - \", \"\").str.replace(\"Transport, storage, information & communication services\", \"Transport & ICT\")\n",
    "        emp_shares['Share'] = emp_shares.groupby(['Location', 'Group'])['Value'].transform(lambda x: x / x.sum())\n",
    "\n",
    "        emp_shares2 = emp_shares.groupby(['Group', 'Indicator']).agg({'Share': 'median'}).reset_index().sort_values(by=['Group', 'Share'], ascending=[False, False])\n",
    "        \n",
    "        sector_order = emp_shares2[emp_shares2['Group'] == city]['Indicator'].unique()\n",
    "        sector_order = list(sector_order[sector_order != \"Other\"]) + [\"Other\"]\n",
    "        \n",
    "        emp_shares['Indicator'] = pd.Categorical(emp_shares['Indicator'], categories=sector_order, ordered=True)\n",
    "        emp_shares = emp_shares.sort_values(by='Indicator')\n",
    "        \n",
    "        emp_shares2['Indicator'] = pd.Categorical(emp_shares2['Indicator'], categories=sector_order, ordered=True)\n",
    "        emp_shares2 = emp_shares2.sort_values(by='Indicator')\n",
    "        emp_shares2['Share'] = np.where((emp_shares2['Indicator'] == \"Other\") & (emp_shares2['Group'] == \"Benchmark\"), emp_shares2['Share'] * 2 / 6, emp_shares2['Share'])\n",
    "\n",
    "        gva_shares = filtered_oxford[filtered_oxford['Indicator'].isin(gva_inds) & ~filtered_oxford['Indicator'].str.contains(\"Total\")]\n",
    "        gva_shares = gva_shares[['Group', 'Location', 'Indicator', '2021']].rename(columns={'2021': 'Value'})\n",
    "        gva_shares['Indicator'] = gva_shares['Indicator'].str.replace(\"Gross value added, real, US$ -\", \"\").str.replace(\"Transport, storage, information & communication services\", \"Transport & ICT\")\n",
    "        gva_shares['Indicator'] = gva_shares['Indicator'].str.replace(\".*- \", \"\").str.replace(\"Transport, storage, information & communication services\", \"Transport & ICT\")\n",
    "        gva_shares['Share'] = gva_shares.groupby(['Location', 'Group'])['Value'].transform(lambda x: x / x.sum())\n",
    "        gva_shares['Indicator'] = pd.Categorical(gva_shares['Indicator'], categories=sector_order, ordered=True)\n",
    "\n",
    "        gva_shares2 = gva_shares.groupby(['Group', 'Indicator']).agg({'Share': 'median'}).reset_index().sort_values(by=['Group', 'Indicator'])\n",
    "\n",
    "        ylims_shares = (0, np.ceil(max(emp_shares['Share'].max(), gva_shares['Share'].max()) * 10) / 10)\n",
    "        plt.figure(figsize=(12.5, 6))\n",
    "        for group in emp_shares2['Group'].unique():\n",
    "            data = emp_shares2[emp_shares2['Group'] == group]\n",
    "            plt.bar(data['Indicator'], data['Share'], label=group, alpha=0.7)\n",
    "\n",
    "        for location in emp_shares[emp_shares['Location'] != city]['Location'].unique():\n",
    "            location_data = emp_shares[emp_shares['Location'] == location]\n",
    "            plt.plot(location_data['Indicator'], location_data['Share'], 'o', color='darkgrey')\n",
    "\n",
    "        plt.title(f\"Share of employment by sector in {city} and median benchmark city\")\n",
    "        plt.xlabel(\"Sector\")\n",
    "        plt.ylabel(\"Share\")\n",
    "        plt.ylim(ylims_shares)\n",
    "        plt.xticks(rotation=30, ha='right')\n",
    "        plt.grid(True, which='both', linestyle='--', linewidth=0.5)\n",
    "        plt.legend(loc='best')\n",
    "        plt.tight_layout()\n",
    "        plt.savefig(Path(render_folder) / f\"{city.lower().replace(' ', '_')}-oxford-employment-sectors.png\", format='png', dpi=300)\n",
    "        plt.show()\n",
    "\n",
    "        fig = px.bar(emp_shares2, y='Indicator', x='Share', color='Group', barmode='group')\n",
    "\n",
    "        for location in emp_shares[emp_shares['Location'] != city]['Location'].unique():\n",
    "            location_data = emp_shares[emp_shares['Location'] == location]\n",
    "            fig.add_trace(go.Scatter(y=location_data['Indicator'], x=location_data['Share'], mode='markers', marker=dict(color='darkgrey'), name=location, showlegend=False))\n",
    "\n",
    "        fig.update_layout(\n",
    "            template='plotly_white',\n",
    "            autosize=True,\n",
    "            showlegend=True,  \n",
    "            legend=dict(\n",
    "                orientation=\"h\",\n",
    "                yanchor=\"top\",\n",
    "                y=-0.5,\n",
    "                xanchor=\"center\",\n",
    "                x=0.5\n",
    "            ),\n",
    "            yaxis=dict(\n",
    "                tickangle=0,  \n",
    "                title_text=None,\n",
    "                linecolor='black'  \n",
    "            ),\n",
    "            xaxis=dict(\n",
    "                tickformat=\".1%\",\n",
    "                range=ylims_shares,\n",
    "                title_text=None,\n",
    "                linecolor='black'  \n",
    "            ),\n",
    "            font=font_dict,\n",
    "            plot_bgcolor='white'\n",
    "        )\n",
    "\n",
    "        fig.write_html(Path(render_folder) / f\"{city.lower().replace(' ', '_')}-oxford-employment-sectors.html\", full_html=False, include_plotlyjs='cdn')\n",
    "        fig.show()\n",
    "\n"
   ]
  },
  {
   "cell_type": "code",
   "execution_count": 78,
   "id": "54c14e2e",
   "metadata": {},
   "outputs": [],
   "source": [
    "#Oxford GVA shares\n",
    "def oxford_gva_inequality_plot():\n",
    "    Path(render_folder).mkdir(parents=True, exist_ok=True)\n",
    "    oxford = pd.read_csv(global_inputs['oxford_global_source'])\n",
    "    filtered_oxford = oxford[oxford['Location'].isin([city] + bm_cities)]\n",
    "\n",
    "    if len(filtered_oxford) > 0:\n",
    "        filtered_oxford['Group'] = np.where(filtered_oxford['Location'] == city, city, 'Benchmark')\n",
    "        filtered_oxford['Group'] = pd.Categorical(filtered_oxford['Group'], categories=[city, 'Benchmark'], ordered=True)\n",
    "        gva_shares = filtered_oxford[filtered_oxford['Indicator'].isin(gva_inds) & ~filtered_oxford['Indicator'].str.contains(\"Total\")]\n",
    "        gva_shares = gva_shares[['Group', 'Location', 'Indicator', '2021']].rename(columns={'2021': 'Value'})\n",
    "        gva_shares['Indicator'] = gva_shares['Indicator'].str.replace(\"Gross value added, real, US$ -\", \"\").str.replace(\"Transport, storage, information & communication services\", \"Transport & ICT\")\n",
    "        gva_shares['Share'] = gva_shares.groupby(['Location', 'Group'])['Value'].transform(lambda x: x / x.sum())\n",
    "        gva_shares['Indicator'] = pd.Categorical(gva_shares['Indicator'], categories=gva_shares['Indicator'].unique(), ordered=True)\n",
    "\n",
    "        gva_shares2 = gva_shares.groupby(['Group', 'Indicator']).agg({'Share': 'median'}).reset_index().sort_values(by=['Group', 'Indicator'])\n",
    "        \n",
    "        ylims_shares = (0, np.ceil(gva_shares['Share'].max() * 10) / 10)\n",
    "\n",
    "        plt.figure(figsize=(12.5, 6))\n",
    "        for group in gva_shares2['Group'].unique():\n",
    "            data = gva_shares2[gva_shares2['Group'] == group]\n",
    "            plt.bar(data['Indicator'], data['Share'], label=group, alpha=0.7)\n",
    "\n",
    "        for location in gva_shares[gva_shares['Location'] != city]['Location'].unique():\n",
    "            location_data = gva_shares[gva_shares['Location'] == location]\n",
    "            plt.plot(location_data['Indicator'], location_data['Share'], 'o', color='darkgrey')\n",
    "\n",
    "        plt.title(f\"Share of GVA by sector in {city} and median benchmark city\")\n",
    "        plt.xlabel(\"Sector\")\n",
    "        plt.ylabel(\"Share\")\n",
    "        plt.ylim(ylims_shares)\n",
    "        plt.xticks(rotation=45, ha='right')\n",
    "        plt.grid(True, which='both', linestyle='--', linewidth=0.5)\n",
    "        plt.legend(loc='best')\n",
    "        plt.tight_layout()\n",
    "        plt.savefig(Path(render_folder) / f\"{city.lower().replace(' ', '_')}-oxford-gva-sectors.png\", format='png', dpi=300)\n",
    "        plt.show()\n",
    "\n",
    "        fig = px.bar(gva_shares2, y='Indicator', x='Share', color='Group', barmode='group')\n",
    "\n",
    "        for location in gva_shares[gva_shares['Location'] != city]['Location'].unique():\n",
    "            location_data = gva_shares[gva_shares['Location'] == location]\n",
    "            fig.add_trace(go.Scatter(y=location_data['Indicator'], x=location_data['Share'], mode='markers', marker=dict(color='darkgrey'), name=location, showlegend=False))  # Swap x and y\n",
    "\n",
    "        fig.update_layout(\n",
    "            template='plotly_white',\n",
    "            autosize=True,\n",
    "            showlegend=True,  \n",
    "            legend=dict(\n",
    "                orientation=\"h\",\n",
    "                yanchor=\"top\",\n",
    "                y=-0.5,\n",
    "                xanchor=\"center\",\n",
    "                x=0.5\n",
    "            ),\n",
    "            yaxis=dict(  \n",
    "                tickangle=0,\n",
    "                title_text=None,\n",
    "                linecolor='black'\n",
    "            ),\n",
    "            xaxis=dict(  \n",
    "                tickformat=\".1%\",\n",
    "                range=ylims_shares,\n",
    "                title_text=None,\n",
    "                linecolor='black'\n",
    "            ),\n",
    "            font=font_dict,\n",
    "            plot_bgcolor='white'\n",
    "        )\n",
    "\n",
    "        fig.write_html(Path(render_folder) / f\"{city.lower().replace(' ', '_')}-oxford-gva-sectors.html\", full_html=False, include_plotlyjs='cdn')\n",
    "        fig.show()\n",
    "\n"
   ]
  },
  {
   "cell_type": "code",
   "execution_count": 79,
   "id": "aebf9c9b",
   "metadata": {},
   "outputs": [],
   "source": [
    "#World Pop Age\n",
    "def age_stats():\n",
    "    with open(\"../global_inputs.yml\", 'r') as f:\n",
    "        global_inputs = yaml.safe_load(f)\n",
    "    city_inputs = global_inputs.get('city_inputs')\n",
    "\n",
    "    if menu['demographics']:  \n",
    "        age_file = os.path.join(output_folder, f\"{city}_demographics.csv\") \n",
    "        if os.path.exists(age_file):  \n",
    "            pass\n",
    "        else:\n",
    "            print(\"Demographics file does not exist.\")\n",
    "            return  \n",
    "    pop_dist_group_wp = pd.read_csv(age_file)\n",
    "\n",
    "    pop_dist_group_wp = pop_dist_group_wp.rename(columns={\"age_group\": \"Age_Bracket\", \"sex\": \"Sex\"})\n",
    "    pop_dist_group_wp['Count'] = pd.to_numeric(pop_dist_group_wp['population'], errors='coerce')\n",
    "    pop_dist_group_wp['Age_Bracket'] = pop_dist_group_wp['Age_Bracket'].replace({'<1': '0-4', '1-4': '0-4'})\n",
    "\n",
    "    # Define custom sorting for age brackets\n",
    "    age_order = ['0-4', '5-9', '10-14', '15-19', '20-24', '25-29', '30-34', '35-39', '40-44', '45-49', '50-54', '55-59', '60-64', '65-69', '70-74', '75-79', '80+']\n",
    "    pop_dist_group_wp['Age_Bracket'] = pd.Categorical(pop_dist_group_wp['Age_Bracket'], categories=age_order, ordered=True)\n",
    "    pop_dist_group_wp = pop_dist_group_wp.groupby(['Age_Bracket', 'Sex']).agg(Count=('Count', 'sum')).reset_index()\n",
    "\n",
    "    pop_dist_group_wp['Percentage'] = pop_dist_group_wp.groupby('Sex')['Count'].transform(lambda x: x / x.sum()) * 100\n",
    "    pop_dist_group_wp['Sexed_Percent'] = pop_dist_group_wp.groupby('Sex')['Count'].transform(lambda x: x / x.sum()) * 100\n",
    "    pop_dist_group_wp['Sexed_Percent_cum'] = pop_dist_group_wp.groupby('Sex')['Sexed_Percent'].cumsum()\n",
    "\n",
    "    colors = {'f': 'red', 'm': 'blue'}\n",
    "    plt.figure(figsize=(8, 6))\n",
    "    ax = sns.barplot(data=pop_dist_group_wp, x='Age_Bracket', y='Percentage', hue='Sex', dodge=True, palette=colors)\n",
    "\n",
    "    plt.title(f\"Population distribution in {city} by sex\")\n",
    "    plt.xlabel(\"Age Bracket\")\n",
    "    plt.ylabel(\"Percentage\")\n",
    "    legend_handles = []\n",
    "    for sex, color in colors.items():\n",
    "        legend_handles.append(plt.Line2D([0], [0], color=color, lw=4, label='Female' if sex == 'f' else 'Male'))\n",
    "    plt.legend(handles=legend_handles, title=\"Sex\", loc=\"upper right\")\n",
    "    plt.xticks(rotation=45)\n",
    "    plt.tight_layout()\n",
    "\n",
    "    render_path = os.path.join(render_folder, f\"{city}_age_stats.png\")\n",
    "    plt.savefig(render_path)\n",
    "    plt.close()\n",
    "\n",
    "\n",
    "    pop_dist_group_wp_sorted = pop_dist_group_wp.sort_values(by='Age_Bracket')\n",
    "    fig = px.bar(pop_dist_group_wp_sorted, x='Age_Bracket', y='Percentage', color='Sex', barmode='group',  \n",
    "                labels={'Age_Bracket': 'Age Bracket', 'Percentage': 'Percentage', 'Sex': 'Sex'})\n",
    "\n",
    "    fig.update_layout(template='plotly_white',xaxis_title=\"Age Bracket\", yaxis_title=\"Percentage\", legend_title=\"Sex\", legend=dict(\n",
    "            orientation=\"h\",  \n",
    "            yanchor=\"top\",\n",
    "            y=-0.4,  \n",
    "            xanchor=\"center\",\n",
    "            x=0.5\n",
    "        ),\n",
    "        xaxis=dict(\n",
    "                linecolor='black'  \n",
    "            ),\n",
    "        yaxis=dict(\n",
    "                linecolor='black'  \n",
    "            ),\n",
    "        autosize=True,\n",
    "        font=font_dict,\n",
    "        plot_bgcolor='white')\n",
    "    fig.for_each_trace(lambda t: t.update(name='Female' if t.name == 'f' else 'Male'))\n",
    "    fig.update_xaxes(tickangle=45)\n",
    "    fig.show()\n",
    "    fig.write_html(render_path.replace('.png', '.html'), full_html=False, include_plotlyjs='cdn')\n",
    "\n",
    "\n",
    "    under5 = pop_dist_group_wp[pop_dist_group_wp['Age_Bracket'] == '0-4']['Percentage'].sum()\n",
    "    youth = pop_dist_group_wp[pop_dist_group_wp['Age_Bracket'].isin(['15-19', '20-24'])]['Percentage'].sum()\n",
    "    total_percent = pop_dist_group_wp['Percentage'].sum()\n",
    "    working_age_rows = pop_dist_group_wp[pop_dist_group_wp['Age_Bracket'].isin(['15-19','20-24','25-29','30-34','35-39','40-44','45-49','50-54','55-59','60-64'])]\n",
    "    working_age_percent = working_age_rows['Percentage'].sum()\n",
    "    working_age = (working_age_percent / total_percent) \n",
    "    elderly = pop_dist_group_wp[pop_dist_group_wp['Age_Bracket'].isin(['60-64', '65-69', '70-74', '75-79', '80+'])]['Percentage'].sum()\n",
    "    total_count = pop_dist_group_wp['Count'].sum()\n",
    "    female_count = pop_dist_group_wp[pop_dist_group_wp['Sex'] == 'f']['Count'].sum()\n",
    "    female_pct = (female_count / total_count) * 100\n",
    "    sex_ratio = (1 - female_pct) / female_pct * 100\n",
    "    reproductive_age = pop_dist_group_wp[(pop_dist_group_wp['Sex'] == 'f') & (pop_dist_group_wp['Age_Bracket'].isin(['15-19', '20-24', '25-29', '30-34', '35-39', '40-44', '45-49']))]['Sexed_Percent'].sum()\n",
    "\n",
    "    print(f\"under5: {under5:.2f}%\")\n",
    "    print(f\"youth (15-24): {youth:.2f}%\")\n",
    "    print(f\"working_age (15-64): {working_age:.2f}%\")\n",
    "    print(f\"elderly (60+): {elderly:.2f}%\")\n",
    "    print(f\"reproductive_age, percent of women (15-50): {reproductive_age:.2f}%\")\n",
    "    print(f\"sex_ratio: {round(sex_ratio, 2)} males to 100 females\")\n"
   ]
  },
  {
   "cell_type": "code",
   "execution_count": 86,
   "id": "7ae3cd22-889c-4859-8555-c955df2d6bfd",
   "metadata": {},
   "outputs": [
    {
     "data": {
      "application/vnd.plotly.v1+json": {
       "config": {
        "plotlyServerURL": "https://plot.ly"
       },
       "data": [
        {
         "line": {
          "color": "black"
         },
         "mode": "lines+markers",
         "name": "Urban built-up area (sq. km)",
         "type": "scatter",
         "x": [
          1985,
          1986,
          1987,
          1988,
          1989,
          1990,
          1991,
          1992,
          1993,
          1994,
          1995,
          1996,
          1997,
          1998,
          1999,
          2000,
          2001,
          2002,
          2003,
          2004,
          2005,
          2006,
          2007,
          2008,
          2009,
          2010,
          2011,
          2012,
          2013,
          2014,
          2015
         ],
         "y": [
          110.96011890464142,
          126.25439528270246,
          133.1452411587593,
          137.07746822002173,
          142.54692821726871,
          146.7313896512448,
          150.2043365354814,
          153.1358422092349,
          157.5980079362964,
          162.5884691084878,
          169.3651111480391,
          176.50326173480215,
          182.9742647298926,
          187.19323379792073,
          193.69792281672864,
          202.444786438584,
          210.0750816157558,
          220.0765442185029,
          230.0122779944842,
          240.23557538756577,
          253.3213631862968,
          262.43302179670223,
          279.4009184262868,
          299.4892911065765,
          320.24481137853877,
          338.71707653072497,
          355.82546852752137,
          369.0394275384456,
          382.30432639011343,
          391.8637626328607,
          397.05551833702225
         ]
        }
       ],
       "layout": {
        "autosize": true,
        "font": {
         "color": "black",
         "family": "system-ui, -apple-system, \"Segoe UI\", Roboto, \"Helvetica Neue\", Arial, \"Noto Sans\", \"Liberation Sans\", sans-serif, \"Apple Color Emoji\", \"Segoe UI Emoji\", \"Segoe UI Symbol\", \"Noto Color Emoji\"",
         "size": 12
        },
        "hovermode": "x",
        "plot_bgcolor": "white",
        "showlegend": false,
        "template": {
         "data": {
          "bar": [
           {
            "error_x": {
             "color": "#2a3f5f"
            },
            "error_y": {
             "color": "#2a3f5f"
            },
            "marker": {
             "line": {
              "color": "white",
              "width": 0.5
             },
             "pattern": {
              "fillmode": "overlay",
              "size": 10,
              "solidity": 0.2
             }
            },
            "type": "bar"
           }
          ],
          "barpolar": [
           {
            "marker": {
             "line": {
              "color": "white",
              "width": 0.5
             },
             "pattern": {
              "fillmode": "overlay",
              "size": 10,
              "solidity": 0.2
             }
            },
            "type": "barpolar"
           }
          ],
          "carpet": [
           {
            "aaxis": {
             "endlinecolor": "#2a3f5f",
             "gridcolor": "#C8D4E3",
             "linecolor": "#C8D4E3",
             "minorgridcolor": "#C8D4E3",
             "startlinecolor": "#2a3f5f"
            },
            "baxis": {
             "endlinecolor": "#2a3f5f",
             "gridcolor": "#C8D4E3",
             "linecolor": "#C8D4E3",
             "minorgridcolor": "#C8D4E3",
             "startlinecolor": "#2a3f5f"
            },
            "type": "carpet"
           }
          ],
          "choropleth": [
           {
            "colorbar": {
             "outlinewidth": 0,
             "ticks": ""
            },
            "type": "choropleth"
           }
          ],
          "contour": [
           {
            "colorbar": {
             "outlinewidth": 0,
             "ticks": ""
            },
            "colorscale": [
             [
              0,
              "#0d0887"
             ],
             [
              0.1111111111111111,
              "#46039f"
             ],
             [
              0.2222222222222222,
              "#7201a8"
             ],
             [
              0.3333333333333333,
              "#9c179e"
             ],
             [
              0.4444444444444444,
              "#bd3786"
             ],
             [
              0.5555555555555556,
              "#d8576b"
             ],
             [
              0.6666666666666666,
              "#ed7953"
             ],
             [
              0.7777777777777778,
              "#fb9f3a"
             ],
             [
              0.8888888888888888,
              "#fdca26"
             ],
             [
              1,
              "#f0f921"
             ]
            ],
            "type": "contour"
           }
          ],
          "contourcarpet": [
           {
            "colorbar": {
             "outlinewidth": 0,
             "ticks": ""
            },
            "type": "contourcarpet"
           }
          ],
          "heatmap": [
           {
            "colorbar": {
             "outlinewidth": 0,
             "ticks": ""
            },
            "colorscale": [
             [
              0,
              "#0d0887"
             ],
             [
              0.1111111111111111,
              "#46039f"
             ],
             [
              0.2222222222222222,
              "#7201a8"
             ],
             [
              0.3333333333333333,
              "#9c179e"
             ],
             [
              0.4444444444444444,
              "#bd3786"
             ],
             [
              0.5555555555555556,
              "#d8576b"
             ],
             [
              0.6666666666666666,
              "#ed7953"
             ],
             [
              0.7777777777777778,
              "#fb9f3a"
             ],
             [
              0.8888888888888888,
              "#fdca26"
             ],
             [
              1,
              "#f0f921"
             ]
            ],
            "type": "heatmap"
           }
          ],
          "heatmapgl": [
           {
            "colorbar": {
             "outlinewidth": 0,
             "ticks": ""
            },
            "colorscale": [
             [
              0,
              "#0d0887"
             ],
             [
              0.1111111111111111,
              "#46039f"
             ],
             [
              0.2222222222222222,
              "#7201a8"
             ],
             [
              0.3333333333333333,
              "#9c179e"
             ],
             [
              0.4444444444444444,
              "#bd3786"
             ],
             [
              0.5555555555555556,
              "#d8576b"
             ],
             [
              0.6666666666666666,
              "#ed7953"
             ],
             [
              0.7777777777777778,
              "#fb9f3a"
             ],
             [
              0.8888888888888888,
              "#fdca26"
             ],
             [
              1,
              "#f0f921"
             ]
            ],
            "type": "heatmapgl"
           }
          ],
          "histogram": [
           {
            "marker": {
             "pattern": {
              "fillmode": "overlay",
              "size": 10,
              "solidity": 0.2
             }
            },
            "type": "histogram"
           }
          ],
          "histogram2d": [
           {
            "colorbar": {
             "outlinewidth": 0,
             "ticks": ""
            },
            "colorscale": [
             [
              0,
              "#0d0887"
             ],
             [
              0.1111111111111111,
              "#46039f"
             ],
             [
              0.2222222222222222,
              "#7201a8"
             ],
             [
              0.3333333333333333,
              "#9c179e"
             ],
             [
              0.4444444444444444,
              "#bd3786"
             ],
             [
              0.5555555555555556,
              "#d8576b"
             ],
             [
              0.6666666666666666,
              "#ed7953"
             ],
             [
              0.7777777777777778,
              "#fb9f3a"
             ],
             [
              0.8888888888888888,
              "#fdca26"
             ],
             [
              1,
              "#f0f921"
             ]
            ],
            "type": "histogram2d"
           }
          ],
          "histogram2dcontour": [
           {
            "colorbar": {
             "outlinewidth": 0,
             "ticks": ""
            },
            "colorscale": [
             [
              0,
              "#0d0887"
             ],
             [
              0.1111111111111111,
              "#46039f"
             ],
             [
              0.2222222222222222,
              "#7201a8"
             ],
             [
              0.3333333333333333,
              "#9c179e"
             ],
             [
              0.4444444444444444,
              "#bd3786"
             ],
             [
              0.5555555555555556,
              "#d8576b"
             ],
             [
              0.6666666666666666,
              "#ed7953"
             ],
             [
              0.7777777777777778,
              "#fb9f3a"
             ],
             [
              0.8888888888888888,
              "#fdca26"
             ],
             [
              1,
              "#f0f921"
             ]
            ],
            "type": "histogram2dcontour"
           }
          ],
          "mesh3d": [
           {
            "colorbar": {
             "outlinewidth": 0,
             "ticks": ""
            },
            "type": "mesh3d"
           }
          ],
          "parcoords": [
           {
            "line": {
             "colorbar": {
              "outlinewidth": 0,
              "ticks": ""
             }
            },
            "type": "parcoords"
           }
          ],
          "pie": [
           {
            "automargin": true,
            "type": "pie"
           }
          ],
          "scatter": [
           {
            "fillpattern": {
             "fillmode": "overlay",
             "size": 10,
             "solidity": 0.2
            },
            "type": "scatter"
           }
          ],
          "scatter3d": [
           {
            "line": {
             "colorbar": {
              "outlinewidth": 0,
              "ticks": ""
             }
            },
            "marker": {
             "colorbar": {
              "outlinewidth": 0,
              "ticks": ""
             }
            },
            "type": "scatter3d"
           }
          ],
          "scattercarpet": [
           {
            "marker": {
             "colorbar": {
              "outlinewidth": 0,
              "ticks": ""
             }
            },
            "type": "scattercarpet"
           }
          ],
          "scattergeo": [
           {
            "marker": {
             "colorbar": {
              "outlinewidth": 0,
              "ticks": ""
             }
            },
            "type": "scattergeo"
           }
          ],
          "scattergl": [
           {
            "marker": {
             "colorbar": {
              "outlinewidth": 0,
              "ticks": ""
             }
            },
            "type": "scattergl"
           }
          ],
          "scattermapbox": [
           {
            "marker": {
             "colorbar": {
              "outlinewidth": 0,
              "ticks": ""
             }
            },
            "type": "scattermapbox"
           }
          ],
          "scatterpolar": [
           {
            "marker": {
             "colorbar": {
              "outlinewidth": 0,
              "ticks": ""
             }
            },
            "type": "scatterpolar"
           }
          ],
          "scatterpolargl": [
           {
            "marker": {
             "colorbar": {
              "outlinewidth": 0,
              "ticks": ""
             }
            },
            "type": "scatterpolargl"
           }
          ],
          "scatterternary": [
           {
            "marker": {
             "colorbar": {
              "outlinewidth": 0,
              "ticks": ""
             }
            },
            "type": "scatterternary"
           }
          ],
          "surface": [
           {
            "colorbar": {
             "outlinewidth": 0,
             "ticks": ""
            },
            "colorscale": [
             [
              0,
              "#0d0887"
             ],
             [
              0.1111111111111111,
              "#46039f"
             ],
             [
              0.2222222222222222,
              "#7201a8"
             ],
             [
              0.3333333333333333,
              "#9c179e"
             ],
             [
              0.4444444444444444,
              "#bd3786"
             ],
             [
              0.5555555555555556,
              "#d8576b"
             ],
             [
              0.6666666666666666,
              "#ed7953"
             ],
             [
              0.7777777777777778,
              "#fb9f3a"
             ],
             [
              0.8888888888888888,
              "#fdca26"
             ],
             [
              1,
              "#f0f921"
             ]
            ],
            "type": "surface"
           }
          ],
          "table": [
           {
            "cells": {
             "fill": {
              "color": "#EBF0F8"
             },
             "line": {
              "color": "white"
             }
            },
            "header": {
             "fill": {
              "color": "#C8D4E3"
             },
             "line": {
              "color": "white"
             }
            },
            "type": "table"
           }
          ]
         },
         "layout": {
          "annotationdefaults": {
           "arrowcolor": "#2a3f5f",
           "arrowhead": 0,
           "arrowwidth": 1
          },
          "autotypenumbers": "strict",
          "coloraxis": {
           "colorbar": {
            "outlinewidth": 0,
            "ticks": ""
           }
          },
          "colorscale": {
           "diverging": [
            [
             0,
             "#8e0152"
            ],
            [
             0.1,
             "#c51b7d"
            ],
            [
             0.2,
             "#de77ae"
            ],
            [
             0.3,
             "#f1b6da"
            ],
            [
             0.4,
             "#fde0ef"
            ],
            [
             0.5,
             "#f7f7f7"
            ],
            [
             0.6,
             "#e6f5d0"
            ],
            [
             0.7,
             "#b8e186"
            ],
            [
             0.8,
             "#7fbc41"
            ],
            [
             0.9,
             "#4d9221"
            ],
            [
             1,
             "#276419"
            ]
           ],
           "sequential": [
            [
             0,
             "#0d0887"
            ],
            [
             0.1111111111111111,
             "#46039f"
            ],
            [
             0.2222222222222222,
             "#7201a8"
            ],
            [
             0.3333333333333333,
             "#9c179e"
            ],
            [
             0.4444444444444444,
             "#bd3786"
            ],
            [
             0.5555555555555556,
             "#d8576b"
            ],
            [
             0.6666666666666666,
             "#ed7953"
            ],
            [
             0.7777777777777778,
             "#fb9f3a"
            ],
            [
             0.8888888888888888,
             "#fdca26"
            ],
            [
             1,
             "#f0f921"
            ]
           ],
           "sequentialminus": [
            [
             0,
             "#0d0887"
            ],
            [
             0.1111111111111111,
             "#46039f"
            ],
            [
             0.2222222222222222,
             "#7201a8"
            ],
            [
             0.3333333333333333,
             "#9c179e"
            ],
            [
             0.4444444444444444,
             "#bd3786"
            ],
            [
             0.5555555555555556,
             "#d8576b"
            ],
            [
             0.6666666666666666,
             "#ed7953"
            ],
            [
             0.7777777777777778,
             "#fb9f3a"
            ],
            [
             0.8888888888888888,
             "#fdca26"
            ],
            [
             1,
             "#f0f921"
            ]
           ]
          },
          "colorway": [
           "#636efa",
           "#EF553B",
           "#00cc96",
           "#ab63fa",
           "#FFA15A",
           "#19d3f3",
           "#FF6692",
           "#B6E880",
           "#FF97FF",
           "#FECB52"
          ],
          "font": {
           "color": "#2a3f5f"
          },
          "geo": {
           "bgcolor": "white",
           "lakecolor": "white",
           "landcolor": "white",
           "showlakes": true,
           "showland": true,
           "subunitcolor": "#C8D4E3"
          },
          "hoverlabel": {
           "align": "left"
          },
          "hovermode": "closest",
          "mapbox": {
           "style": "light"
          },
          "paper_bgcolor": "white",
          "plot_bgcolor": "white",
          "polar": {
           "angularaxis": {
            "gridcolor": "#EBF0F8",
            "linecolor": "#EBF0F8",
            "ticks": ""
           },
           "bgcolor": "white",
           "radialaxis": {
            "gridcolor": "#EBF0F8",
            "linecolor": "#EBF0F8",
            "ticks": ""
           }
          },
          "scene": {
           "xaxis": {
            "backgroundcolor": "white",
            "gridcolor": "#DFE8F3",
            "gridwidth": 2,
            "linecolor": "#EBF0F8",
            "showbackground": true,
            "ticks": "",
            "zerolinecolor": "#EBF0F8"
           },
           "yaxis": {
            "backgroundcolor": "white",
            "gridcolor": "#DFE8F3",
            "gridwidth": 2,
            "linecolor": "#EBF0F8",
            "showbackground": true,
            "ticks": "",
            "zerolinecolor": "#EBF0F8"
           },
           "zaxis": {
            "backgroundcolor": "white",
            "gridcolor": "#DFE8F3",
            "gridwidth": 2,
            "linecolor": "#EBF0F8",
            "showbackground": true,
            "ticks": "",
            "zerolinecolor": "#EBF0F8"
           }
          },
          "shapedefaults": {
           "line": {
            "color": "#2a3f5f"
           }
          },
          "ternary": {
           "aaxis": {
            "gridcolor": "#DFE8F3",
            "linecolor": "#A2B1C6",
            "ticks": ""
           },
           "baxis": {
            "gridcolor": "#DFE8F3",
            "linecolor": "#A2B1C6",
            "ticks": ""
           },
           "bgcolor": "white",
           "caxis": {
            "gridcolor": "#DFE8F3",
            "linecolor": "#A2B1C6",
            "ticks": ""
           }
          },
          "title": {
           "x": 0.05
          },
          "xaxis": {
           "automargin": true,
           "gridcolor": "#EBF0F8",
           "linecolor": "#EBF0F8",
           "ticks": "",
           "title": {
            "standoff": 15
           },
           "zerolinecolor": "#EBF0F8",
           "zerolinewidth": 2
          },
          "yaxis": {
           "automargin": true,
           "gridcolor": "#EBF0F8",
           "linecolor": "#EBF0F8",
           "ticks": "",
           "title": {
            "standoff": 15
           },
           "zerolinecolor": "#EBF0F8",
           "zerolinewidth": 2
          }
         }
        },
        "xaxis": {
         "linecolor": "black",
         "title": {
          "text": "Year"
         }
        },
        "yaxis": {
         "linecolor": "black",
         "range": [
          0,
          null
         ],
         "title": {
          "text": "Urban built-up area (sq. km)"
         }
        }
       }
      }
     },
     "metadata": {},
     "output_type": "display_data"
    },
    {
     "name": "stdout",
     "output_type": "stream",
     "text": [
      "The city's built-up area grew from 110.96 sq. km in 1985 to 397.06 in 2015 for 257.84% growth\n"
     ]
    }
   ],
   "source": [
    "#Built Up Area\n",
    "def wsf_stats():\n",
    "    with open(\"../global_inputs.yml\", 'r') as f:\n",
    "        global_inputs = yaml.safe_load(f)\n",
    "    city_inputs = global_inputs.get('city_inputs')\n",
    "\n",
    "    if menu['wsf']:  \n",
    "        wsf_stats_file = Path(output_folder / f\"{city}_wsf_stats.csv\")  \n",
    "        if os.path.exists(wsf_stats_file):  \n",
    "            pass\n",
    "        else:\n",
    "            print(\"WSF stats file does not exist.\")\n",
    "            return  \n",
    "        wsf = pd.read_csv(wsf_stats_file)\n",
    "        \n",
    "        wsf = wsf.rename(columns={'year': 'Year'}).\\\n",
    "        loc[:, ['Year', 'cumulative sq km']].\\\n",
    "        rename(columns={'cumulative sq km': 'uba_km2'})\n",
    "\n",
    "        \n",
    "        wsf['growth_pct'] = (wsf['uba_km2'] / wsf['uba_km2'].shift(1) - 1)\n",
    "        wsf['growth_km2'] = wsf['uba_km2'] - wsf['uba_km2'].shift(1)\n",
    "\n",
    "\n",
    "        plt.figure(figsize=(4, 4))\n",
    "        plt.plot(wsf['Year'], wsf['uba_km2'], marker='o', linestyle='-')\n",
    "        plt.title(\"Urban Built-up Area, 1985-2015\")\n",
    "        plt.xlabel(\"Year\")\n",
    "        plt.ylabel(\"Urban built-up area (sq. km)\")\n",
    "        plt.grid(True)\n",
    "        render_path = os.path.join(render_folder, f\"{city}_urban_built_up_area.png\")\n",
    "        plt.savefig(render_path,bbox_inches='tight')\n",
    "        plt.close()\n",
    "\n",
    "        fig = go.Figure()\n",
    "\n",
    "        fig.add_trace(go.Scatter(\n",
    "            x=wsf['Year'],\n",
    "            y=wsf['uba_km2'],\n",
    "            mode='lines+markers',\n",
    "            name='Urban built-up area (sq. km)',\n",
    "            line=dict(color='black')\n",
    "        ))\n",
    "\n",
    "        \n",
    "        fig.update_layout(\n",
    "            xaxis_title=\"Year\",\n",
    "            yaxis_title=\"Urban built-up area (sq. km)\",\n",
    "            template='plotly_white',\n",
    "            showlegend=False,\n",
    "            autosize=True,\n",
    "            hovermode='x',\n",
    "            yaxis=dict(\n",
    "            range=[0, None],\n",
    "            linecolor='black'  # Ensures that the Y-axis starts at 0 )\n",
    "        ),\n",
    "        xaxis=dict(\n",
    "                linecolor='black'  \n",
    "            ),\n",
    "        font=font_dict,\n",
    "        plot_bgcolor='white'  \n",
    "        )\n",
    "        fig.show()\n",
    "        fig.write_html(render_path.replace('.png', '.html'),full_html=False, include_plotlyjs='cdn')\n",
    "        first_area = wsf['uba_km2'].iloc[0]\n",
    "        latest_area = wsf['uba_km2'].iloc[-1]\n",
    "        first_year = wsf['Year'].iloc[0]\n",
    "        latest_year = wsf['Year'].iloc[-1]\n",
    "        pct_growth = 100 * (latest_area - first_area) / first_area\n",
    "        print(f\"The city's built-up area grew from {round(first_area, 2)} sq. km in {first_year} to {round(latest_area, 2)} in {latest_year} for {round(pct_growth, 2)}% growth\")\n",
    "wsf_stats()"
   ]
  },
  {
   "cell_type": "code",
   "execution_count": 22,
   "id": "99f7a897",
   "metadata": {},
   "outputs": [
    {
     "data": {
      "application/vnd.plotly.v1+json": {
       "config": {
        "plotlyServerURL": "https://plot.ly"
       },
       "data": [
        {
         "branchvalues": "total",
         "customdata": [
          [
           "Permanent water bodies"
          ],
          [
           "Herbaceous wetland"
          ],
          [
           "Grassland"
          ],
          [
           "Cropland"
          ],
          [
           "Tree cover"
          ],
          [
           "Shrubland"
          ],
          [
           "Built-up"
          ],
          [
           "Bare / sparse vegetation"
          ]
         ],
         "domain": {
          "x": [
           0,
           1
          ],
          "y": [
           0,
           1
          ]
         },
         "hovertemplate": "labels=%{label}<br>Pixel Count=%{value}<br>parent=%{parent}<br>id=%{id}<br>Land Cover Type=%{customdata[0]}<extra></extra>",
         "ids": [
          "Permanent water bodies",
          "Herbaceous wetland",
          "Grassland",
          "Cropland",
          "Tree cover",
          "Shrubland",
          "Built-up",
          "Bare / sparse vegetation"
         ],
         "labels": [
          "Permanent water bodies",
          "Herbaceous wetland",
          "Grassland",
          "Cropland",
          "Tree cover",
          "Shrubland",
          "Built-up",
          "Bare / sparse vegetation"
         ],
         "marker": {
          "colors": [
           "#00008b",
           "#7d87c4",
           "#88af52",
           "#e49634",
           "#397e48",
           "#dfc25a",
           "#c4281b",
           "#a59b8f"
          ]
         },
         "name": "",
         "parents": [
          "",
          "",
          "",
          "",
          "",
          "",
          "",
          ""
         ],
         "textinfo": "label+percent entry",
         "textposition": "middle center",
         "type": "treemap",
         "values": [
          274436.90980392153,
          1,
          4791984.231372548,
          3533148.317647059,
          15679229.364705872,
          4081.4941176470584,
          2983270.835294118,
          1157392.2039215688
         ]
        }
       ],
       "layout": {
        "legend": {
         "tracegroupgap": 0
        },
        "margin": {
         "b": 25,
         "l": 25,
         "r": 25,
         "t": 50
        },
        "template": {
         "data": {
          "bar": [
           {
            "error_x": {
             "color": "#2a3f5f"
            },
            "error_y": {
             "color": "#2a3f5f"
            },
            "marker": {
             "line": {
              "color": "#E5ECF6",
              "width": 0.5
             },
             "pattern": {
              "fillmode": "overlay",
              "size": 10,
              "solidity": 0.2
             }
            },
            "type": "bar"
           }
          ],
          "barpolar": [
           {
            "marker": {
             "line": {
              "color": "#E5ECF6",
              "width": 0.5
             },
             "pattern": {
              "fillmode": "overlay",
              "size": 10,
              "solidity": 0.2
             }
            },
            "type": "barpolar"
           }
          ],
          "carpet": [
           {
            "aaxis": {
             "endlinecolor": "#2a3f5f",
             "gridcolor": "white",
             "linecolor": "white",
             "minorgridcolor": "white",
             "startlinecolor": "#2a3f5f"
            },
            "baxis": {
             "endlinecolor": "#2a3f5f",
             "gridcolor": "white",
             "linecolor": "white",
             "minorgridcolor": "white",
             "startlinecolor": "#2a3f5f"
            },
            "type": "carpet"
           }
          ],
          "choropleth": [
           {
            "colorbar": {
             "outlinewidth": 0,
             "ticks": ""
            },
            "type": "choropleth"
           }
          ],
          "contour": [
           {
            "colorbar": {
             "outlinewidth": 0,
             "ticks": ""
            },
            "colorscale": [
             [
              0,
              "#0d0887"
             ],
             [
              0.1111111111111111,
              "#46039f"
             ],
             [
              0.2222222222222222,
              "#7201a8"
             ],
             [
              0.3333333333333333,
              "#9c179e"
             ],
             [
              0.4444444444444444,
              "#bd3786"
             ],
             [
              0.5555555555555556,
              "#d8576b"
             ],
             [
              0.6666666666666666,
              "#ed7953"
             ],
             [
              0.7777777777777778,
              "#fb9f3a"
             ],
             [
              0.8888888888888888,
              "#fdca26"
             ],
             [
              1,
              "#f0f921"
             ]
            ],
            "type": "contour"
           }
          ],
          "contourcarpet": [
           {
            "colorbar": {
             "outlinewidth": 0,
             "ticks": ""
            },
            "type": "contourcarpet"
           }
          ],
          "heatmap": [
           {
            "colorbar": {
             "outlinewidth": 0,
             "ticks": ""
            },
            "colorscale": [
             [
              0,
              "#0d0887"
             ],
             [
              0.1111111111111111,
              "#46039f"
             ],
             [
              0.2222222222222222,
              "#7201a8"
             ],
             [
              0.3333333333333333,
              "#9c179e"
             ],
             [
              0.4444444444444444,
              "#bd3786"
             ],
             [
              0.5555555555555556,
              "#d8576b"
             ],
             [
              0.6666666666666666,
              "#ed7953"
             ],
             [
              0.7777777777777778,
              "#fb9f3a"
             ],
             [
              0.8888888888888888,
              "#fdca26"
             ],
             [
              1,
              "#f0f921"
             ]
            ],
            "type": "heatmap"
           }
          ],
          "heatmapgl": [
           {
            "colorbar": {
             "outlinewidth": 0,
             "ticks": ""
            },
            "colorscale": [
             [
              0,
              "#0d0887"
             ],
             [
              0.1111111111111111,
              "#46039f"
             ],
             [
              0.2222222222222222,
              "#7201a8"
             ],
             [
              0.3333333333333333,
              "#9c179e"
             ],
             [
              0.4444444444444444,
              "#bd3786"
             ],
             [
              0.5555555555555556,
              "#d8576b"
             ],
             [
              0.6666666666666666,
              "#ed7953"
             ],
             [
              0.7777777777777778,
              "#fb9f3a"
             ],
             [
              0.8888888888888888,
              "#fdca26"
             ],
             [
              1,
              "#f0f921"
             ]
            ],
            "type": "heatmapgl"
           }
          ],
          "histogram": [
           {
            "marker": {
             "pattern": {
              "fillmode": "overlay",
              "size": 10,
              "solidity": 0.2
             }
            },
            "type": "histogram"
           }
          ],
          "histogram2d": [
           {
            "colorbar": {
             "outlinewidth": 0,
             "ticks": ""
            },
            "colorscale": [
             [
              0,
              "#0d0887"
             ],
             [
              0.1111111111111111,
              "#46039f"
             ],
             [
              0.2222222222222222,
              "#7201a8"
             ],
             [
              0.3333333333333333,
              "#9c179e"
             ],
             [
              0.4444444444444444,
              "#bd3786"
             ],
             [
              0.5555555555555556,
              "#d8576b"
             ],
             [
              0.6666666666666666,
              "#ed7953"
             ],
             [
              0.7777777777777778,
              "#fb9f3a"
             ],
             [
              0.8888888888888888,
              "#fdca26"
             ],
             [
              1,
              "#f0f921"
             ]
            ],
            "type": "histogram2d"
           }
          ],
          "histogram2dcontour": [
           {
            "colorbar": {
             "outlinewidth": 0,
             "ticks": ""
            },
            "colorscale": [
             [
              0,
              "#0d0887"
             ],
             [
              0.1111111111111111,
              "#46039f"
             ],
             [
              0.2222222222222222,
              "#7201a8"
             ],
             [
              0.3333333333333333,
              "#9c179e"
             ],
             [
              0.4444444444444444,
              "#bd3786"
             ],
             [
              0.5555555555555556,
              "#d8576b"
             ],
             [
              0.6666666666666666,
              "#ed7953"
             ],
             [
              0.7777777777777778,
              "#fb9f3a"
             ],
             [
              0.8888888888888888,
              "#fdca26"
             ],
             [
              1,
              "#f0f921"
             ]
            ],
            "type": "histogram2dcontour"
           }
          ],
          "mesh3d": [
           {
            "colorbar": {
             "outlinewidth": 0,
             "ticks": ""
            },
            "type": "mesh3d"
           }
          ],
          "parcoords": [
           {
            "line": {
             "colorbar": {
              "outlinewidth": 0,
              "ticks": ""
             }
            },
            "type": "parcoords"
           }
          ],
          "pie": [
           {
            "automargin": true,
            "type": "pie"
           }
          ],
          "scatter": [
           {
            "fillpattern": {
             "fillmode": "overlay",
             "size": 10,
             "solidity": 0.2
            },
            "type": "scatter"
           }
          ],
          "scatter3d": [
           {
            "line": {
             "colorbar": {
              "outlinewidth": 0,
              "ticks": ""
             }
            },
            "marker": {
             "colorbar": {
              "outlinewidth": 0,
              "ticks": ""
             }
            },
            "type": "scatter3d"
           }
          ],
          "scattercarpet": [
           {
            "marker": {
             "colorbar": {
              "outlinewidth": 0,
              "ticks": ""
             }
            },
            "type": "scattercarpet"
           }
          ],
          "scattergeo": [
           {
            "marker": {
             "colorbar": {
              "outlinewidth": 0,
              "ticks": ""
             }
            },
            "type": "scattergeo"
           }
          ],
          "scattergl": [
           {
            "marker": {
             "colorbar": {
              "outlinewidth": 0,
              "ticks": ""
             }
            },
            "type": "scattergl"
           }
          ],
          "scattermapbox": [
           {
            "marker": {
             "colorbar": {
              "outlinewidth": 0,
              "ticks": ""
             }
            },
            "type": "scattermapbox"
           }
          ],
          "scatterpolar": [
           {
            "marker": {
             "colorbar": {
              "outlinewidth": 0,
              "ticks": ""
             }
            },
            "type": "scatterpolar"
           }
          ],
          "scatterpolargl": [
           {
            "marker": {
             "colorbar": {
              "outlinewidth": 0,
              "ticks": ""
             }
            },
            "type": "scatterpolargl"
           }
          ],
          "scatterternary": [
           {
            "marker": {
             "colorbar": {
              "outlinewidth": 0,
              "ticks": ""
             }
            },
            "type": "scatterternary"
           }
          ],
          "surface": [
           {
            "colorbar": {
             "outlinewidth": 0,
             "ticks": ""
            },
            "colorscale": [
             [
              0,
              "#0d0887"
             ],
             [
              0.1111111111111111,
              "#46039f"
             ],
             [
              0.2222222222222222,
              "#7201a8"
             ],
             [
              0.3333333333333333,
              "#9c179e"
             ],
             [
              0.4444444444444444,
              "#bd3786"
             ],
             [
              0.5555555555555556,
              "#d8576b"
             ],
             [
              0.6666666666666666,
              "#ed7953"
             ],
             [
              0.7777777777777778,
              "#fb9f3a"
             ],
             [
              0.8888888888888888,
              "#fdca26"
             ],
             [
              1,
              "#f0f921"
             ]
            ],
            "type": "surface"
           }
          ],
          "table": [
           {
            "cells": {
             "fill": {
              "color": "#EBF0F8"
             },
             "line": {
              "color": "white"
             }
            },
            "header": {
             "fill": {
              "color": "#C8D4E3"
             },
             "line": {
              "color": "white"
             }
            },
            "type": "table"
           }
          ]
         },
         "layout": {
          "annotationdefaults": {
           "arrowcolor": "#2a3f5f",
           "arrowhead": 0,
           "arrowwidth": 1
          },
          "autotypenumbers": "strict",
          "coloraxis": {
           "colorbar": {
            "outlinewidth": 0,
            "ticks": ""
           }
          },
          "colorscale": {
           "diverging": [
            [
             0,
             "#8e0152"
            ],
            [
             0.1,
             "#c51b7d"
            ],
            [
             0.2,
             "#de77ae"
            ],
            [
             0.3,
             "#f1b6da"
            ],
            [
             0.4,
             "#fde0ef"
            ],
            [
             0.5,
             "#f7f7f7"
            ],
            [
             0.6,
             "#e6f5d0"
            ],
            [
             0.7,
             "#b8e186"
            ],
            [
             0.8,
             "#7fbc41"
            ],
            [
             0.9,
             "#4d9221"
            ],
            [
             1,
             "#276419"
            ]
           ],
           "sequential": [
            [
             0,
             "#0d0887"
            ],
            [
             0.1111111111111111,
             "#46039f"
            ],
            [
             0.2222222222222222,
             "#7201a8"
            ],
            [
             0.3333333333333333,
             "#9c179e"
            ],
            [
             0.4444444444444444,
             "#bd3786"
            ],
            [
             0.5555555555555556,
             "#d8576b"
            ],
            [
             0.6666666666666666,
             "#ed7953"
            ],
            [
             0.7777777777777778,
             "#fb9f3a"
            ],
            [
             0.8888888888888888,
             "#fdca26"
            ],
            [
             1,
             "#f0f921"
            ]
           ],
           "sequentialminus": [
            [
             0,
             "#0d0887"
            ],
            [
             0.1111111111111111,
             "#46039f"
            ],
            [
             0.2222222222222222,
             "#7201a8"
            ],
            [
             0.3333333333333333,
             "#9c179e"
            ],
            [
             0.4444444444444444,
             "#bd3786"
            ],
            [
             0.5555555555555556,
             "#d8576b"
            ],
            [
             0.6666666666666666,
             "#ed7953"
            ],
            [
             0.7777777777777778,
             "#fb9f3a"
            ],
            [
             0.8888888888888888,
             "#fdca26"
            ],
            [
             1,
             "#f0f921"
            ]
           ]
          },
          "colorway": [
           "#636efa",
           "#EF553B",
           "#00cc96",
           "#ab63fa",
           "#FFA15A",
           "#19d3f3",
           "#FF6692",
           "#B6E880",
           "#FF97FF",
           "#FECB52"
          ],
          "font": {
           "color": "#2a3f5f"
          },
          "geo": {
           "bgcolor": "white",
           "lakecolor": "white",
           "landcolor": "#E5ECF6",
           "showlakes": true,
           "showland": true,
           "subunitcolor": "white"
          },
          "hoverlabel": {
           "align": "left"
          },
          "hovermode": "closest",
          "mapbox": {
           "style": "light"
          },
          "paper_bgcolor": "white",
          "plot_bgcolor": "#E5ECF6",
          "polar": {
           "angularaxis": {
            "gridcolor": "white",
            "linecolor": "white",
            "ticks": ""
           },
           "bgcolor": "#E5ECF6",
           "radialaxis": {
            "gridcolor": "white",
            "linecolor": "white",
            "ticks": ""
           }
          },
          "scene": {
           "xaxis": {
            "backgroundcolor": "#E5ECF6",
            "gridcolor": "white",
            "gridwidth": 2,
            "linecolor": "white",
            "showbackground": true,
            "ticks": "",
            "zerolinecolor": "white"
           },
           "yaxis": {
            "backgroundcolor": "#E5ECF6",
            "gridcolor": "white",
            "gridwidth": 2,
            "linecolor": "white",
            "showbackground": true,
            "ticks": "",
            "zerolinecolor": "white"
           },
           "zaxis": {
            "backgroundcolor": "#E5ECF6",
            "gridcolor": "white",
            "gridwidth": 2,
            "linecolor": "white",
            "showbackground": true,
            "ticks": "",
            "zerolinecolor": "white"
           }
          },
          "shapedefaults": {
           "line": {
            "color": "#2a3f5f"
           }
          },
          "ternary": {
           "aaxis": {
            "gridcolor": "white",
            "linecolor": "white",
            "ticks": ""
           },
           "baxis": {
            "gridcolor": "white",
            "linecolor": "white",
            "ticks": ""
           },
           "bgcolor": "#E5ECF6",
           "caxis": {
            "gridcolor": "white",
            "linecolor": "white",
            "ticks": ""
           }
          },
          "title": {
           "x": 0.05
          },
          "xaxis": {
           "automargin": true,
           "gridcolor": "white",
           "linecolor": "white",
           "ticks": "",
           "title": {
            "standoff": 15
           },
           "zerolinecolor": "white",
           "zerolinewidth": 2
          },
          "yaxis": {
           "automargin": true,
           "gridcolor": "white",
           "linecolor": "white",
           "ticks": "",
           "title": {
            "standoff": 15
           },
           "zerolinecolor": "white",
           "zerolinewidth": 2
          }
         }
        }
       }
      }
     },
     "metadata": {},
     "output_type": "display_data"
    },
    {
     "name": "stdout",
     "output_type": "stream",
     "text": [
      "The first highest landcover value is Tree cover with 55.16% of the total land area\n",
      "The second highest landcover value is Grassland with 16.86% of the total land area\n",
      "The third highest landcover value is Cropland with 12.43% of the total land area\n"
     ]
    }
   ],
   "source": [
    "#Landcover graph Tree\n",
    "def lc_stats():\n",
    "    \n",
    "    with open(\"../global_inputs.yml\", 'r') as f:\n",
    "        global_inputs = yaml.safe_load(f)\n",
    "\n",
    "    city_inputs = global_inputs.get('city_inputs')\n",
    "\n",
    "    if menu['landcover']:  \n",
    "        lc_stats_file = Path(output_folder / f\"{city}_lc.csv\")  \n",
    "        if not lc_stats_file.exists():  \n",
    "            print(\"Land Cover stats file does not exist.\")\n",
    "            return  \n",
    "        \n",
    "        lc = pd.read_csv(lc_stats_file)\n",
    "\n",
    "        \n",
    "        lc = lc[lc['Pixel Count'] > 0]\n",
    "\n",
    "       \n",
    "        lc_colors = {\n",
    "            \"Tree cover\": \"#397e48\",\n",
    "            \"Built-up\": \"#c4281b\",\n",
    "            \"Grassland\": \"#88af52\",\n",
    "            \"Bare / sparse vegetation\": \"#a59b8f\",\n",
    "            \"Cropland\": \"#e49634\",\n",
    "            \"Water bodies\": \"#429bdf\",\n",
    "            \"Permanent water bodies\": \"#00008b\",\n",
    "            \"Mangroves\": \"#90EE90\",\n",
    "            \"Moss and lichen\": \"#013220\",\n",
    "            \"Shrubland\": \"#dfc25a\",\n",
    "            \"Herbaceous wetland\": \"#7d87c4\",\n",
    "            \"Snow and ice\": \"#F5F5F5\"\n",
    "        }\n",
    "        \n",
    "        total_pixels = lc['Pixel Count'].sum()\n",
    "        lc['Percentage'] = lc['Pixel Count'] / total_pixels * 100\n",
    "        \n",
    "        \n",
    "        plt.figure(figsize=(12, 8))\n",
    "        squarify.plot(sizes=lc['Pixel Count'], label=lc['Land Cover Type'], \n",
    "                      color=[lc_colors[lc_type] for lc_type in lc['Land Cover Type']], \n",
    "                      alpha=0.8, pad=True)\n",
    "        plt.title(f\"Land Cover Distribution of {city}\")\n",
    "        plt.axis('off')\n",
    "        plt.tight_layout()\n",
    "\n",
    "       \n",
    "        render_path_png = os.path.join(render_folder, f\"{city}_landcover_treemap.png\")\n",
    "        plt.savefig(render_path_png)\n",
    "        plt.close()\n",
    "\n",
    "       \n",
    "        fig = px.treemap(lc, path=['Land Cover Type'], values='Pixel Count', color='Land Cover Type', \n",
    "                         color_discrete_map=lc_colors)\n",
    "        \n",
    "        fig.update_traces(textinfo='label+percent entry', textposition='middle center')\n",
    "        fig.update_layout(margin=dict(t=50, l=25, r=25, b=25),font=font_dict)\n",
    "        \n",
    "        render_path_html = os.path.join(render_folder, f\"{city}_landcover_treemap.html\")\n",
    "        fig.write_html(render_path_html, full_html=False, include_plotlyjs='cdn')\n",
    "        fig.show()\n",
    "\n",
    "        \n",
    "        highest_values = lc.sort_values(by='Percentage', ascending=False).head(3)\n",
    "        ordinal_dict = {1: \"first\", 2: \"second\", 3: \"third\"}\n",
    "        for i, (index, row) in enumerate(highest_values.iterrows()):\n",
    "            ordinal_str = ordinal_dict.get(i + 1, str(i + 1) + \"th\")\n",
    "            print(f\"The {ordinal_str} highest landcover value is {row['Land Cover Type']} with {row['Percentage']:.2f}% of the total land area\")\n",
    "lc_stats()"
   ]
  },
  {
   "cell_type": "code",
   "execution_count": 23,
   "id": "c10035a2",
   "metadata": {},
   "outputs": [],
   "source": [
    "def elev_stats():\n",
    "    with open(\"../global_inputs.yml\", 'r') as f:\n",
    "        global_inputs = yaml.safe_load(f)\n",
    "    city_inputs = global_inputs.get('city_inputs')\n",
    "    \n",
    "    if menu['elevation']:  \n",
    "        elev_stats_file = Path(output_folder / f\"{city}_elevation.csv\") \n",
    "        if not elev_stats_file.exists():  \n",
    "            print(\"Elevation stats file does not exist.\")\n",
    "            return  \n",
    "        \n",
    "        elev = pd.read_csv(elev_stats_file)\n",
    "        elev['Bin'] = elev['Bin'].astype(str).str.strip()\n",
    "        elev = elev[elev['Count'] > 0]\n",
    "        total_count = elev['Count'].sum()\n",
    "\n",
    "        elev['percent'] = elev['Count'] / total_count * 100\n",
    "\n",
    "        elevation_colors = {\n",
    "            \"860-1020\": \"#f5c4c0\",\n",
    "            \"1020-1200\": \"#f19bb4\",\n",
    "            \"1200-1360\": \"#ec5fa1\",\n",
    "            \"1360-1540\": \"#c20b8a\",\n",
    "            \"1540-1720\": \"#762175\"\n",
    "        }\n",
    "\n",
    "        elev['Bin'] = pd.Categorical(elev['Bin'], categories=elevation_colors.keys(), ordered=True)\n",
    "\n",
    "        plt.figure(figsize=(12, 8))\n",
    "        squarify.plot(sizes=elev['percent'], label=elev['Bin'], \n",
    "                      color=[elevation_colors.get(bin_label, \"#999999\") for bin_label in elev['Bin']], \n",
    "                      alpha=0.8, pad=True)\n",
    "        plt.title(f\"Elevation Distribution in {city}\")\n",
    "        plt.axis('off')\n",
    "        plt.tight_layout()\n",
    "\n",
    "        render_path_png = os.path.join(render_folder, f\"{city}_elevation_treemap.png\")\n",
    "        plt.savefig(render_path_png)\n",
    "        plt.close()\n",
    "\n",
    "        fig = px.treemap(\n",
    "            elev, \n",
    "            path=['Bin'],  \n",
    "            values='percent', \n",
    "            color='Bin',\n",
    "            color_discrete_map=elevation_colors, \n",
    "            labels={'percent': 'Percentage', 'Elevation': 'Elevation Range'}\n",
    "        )\n",
    "\n",
    "        fig.update_layout(\n",
    "            showlegend=False,\n",
    "            margin=dict(t=50, l=25, r=25, b=25),\n",
    "            font=font_dict\n",
    "        )\n",
    "        fig.show()\n",
    "        fig.write_html(render_path_png.replace('.png', '.html'), full_html=False, include_plotlyjs='cdn')\n",
    "\n",
    "        max_percent_index = elev['percent'].idxmax()\n",
    "        highest_percent_row = elev.loc[max_percent_index]\n",
    "        print(f\"Highest percentage entry for Elevation is {highest_percent_row['percent']:.2f}% in the bin range {highest_percent_row['Bin']}\")\n",
    "\n"
   ]
  },
  {
   "cell_type": "code",
   "execution_count": 24,
   "id": "2d73548c",
   "metadata": {},
   "outputs": [],
   "source": [
    "def slope_stats():\n",
    "    with open(\"../global_inputs.yml\", 'r') as f:\n",
    "        global_inputs = yaml.safe_load(f)\n",
    "    city_inputs = global_inputs.get('city_inputs')\n",
    "    \n",
    "    if menu['elevation']:  \n",
    "        slope_stats_file = Path(output_folder / f\"{city}_slope.csv\") \n",
    "        if not slope_stats_file.exists():  \n",
    "            print(\"Slope stats file does not exist.\")\n",
    "            return  \n",
    "        \n",
    "        slope = pd.read_csv(slope_stats_file)\n",
    "        \n",
    "        total_count = slope['Count'].sum()\n",
    "\n",
    "        slope['percent'] = slope['Count'] / total_count * 100\n",
    "\n",
    "        slope['percent'] = pd.to_numeric(slope['percent'], errors='coerce')\n",
    "\n",
    "        slope = slope.dropna(subset=['Bin']).copy()\n",
    "\n",
    "        slope['Percent'] = (slope['percent'] / 100).apply(lambda x: f\"{x:.0%}\")\n",
    "        slope['Slope'] = slope['Bin'].str.extract(r\"(\\d+)\").astype(float)\n",
    "        slope['Bin'] = pd.Categorical(slope['Bin'], categories=slope['Bin'].unique())\n",
    "\n",
    "        slope['UpperRange'] = slope['Bin'].str.extract(r\"-(\\d+)$\").astype(float)\n",
    "        max_upper_range = slope['UpperRange'].max()\n",
    "\n",
    "        slope_colors = {\n",
    "            \"0-2\": \"#ffffd4\",\n",
    "            \"2-5\": \"#fed98e\",\n",
    "            \"5-10\": \"#fe9929\",\n",
    "            \"10-20\": \"#d95f0e\",\n",
    "            f\"20-{int(max_upper_range)}\": \"#993404\"\n",
    "        }\n",
    "\n",
    "        plt.figure(figsize=(12, 8))\n",
    "        squarify.plot(sizes=slope['percent'], label=slope['Bin'], \n",
    "                      color=[slope_colors.get(bin_label, \"#999999\") for bin_label in slope['Bin']], \n",
    "                      alpha=0.8, pad=True)\n",
    "        plt.title(f\"Slope Distribution in {city}\")\n",
    "        plt.axis('off')\n",
    "        plt.tight_layout()\n",
    "\n",
    "        render_path_png = os.path.join(render_folder, f\"{city}_slope_treemap.png\")\n",
    "        plt.savefig(render_path_png, bbox_inches='tight')\n",
    "        plt.close()\n",
    "\n",
    "        fig = px.treemap(\n",
    "            slope, \n",
    "            path=['Bin'],  \n",
    "            values='percent', \n",
    "            color='Bin',\n",
    "            color_discrete_map=slope_colors, \n",
    "            labels={'percent': 'Percentage', 'Slope': 'Slope Range'}\n",
    "        )\n",
    "\n",
    "        fig.update_layout(\n",
    "            showlegend=False,\n",
    "            margin=dict(t=50, l=25, r=25, b=25),\n",
    "            font=font_dict\n",
    "        )\n",
    "        fig.show()\n",
    "        fig.write_html(render_path_png.replace('.png', '.html'), full_html=False, include_plotlyjs='cdn')\n",
    "\n",
    "        max_percent_index = slope['percent'].idxmax()\n",
    "        highest_percent_row = slope.loc[max_percent_index]\n",
    "        print(f\"Highest percentage entry for Slope is {highest_percent_row['Percent']} in the bin range {highest_percent_row['Bin']}\")\n"
   ]
  },
  {
   "cell_type": "code",
   "execution_count": 25,
   "id": "ab2851a1-315a-445d-8982-bec89bbe1bc2",
   "metadata": {},
   "outputs": [],
   "source": [
    "#Cyclone Graph"
   ]
  },
  {
   "cell_type": "code",
   "execution_count": 37,
   "id": "61d854ce",
   "metadata": {},
   "outputs": [
    {
     "data": {
      "image/png": "[encoded data removed]",
      "text/plain": [
       "<Figure size 1250x600 with 1 Axes>"
      ]
     },
     "metadata": {},
     "output_type": "display_data"
    },
    {
     "data": {
      "application/vnd.plotly.v1+json": {
       "config": {
        "plotlyServerURL": "https://plot.ly"
       },
       "data": [
        {
         "marker": {
          "color": [
           2
          ],
          "colorscale": [
           [
            0,
            "#ff9999"
           ],
           [
            0.5,
            "#ff4d4d"
           ],
           [
            1,
            "#cc0000"
           ]
          ],
          "showscale": true,
          "size": [
           65
          ]
         },
         "mode": "markers+text",
         "textposition": "top center",
         "type": "scatter",
         "x": [
          493.28868580590006
         ],
         "y": [
          1909
         ]
        }
       ],
       "layout": {
        "autosize": true,
        "font": {
         "color": "black",
         "family": "system-ui, -apple-system, \"Segoe UI\", Roboto, \"Helvetica Neue\", Arial, \"Noto Sans\", \"Liberation Sans\", sans-serif, \"Apple Color Emoji\", \"Segoe UI Emoji\", \"Segoe UI Symbol\", \"Noto Color Emoji\"",
         "size": 12
        },
        "plot_bgcolor": "white",
        "showlegend": false,
        "template": {
         "data": {
          "bar": [
           {
            "error_x": {
             "color": "#2a3f5f"
            },
            "error_y": {
             "color": "#2a3f5f"
            },
            "marker": {
             "line": {
              "color": "#E5ECF6",
              "width": 0.5
             },
             "pattern": {
              "fillmode": "overlay",
              "size": 10,
              "solidity": 0.2
             }
            },
            "type": "bar"
           }
          ],
          "barpolar": [
           {
            "marker": {
             "line": {
              "color": "#E5ECF6",
              "width": 0.5
             },
             "pattern": {
              "fillmode": "overlay",
              "size": 10,
              "solidity": 0.2
             }
            },
            "type": "barpolar"
           }
          ],
          "carpet": [
           {
            "aaxis": {
             "endlinecolor": "#2a3f5f",
             "gridcolor": "white",
             "linecolor": "white",
             "minorgridcolor": "white",
             "startlinecolor": "#2a3f5f"
            },
            "baxis": {
             "endlinecolor": "#2a3f5f",
             "gridcolor": "white",
             "linecolor": "white",
             "minorgridcolor": "white",
             "startlinecolor": "#2a3f5f"
            },
            "type": "carpet"
           }
          ],
          "choropleth": [
           {
            "colorbar": {
             "outlinewidth": 0,
             "ticks": ""
            },
            "type": "choropleth"
           }
          ],
          "contour": [
           {
            "colorbar": {
             "outlinewidth": 0,
             "ticks": ""
            },
            "colorscale": [
             [
              0,
              "#0d0887"
             ],
             [
              0.1111111111111111,
              "#46039f"
             ],
             [
              0.2222222222222222,
              "#7201a8"
             ],
             [
              0.3333333333333333,
              "#9c179e"
             ],
             [
              0.4444444444444444,
              "#bd3786"
             ],
             [
              0.5555555555555556,
              "#d8576b"
             ],
             [
              0.6666666666666666,
              "#ed7953"
             ],
             [
              0.7777777777777778,
              "#fb9f3a"
             ],
             [
              0.8888888888888888,
              "#fdca26"
             ],
             [
              1,
              "#f0f921"
             ]
            ],
            "type": "contour"
           }
          ],
          "contourcarpet": [
           {
            "colorbar": {
             "outlinewidth": 0,
             "ticks": ""
            },
            "type": "contourcarpet"
           }
          ],
          "heatmap": [
           {
            "colorbar": {
             "outlinewidth": 0,
             "ticks": ""
            },
            "colorscale": [
             [
              0,
              "#0d0887"
             ],
             [
              0.1111111111111111,
              "#46039f"
             ],
             [
              0.2222222222222222,
              "#7201a8"
             ],
             [
              0.3333333333333333,
              "#9c179e"
             ],
             [
              0.4444444444444444,
              "#bd3786"
             ],
             [
              0.5555555555555556,
              "#d8576b"
             ],
             [
              0.6666666666666666,
              "#ed7953"
             ],
             [
              0.7777777777777778,
              "#fb9f3a"
             ],
             [
              0.8888888888888888,
              "#fdca26"
             ],
             [
              1,
              "#f0f921"
             ]
            ],
            "type": "heatmap"
           }
          ],
          "heatmapgl": [
           {
            "colorbar": {
             "outlinewidth": 0,
             "ticks": ""
            },
            "colorscale": [
             [
              0,
              "#0d0887"
             ],
             [
              0.1111111111111111,
              "#46039f"
             ],
             [
              0.2222222222222222,
              "#7201a8"
             ],
             [
              0.3333333333333333,
              "#9c179e"
             ],
             [
              0.4444444444444444,
              "#bd3786"
             ],
             [
              0.5555555555555556,
              "#d8576b"
             ],
             [
              0.6666666666666666,
              "#ed7953"
             ],
             [
              0.7777777777777778,
              "#fb9f3a"
             ],
             [
              0.8888888888888888,
              "#fdca26"
             ],
             [
              1,
              "#f0f921"
             ]
            ],
            "type": "heatmapgl"
           }
          ],
          "histogram": [
           {
            "marker": {
             "pattern": {
              "fillmode": "overlay",
              "size": 10,
              "solidity": 0.2
             }
            },
            "type": "histogram"
           }
          ],
          "histogram2d": [
           {
            "colorbar": {
             "outlinewidth": 0,
             "ticks": ""
            },
            "colorscale": [
             [
              0,
              "#0d0887"
             ],
             [
              0.1111111111111111,
              "#46039f"
             ],
             [
              0.2222222222222222,
              "#7201a8"
             ],
             [
              0.3333333333333333,
              "#9c179e"
             ],
             [
              0.4444444444444444,
              "#bd3786"
             ],
             [
              0.5555555555555556,
              "#d8576b"
             ],
             [
              0.6666666666666666,
              "#ed7953"
             ],
             [
              0.7777777777777778,
              "#fb9f3a"
             ],
             [
              0.8888888888888888,
              "#fdca26"
             ],
             [
              1,
              "#f0f921"
             ]
            ],
            "type": "histogram2d"
           }
          ],
          "histogram2dcontour": [
           {
            "colorbar": {
             "outlinewidth": 0,
             "ticks": ""
            },
            "colorscale": [
             [
              0,
              "#0d0887"
             ],
             [
              0.1111111111111111,
              "#46039f"
             ],
             [
              0.2222222222222222,
              "#7201a8"
             ],
             [
              0.3333333333333333,
              "#9c179e"
             ],
             [
              0.4444444444444444,
              "#bd3786"
             ],
             [
              0.5555555555555556,
              "#d8576b"
             ],
             [
              0.6666666666666666,
              "#ed7953"
             ],
             [
              0.7777777777777778,
              "#fb9f3a"
             ],
             [
              0.8888888888888888,
              "#fdca26"
             ],
             [
              1,
              "#f0f921"
             ]
            ],
            "type": "histogram2dcontour"
           }
          ],
          "mesh3d": [
           {
            "colorbar": {
             "outlinewidth": 0,
             "ticks": ""
            },
            "type": "mesh3d"
           }
          ],
          "parcoords": [
           {
            "line": {
             "colorbar": {
              "outlinewidth": 0,
              "ticks": ""
             }
            },
            "type": "parcoords"
           }
          ],
          "pie": [
           {
            "automargin": true,
            "type": "pie"
           }
          ],
          "scatter": [
           {
            "fillpattern": {
             "fillmode": "overlay",
             "size": 10,
             "solidity": 0.2
            },
            "type": "scatter"
           }
          ],
          "scatter3d": [
           {
            "line": {
             "colorbar": {
              "outlinewidth": 0,
              "ticks": ""
             }
            },
            "marker": {
             "colorbar": {
              "outlinewidth": 0,
              "ticks": ""
             }
            },
            "type": "scatter3d"
           }
          ],
          "scattercarpet": [
           {
            "marker": {
             "colorbar": {
              "outlinewidth": 0,
              "ticks": ""
             }
            },
            "type": "scattercarpet"
           }
          ],
          "scattergeo": [
           {
            "marker": {
             "colorbar": {
              "outlinewidth": 0,
              "ticks": ""
             }
            },
            "type": "scattergeo"
           }
          ],
          "scattergl": [
           {
            "marker": {
             "colorbar": {
              "outlinewidth": 0,
              "ticks": ""
             }
            },
            "type": "scattergl"
           }
          ],
          "scattermapbox": [
           {
            "marker": {
             "colorbar": {
              "outlinewidth": 0,
              "ticks": ""
             }
            },
            "type": "scattermapbox"
           }
          ],
          "scatterpolar": [
           {
            "marker": {
             "colorbar": {
              "outlinewidth": 0,
              "ticks": ""
             }
            },
            "type": "scatterpolar"
           }
          ],
          "scatterpolargl": [
           {
            "marker": {
             "colorbar": {
              "outlinewidth": 0,
              "ticks": ""
             }
            },
            "type": "scatterpolargl"
           }
          ],
          "scatterternary": [
           {
            "marker": {
             "colorbar": {
              "outlinewidth": 0,
              "ticks": ""
             }
            },
            "type": "scatterternary"
           }
          ],
          "surface": [
           {
            "colorbar": {
             "outlinewidth": 0,
             "ticks": ""
            },
            "colorscale": [
             [
              0,
              "#0d0887"
             ],
             [
              0.1111111111111111,
              "#46039f"
             ],
             [
              0.2222222222222222,
              "#7201a8"
             ],
             [
              0.3333333333333333,
              "#9c179e"
             ],
             [
              0.4444444444444444,
              "#bd3786"
             ],
             [
              0.5555555555555556,
              "#d8576b"
             ],
             [
              0.6666666666666666,
              "#ed7953"
             ],
             [
              0.7777777777777778,
              "#fb9f3a"
             ],
             [
              0.8888888888888888,
              "#fdca26"
             ],
             [
              1,
              "#f0f921"
             ]
            ],
            "type": "surface"
           }
          ],
          "table": [
           {
            "cells": {
             "fill": {
              "color": "#EBF0F8"
             },
             "line": {
              "color": "white"
             }
            },
            "header": {
             "fill": {
              "color": "#C8D4E3"
             },
             "line": {
              "color": "white"
             }
            },
            "type": "table"
           }
          ]
         },
         "layout": {
          "annotationdefaults": {
           "arrowcolor": "#2a3f5f",
           "arrowhead": 0,
           "arrowwidth": 1
          },
          "autotypenumbers": "strict",
          "coloraxis": {
           "colorbar": {
            "outlinewidth": 0,
            "ticks": ""
           }
          },
          "colorscale": {
           "diverging": [
            [
             0,
             "#8e0152"
            ],
            [
             0.1,
             "#c51b7d"
            ],
            [
             0.2,
             "#de77ae"
            ],
            [
             0.3,
             "#f1b6da"
            ],
            [
             0.4,
             "#fde0ef"
            ],
            [
             0.5,
             "#f7f7f7"
            ],
            [
             0.6,
             "#e6f5d0"
            ],
            [
             0.7,
             "#b8e186"
            ],
            [
             0.8,
             "#7fbc41"
            ],
            [
             0.9,
             "#4d9221"
            ],
            [
             1,
             "#276419"
            ]
           ],
           "sequential": [
            [
             0,
             "#0d0887"
            ],
            [
             0.1111111111111111,
             "#46039f"
            ],
            [
             0.2222222222222222,
             "#7201a8"
            ],
            [
             0.3333333333333333,
             "#9c179e"
            ],
            [
             0.4444444444444444,
             "#bd3786"
            ],
            [
             0.5555555555555556,
             "#d8576b"
            ],
            [
             0.6666666666666666,
             "#ed7953"
            ],
            [
             0.7777777777777778,
             "#fb9f3a"
            ],
            [
             0.8888888888888888,
             "#fdca26"
            ],
            [
             1,
             "#f0f921"
            ]
           ],
           "sequentialminus": [
            [
             0,
             "#0d0887"
            ],
            [
             0.1111111111111111,
             "#46039f"
            ],
            [
             0.2222222222222222,
             "#7201a8"
            ],
            [
             0.3333333333333333,
             "#9c179e"
            ],
            [
             0.4444444444444444,
             "#bd3786"
            ],
            [
             0.5555555555555556,
             "#d8576b"
            ],
            [
             0.6666666666666666,
             "#ed7953"
            ],
            [
             0.7777777777777778,
             "#fb9f3a"
            ],
            [
             0.8888888888888888,
             "#fdca26"
            ],
            [
             1,
             "#f0f921"
            ]
           ]
          },
          "colorway": [
           "#636efa",
           "#EF553B",
           "#00cc96",
           "#ab63fa",
           "#FFA15A",
           "#19d3f3",
           "#FF6692",
           "#B6E880",
           "#FF97FF",
           "#FECB52"
          ],
          "font": {
           "color": "#2a3f5f"
          },
          "geo": {
           "bgcolor": "white",
           "lakecolor": "white",
           "landcolor": "#E5ECF6",
           "showlakes": true,
           "showland": true,
           "subunitcolor": "white"
          },
          "hoverlabel": {
           "align": "left"
          },
          "hovermode": "closest",
          "mapbox": {
           "style": "light"
          },
          "paper_bgcolor": "white",
          "plot_bgcolor": "#E5ECF6",
          "polar": {
           "angularaxis": {
            "gridcolor": "white",
            "linecolor": "white",
            "ticks": ""
           },
           "bgcolor": "#E5ECF6",
           "radialaxis": {
            "gridcolor": "white",
            "linecolor": "white",
            "ticks": ""
           }
          },
          "scene": {
           "xaxis": {
            "backgroundcolor": "#E5ECF6",
            "gridcolor": "white",
            "gridwidth": 2,
            "linecolor": "white",
            "showbackground": true,
            "ticks": "",
            "zerolinecolor": "white"
           },
           "yaxis": {
            "backgroundcolor": "#E5ECF6",
            "gridcolor": "white",
            "gridwidth": 2,
            "linecolor": "white",
            "showbackground": true,
            "ticks": "",
            "zerolinecolor": "white"
           },
           "zaxis": {
            "backgroundcolor": "#E5ECF6",
            "gridcolor": "white",
            "gridwidth": 2,
            "linecolor": "white",
            "showbackground": true,
            "ticks": "",
            "zerolinecolor": "white"
           }
          },
          "shapedefaults": {
           "line": {
            "color": "#2a3f5f"
           }
          },
          "ternary": {
           "aaxis": {
            "gridcolor": "white",
            "linecolor": "white",
            "ticks": ""
           },
           "baxis": {
            "gridcolor": "white",
            "linecolor": "white",
            "ticks": ""
           },
           "bgcolor": "#E5ECF6",
           "caxis": {
            "gridcolor": "white",
            "linecolor": "white",
            "ticks": ""
           }
          },
          "title": {
           "x": 0.05
          },
          "xaxis": {
           "automargin": true,
           "gridcolor": "white",
           "linecolor": "white",
           "ticks": "",
           "title": {
            "standoff": 15
           },
           "zerolinecolor": "white",
           "zerolinewidth": 2
          },
          "yaxis": {
           "automargin": true,
           "gridcolor": "white",
           "linecolor": "white",
           "ticks": "",
           "title": {
            "standoff": 15
           },
           "zerolinecolor": "white",
           "zerolinewidth": 2
          }
         }
        },
        "xaxis": {
         "gridcolor": "lightgrey",
         "linecolor": "black",
         "title": {
          "font": {
           "color": "black",
           "family": "system-ui, -apple-system, \"Segoe UI\", Roboto, \"Helvetica Neue\", Arial, \"Noto Sans\", \"Liberation Sans\", sans-serif, \"Apple Color Emoji\", \"Segoe UI Emoji\", \"Segoe UI Symbol\", \"Noto Color Emoji\"",
           "size": 12
          },
          "text": "Distance from the City (km)"
         }
        },
        "yaxis": {
         "dtick": 1,
         "gridcolor": "lightgrey",
         "linecolor": "black",
         "tickmode": "linear",
         "title": {
          "font": {
           "color": "black",
           "family": "system-ui, -apple-system, \"Segoe UI\", Roboto, \"Helvetica Neue\", Arial, \"Noto Sans\", \"Liberation Sans\", sans-serif, \"Apple Color Emoji\", \"Segoe UI Emoji\", \"Segoe UI Symbol\", \"Noto Color Emoji\"",
           "size": 12
          },
          "text": "Year"
         }
        }
       }
      }
     },
     "metadata": {},
     "output_type": "display_data"
    }
   ],
   "source": [
    "def get_earthquake_data():\n",
    "    url = \"http://www.ngdc.noaa.gov/hazel/hazard-service/api/v1/earthquakes\"\n",
    "    response = requests.get(url, params={\"minYear\": 1900, \"maxYear\": datetime.now().year})\n",
    "    response.raise_for_status()  # Check if the request was successful\n",
    "    eq_json = response.json()\n",
    "    eq = pd.json_normalize(eq_json, record_path=['items'])\n",
    "    return eq\n",
    "def get_earthquake_timeline():\n",
    "    damages = {\n",
    "        \"0\": \"None\",\n",
    "        \"1\": \"Limited\",\n",
    "        \"2\": \"Moderate\",\n",
    "        \"3\": \"Severe\",\n",
    "        \"4\": \"Extreme\"\n",
    "    }\n",
    "\n",
    "    severity_colors = {\n",
    "        \"Low\": \"#ff9999\",\n",
    "        \"Moderate\": \"#ff4d4d\",\n",
    "        \"High\": \"#cc0000\"\n",
    "    }\n",
    "\n",
    "    eq = get_earthquake_data()\n",
    "\n",
    "    city_point = features.unary_union.centroid\n",
    "\n",
    "    eq_near = eq.dropna(subset=['latitude', 'longitude'])\n",
    "    eq_near['geometry'] = eq_near.apply(lambda row: Point(row['longitude'], row['latitude']), axis=1)\n",
    "    eq_near = gpd.GeoDataFrame(eq_near, geometry='geometry', crs='EPSG:4326')\n",
    "\n",
    "    eq_near = eq_near.to_crs(\"EPSG:3857\")\n",
    "    city_point = gpd.GeoSeries([city_point], crs=\"EPSG:4326\").to_crs(\"EPSG:3857\").iloc[0]\n",
    "\n",
    "    eq_near['distance'] = eq_near.geometry.distance(city_point) / 1000  \n",
    "    eq_near['magXdist'] = eq_near['eqMagnitude'] * (2000 - eq_near['distance'])\n",
    "\n",
    "    eq_near['damageAmountOrder'] = eq_near['damageAmountOrder'].fillna(0).astype(int)\n",
    "    eq_near['damageMillionsDollars'] = eq_near['damageMillionsDollars'].fillna(0).astype(float)\n",
    "    eq_near['deaths'] = eq_near['deaths'].fillna(0).astype(int)\n",
    "    eq_near['deathsAmountOrder'] = eq_near['deathsAmountOrder'].fillna(0).astype(int)\n",
    "    eq_near['eqMagnitude'] = eq_near['eqMagnitude'].fillna(0).astype(float)\n",
    "    eq_near['intensity'] = eq_near['intensity'].fillna(0).astype(int)\n",
    "\n",
    "    conditions = (\n",
    "        (eq_near['damageAmountOrder'] >= 2) |\n",
    "        (eq_near['damageMillionsDollars'] >= 1) |\n",
    "        (eq_near['deaths'] >= 10) |\n",
    "        (eq_near['deathsAmountOrder'] >= 2) |\n",
    "        (eq_near['eqMagnitude'] >= 7.5) |\n",
    "        (eq_near['intensity'] >= 10) |\n",
    "        (~eq_near['tsunamiEventId'].isna())\n",
    "    )\n",
    "\n",
    "    eq_near = eq_near[conditions & (eq_near['distance'] < 500)]\n",
    "\n",
    "    eq_text = eq_near.copy()\n",
    "    if 'locationName' in eq_text.columns:\n",
    "        eq_text['locationName'] = eq_text['locationName'].astype(str)\n",
    "        eq_text['location'] = eq_text['locationName'].str.extract(r\"([^:][\\s]+.*)\", expand=False).str.strip()\n",
    "    else:\n",
    "        eq_text['location'] = \"\"\n",
    "\n",
    "    eq_text['fatalities'] = eq_text['deaths'].apply(lambda x: f\"{int(x):,} fatalities\" if pd.notna(x) else \"\")\n",
    "    eq_text['fatalities'] = eq_text['fatalities'].str.replace(\"1 fatalities\", \"1 fatality\")\n",
    "    eq_text['fatalities'] = eq_text['fatalities'].str.replace(\"NA fatalities\", \"\")\n",
    "    eq_text['damage'] = eq_text['damageAmountOrder'].apply(lambda x: damages.get(str(int(x)), \"Unknown\") + \" damage\")\n",
    "    eq_text['day'] = eq_text['day'].fillna(1).astype(int)\n",
    "    eq_text['BEGAN'] = pd.to_datetime(eq_text[['year', 'month', 'day']])\n",
    "\n",
    "    eq_text = eq_text.sort_values(by='BEGAN')\n",
    "    eq_text['line1'] = eq_text['BEGAN'].dt.strftime('%B %Y').str.upper()\n",
    "    eq_text['line2'] = eq_text.apply(lambda row: f\"{row['eqMagnitude']}-magnitude; {int(row['distance']):,} km away\", axis=1)\n",
    "    eq_text['line3'] = eq_text['damage']\n",
    "    eq_text['line4'] = eq_text['fatalities']\n",
    "    eq_text['text'] = eq_text.apply(lambda row: f\"{row['line1']}\\n{row['line2']}\\n{row['line3']}\\n{row['line4']}\", axis=1)\n",
    "    eq_text['above_line'] = (2 * (np.arange(len(eq_text)) % 2) - 1) * -1\n",
    "\n",
    "    eq_text_select = eq_text.nlargest(10, 'magXdist').sort_values(by='BEGAN')\n",
    "\n",
    "    eq_text_select['severity_color'] = eq_text_select['damageAmountOrder'].apply(lambda x: severity_colors.get(str(int(x)), 'black'))\n",
    "\n",
    "    plt.figure(figsize=(12.5, 6))\n",
    "    scatter = plt.scatter(eq_text_select['distance'], eq_text_select['BEGAN'].dt.year, s=eq_text_select['eqMagnitude'] * 100, alpha=0.6, c=eq_text_select['severity_color'], edgecolors=\"w\", linewidth=0.5)\n",
    "    for _, row in eq_text_select.iterrows():\n",
    "        plt.text(row['distance'] + 0.1, row['BEGAN'].year + 0.1, row['text'], fontsize=8, ha='left')\n",
    "    plt.xlabel('Distance from the City (km)')\n",
    "    plt.ylabel('Year')\n",
    "    plt.title('Significant Earthquakes within 500 km of the city since 1900')\n",
    "    plt.grid(True, linestyle='--', linewidth=0.5)\n",
    "    plt.tight_layout()\n",
    "    render_path = os.path.join(render_folder, f\"{city}_earthquake_timeline.png\")\n",
    "    plt.savefig(render_path, bbox_inches='tight')\n",
    "    plt.show()\n",
    "\n",
    "    fig = go.Figure()\n",
    "\n",
    "    fig.add_trace(go.Scatter(\n",
    "        x=eq_text_select['distance'],\n",
    "        y=eq_text_select['BEGAN'].dt.year,\n",
    "        mode='markers+text',\n",
    "        marker=dict(\n",
    "            size=eq_text_select['eqMagnitude'] * 10,\n",
    "            color=eq_text_select['damageAmountOrder'],\n",
    "            colorscale=['#ff9999', '#ff4d4d', '#cc0000'],\n",
    "            showscale=True\n",
    "        ),\n",
    "        textposition='top center'\n",
    "    ))\n",
    "\n",
    "    fig.update_layout(\n",
    "        template='plotly_white',\n",
    "        xaxis=dict(\n",
    "            title='Distance from the City (km)',\n",
    "            linecolor='black', \n",
    "            titlefont=font_dict\n",
    "        ),\n",
    "        autosize=True,\n",
    "        yaxis=dict(\n",
    "            title='Year',\n",
    "            tickmode='linear',  \n",
    "            dtick=1,\n",
    "            linecolor='black',\n",
    "            titlefont=font_dict\n",
    "        ),\n",
    "        font=font_dict,\n",
    "        showlegend=False,\n",
    "        plot_bgcolor='white'  \n",
    "    )\n",
    "    fig.show()\n",
    "    fig.write_html(render_path.replace('.png', '.html'), full_html=False, include_plotlyjs='cdn')\n",
    "get_earthquake_timeline()"
   ]
  },
  {
   "cell_type": "code",
   "execution_count": 60,
   "id": "31fd4b3e",
   "metadata": {},
   "outputs": [
    {
     "name": "stdout",
     "output_type": "stream",
     "text": [
      "Tally of flood events\n",
      "DEAD             6773\n",
      "DISPLACED    21322670\n",
      "BEGAN              21\n",
      "dtype: int64\n"
     ]
    },
    {
     "name": "stderr",
     "output_type": "stream",
     "text": [
      "/Users/ipshitakarmakar/mambaforge/envs/geo/lib/python3.11/site-packages/shapely/predicates.py:798: RuntimeWarning:\n",
      "\n",
      "invalid value encountered in intersects\n",
      "\n",
      "/var/folders/tb/lt6mv9zn47973s97jtlwv_b40000gn/T/ipykernel_43707/3969248459.py:20: SettingWithCopyWarning:\n",
      "\n",
      "\n",
      "A value is trying to be set on a copy of a slice from a DataFrame.\n",
      "Try using .loc[row_indexer,col_indexer] = value instead\n",
      "\n",
      "See the caveats in the documentation: https://pandas.pydata.org/pandas-docs/stable/user_guide/indexing.html#returning-a-view-versus-a-copy\n",
      "\n",
      "/var/folders/tb/lt6mv9zn47973s97jtlwv_b40000gn/T/ipykernel_43707/3969248459.py:21: SettingWithCopyWarning:\n",
      "\n",
      "\n",
      "A value is trying to be set on a copy of a slice from a DataFrame.\n",
      "Try using .loc[row_indexer,col_indexer] = value instead\n",
      "\n",
      "See the caveats in the documentation: https://pandas.pydata.org/pandas-docs/stable/user_guide/indexing.html#returning-a-view-versus-a-copy\n",
      "\n",
      "/var/folders/tb/lt6mv9zn47973s97jtlwv_b40000gn/T/ipykernel_43707/3969248459.py:22: SettingWithCopyWarning:\n",
      "\n",
      "\n",
      "A value is trying to be set on a copy of a slice from a DataFrame.\n",
      "Try using .loc[row_indexer,col_indexer] = value instead\n",
      "\n",
      "See the caveats in the documentation: https://pandas.pydata.org/pandas-docs/stable/user_guide/indexing.html#returning-a-view-versus-a-copy\n",
      "\n",
      "/var/folders/tb/lt6mv9zn47973s97jtlwv_b40000gn/T/ipykernel_43707/3969248459.py:29: SettingWithCopyWarning:\n",
      "\n",
      "\n",
      "A value is trying to be set on a copy of a slice from a DataFrame.\n",
      "Try using .loc[row_indexer,col_indexer] = value instead\n",
      "\n",
      "See the caveats in the documentation: https://pandas.pydata.org/pandas-docs/stable/user_guide/indexing.html#returning-a-view-versus-a-copy\n",
      "\n",
      "/var/folders/tb/lt6mv9zn47973s97jtlwv_b40000gn/T/ipykernel_43707/3969248459.py:30: SettingWithCopyWarning:\n",
      "\n",
      "\n",
      "A value is trying to be set on a copy of a slice from a DataFrame.\n",
      "Try using .loc[row_indexer,col_indexer] = value instead\n",
      "\n",
      "See the caveats in the documentation: https://pandas.pydata.org/pandas-docs/stable/user_guide/indexing.html#returning-a-view-versus-a-copy\n",
      "\n",
      "/var/folders/tb/lt6mv9zn47973s97jtlwv_b40000gn/T/ipykernel_43707/3969248459.py:38: SettingWithCopyWarning:\n",
      "\n",
      "\n",
      "A value is trying to be set on a copy of a slice from a DataFrame.\n",
      "Try using .loc[row_indexer,col_indexer] = value instead\n",
      "\n",
      "See the caveats in the documentation: https://pandas.pydata.org/pandas-docs/stable/user_guide/indexing.html#returning-a-view-versus-a-copy\n",
      "\n"
     ]
    },
    {
     "data": {
      "application/vnd.plotly.v1+json": {
       "config": {
        "plotlyServerURL": "https://plot.ly"
       },
       "data": [
        {
         "hovertemplate": "Severity=Extreme event<br>Year=%{x}<br>Month=%{y}<br>Displaced=%{marker.size}<extra></extra>",
         "legendgroup": "Extreme event",
         "marker": {
          "color": "darkblue",
          "size": [
           600000,
           7000000,
           37770,
           300000
          ],
          "sizemode": "area",
          "sizeref": 1944.4444444444443,
          "symbol": "circle"
         },
         "mode": "markers",
         "name": "Extreme event",
         "orientation": "h",
         "showlegend": true,
         "type": "scatter",
         "x": [
          1991,
          1995,
          1996,
          2010
         ],
         "xaxis": "x",
         "y": [
          "May",
          "May",
          "June",
          "July"
         ],
         "yaxis": "y"
        },
        {
         "hovertemplate": "Severity=Large event<br>Year=%{x}<br>Month=%{y}<br>Displaced=%{marker.size}<extra></extra>",
         "legendgroup": "Large event",
         "marker": {
          "color": "lightblue",
          "size": [
           615000,
           0,
           120000,
           200000,
           0,
           5530000,
           1500000,
           0,
           0,
           300000,
           36900,
           5000,
           118000
          ],
          "sizemode": "area",
          "sizeref": 1944.4444444444443,
          "symbol": "circle"
         },
         "mode": "markers",
         "name": "Large event",
         "orientation": "h",
         "showlegend": true,
         "type": "scatter",
         "x": [
          1991,
          1992,
          1992,
          1997,
          1998,
          1999,
          2003,
          2004,
          2004,
          2005,
          2006,
          2008,
          2009
         ],
         "xaxis": "x",
         "y": [
          "July",
          "March",
          "June",
          "July",
          "August",
          "June",
          "June",
          "June",
          "June",
          "May",
          "April",
          "May",
          "August"
         ],
         "yaxis": "y"
        },
        {
         "hovertemplate": "Severity=Very large event<br>Year=%{x}<br>Month=%{y}<br>Displaced=%{marker.size}<extra></extra>",
         "legendgroup": "Very large event",
         "marker": {
          "color": "blue",
          "size": [
           3170000,
           1600000,
           120000,
           70000
          ],
          "sizemode": "area",
          "sizeref": 1944.4444444444443,
          "symbol": "circle"
         },
         "mode": "markers",
         "name": "Very large event",
         "orientation": "h",
         "showlegend": true,
         "type": "scatter",
         "x": [
          2007,
          2011,
          2012,
          2020
         ],
         "xaxis": "x",
         "y": [
          "June",
          "July",
          "June",
          "June"
         ],
         "yaxis": "y"
        }
       ],
       "layout": {
        "autosize": true,
        "coloraxis": {
         "colorbar": {
          "title": {
           "text": "Severity"
          }
         }
        },
        "font": {
         "color": "black",
         "family": "system-ui, -apple-system, \"Segoe UI\", Roboto, \"Helvetica Neue\", Arial, \"Noto Sans\", \"Liberation Sans\", sans-serif, \"Apple Color Emoji\", \"Segoe UI Emoji\", \"Segoe UI Symbol\", \"Noto Color Emoji\"",
         "size": 12
        },
        "legend": {
         "itemsizing": "constant",
         "title": {
          "text": "Severity"
         },
         "tracegroupgap": 0
        },
        "margin": {
         "t": 60
        },
        "plot_bgcolor": "white",
        "showlegend": false,
        "template": {
         "data": {
          "bar": [
           {
            "error_x": {
             "color": "#2a3f5f"
            },
            "error_y": {
             "color": "#2a3f5f"
            },
            "marker": {
             "line": {
              "color": "white",
              "width": 0.5
             },
             "pattern": {
              "fillmode": "overlay",
              "size": 10,
              "solidity": 0.2
             }
            },
            "type": "bar"
           }
          ],
          "barpolar": [
           {
            "marker": {
             "line": {
              "color": "white",
              "width": 0.5
             },
             "pattern": {
              "fillmode": "overlay",
              "size": 10,
              "solidity": 0.2
             }
            },
            "type": "barpolar"
           }
          ],
          "carpet": [
           {
            "aaxis": {
             "endlinecolor": "#2a3f5f",
             "gridcolor": "#C8D4E3",
             "linecolor": "#C8D4E3",
             "minorgridcolor": "#C8D4E3",
             "startlinecolor": "#2a3f5f"
            },
            "baxis": {
             "endlinecolor": "#2a3f5f",
             "gridcolor": "#C8D4E3",
             "linecolor": "#C8D4E3",
             "minorgridcolor": "#C8D4E3",
             "startlinecolor": "#2a3f5f"
            },
            "type": "carpet"
           }
          ],
          "choropleth": [
           {
            "colorbar": {
             "outlinewidth": 0,
             "ticks": ""
            },
            "type": "choropleth"
           }
          ],
          "contour": [
           {
            "colorbar": {
             "outlinewidth": 0,
             "ticks": ""
            },
            "colorscale": [
             [
              0,
              "#0d0887"
             ],
             [
              0.1111111111111111,
              "#46039f"
             ],
             [
              0.2222222222222222,
              "#7201a8"
             ],
             [
              0.3333333333333333,
              "#9c179e"
             ],
             [
              0.4444444444444444,
              "#bd3786"
             ],
             [
              0.5555555555555556,
              "#d8576b"
             ],
             [
              0.6666666666666666,
              "#ed7953"
             ],
             [
              0.7777777777777778,
              "#fb9f3a"
             ],
             [
              0.8888888888888888,
              "#fdca26"
             ],
             [
              1,
              "#f0f921"
             ]
            ],
            "type": "contour"
           }
          ],
          "contourcarpet": [
           {
            "colorbar": {
             "outlinewidth": 0,
             "ticks": ""
            },
            "type": "contourcarpet"
           }
          ],
          "heatmap": [
           {
            "colorbar": {
             "outlinewidth": 0,
             "ticks": ""
            },
            "colorscale": [
             [
              0,
              "#0d0887"
             ],
             [
              0.1111111111111111,
              "#46039f"
             ],
             [
              0.2222222222222222,
              "#7201a8"
             ],
             [
              0.3333333333333333,
              "#9c179e"
             ],
             [
              0.4444444444444444,
              "#bd3786"
             ],
             [
              0.5555555555555556,
              "#d8576b"
             ],
             [
              0.6666666666666666,
              "#ed7953"
             ],
             [
              0.7777777777777778,
              "#fb9f3a"
             ],
             [
              0.8888888888888888,
              "#fdca26"
             ],
             [
              1,
              "#f0f921"
             ]
            ],
            "type": "heatmap"
           }
          ],
          "heatmapgl": [
           {
            "colorbar": {
             "outlinewidth": 0,
             "ticks": ""
            },
            "colorscale": [
             [
              0,
              "#0d0887"
             ],
             [
              0.1111111111111111,
              "#46039f"
             ],
             [
              0.2222222222222222,
              "#7201a8"
             ],
             [
              0.3333333333333333,
              "#9c179e"
             ],
             [
              0.4444444444444444,
              "#bd3786"
             ],
             [
              0.5555555555555556,
              "#d8576b"
             ],
             [
              0.6666666666666666,
              "#ed7953"
             ],
             [
              0.7777777777777778,
              "#fb9f3a"
             ],
             [
              0.8888888888888888,
              "#fdca26"
             ],
             [
              1,
              "#f0f921"
             ]
            ],
            "type": "heatmapgl"
           }
          ],
          "histogram": [
           {
            "marker": {
             "pattern": {
              "fillmode": "overlay",
              "size": 10,
              "solidity": 0.2
             }
            },
            "type": "histogram"
           }
          ],
          "histogram2d": [
           {
            "colorbar": {
             "outlinewidth": 0,
             "ticks": ""
            },
            "colorscale": [
             [
              0,
              "#0d0887"
             ],
             [
              0.1111111111111111,
              "#46039f"
             ],
             [
              0.2222222222222222,
              "#7201a8"
             ],
             [
              0.3333333333333333,
              "#9c179e"
             ],
             [
              0.4444444444444444,
              "#bd3786"
             ],
             [
              0.5555555555555556,
              "#d8576b"
             ],
             [
              0.6666666666666666,
              "#ed7953"
             ],
             [
              0.7777777777777778,
              "#fb9f3a"
             ],
             [
              0.8888888888888888,
              "#fdca26"
             ],
             [
              1,
              "#f0f921"
             ]
            ],
            "type": "histogram2d"
           }
          ],
          "histogram2dcontour": [
           {
            "colorbar": {
             "outlinewidth": 0,
             "ticks": ""
            },
            "colorscale": [
             [
              0,
              "#0d0887"
             ],
             [
              0.1111111111111111,
              "#46039f"
             ],
             [
              0.2222222222222222,
              "#7201a8"
             ],
             [
              0.3333333333333333,
              "#9c179e"
             ],
             [
              0.4444444444444444,
              "#bd3786"
             ],
             [
              0.5555555555555556,
              "#d8576b"
             ],
             [
              0.6666666666666666,
              "#ed7953"
             ],
             [
              0.7777777777777778,
              "#fb9f3a"
             ],
             [
              0.8888888888888888,
              "#fdca26"
             ],
             [
              1,
              "#f0f921"
             ]
            ],
            "type": "histogram2dcontour"
           }
          ],
          "mesh3d": [
           {
            "colorbar": {
             "outlinewidth": 0,
             "ticks": ""
            },
            "type": "mesh3d"
           }
          ],
          "parcoords": [
           {
            "line": {
             "colorbar": {
              "outlinewidth": 0,
              "ticks": ""
             }
            },
            "type": "parcoords"
           }
          ],
          "pie": [
           {
            "automargin": true,
            "type": "pie"
           }
          ],
          "scatter": [
           {
            "fillpattern": {
             "fillmode": "overlay",
             "size": 10,
             "solidity": 0.2
            },
            "type": "scatter"
           }
          ],
          "scatter3d": [
           {
            "line": {
             "colorbar": {
              "outlinewidth": 0,
              "ticks": ""
             }
            },
            "marker": {
             "colorbar": {
              "outlinewidth": 0,
              "ticks": ""
             }
            },
            "type": "scatter3d"
           }
          ],
          "scattercarpet": [
           {
            "marker": {
             "colorbar": {
              "outlinewidth": 0,
              "ticks": ""
             }
            },
            "type": "scattercarpet"
           }
          ],
          "scattergeo": [
           {
            "marker": {
             "colorbar": {
              "outlinewidth": 0,
              "ticks": ""
             }
            },
            "type": "scattergeo"
           }
          ],
          "scattergl": [
           {
            "marker": {
             "colorbar": {
              "outlinewidth": 0,
              "ticks": ""
             }
            },
            "type": "scattergl"
           }
          ],
          "scattermapbox": [
           {
            "marker": {
             "colorbar": {
              "outlinewidth": 0,
              "ticks": ""
             }
            },
            "type": "scattermapbox"
           }
          ],
          "scatterpolar": [
           {
            "marker": {
             "colorbar": {
              "outlinewidth": 0,
              "ticks": ""
             }
            },
            "type": "scatterpolar"
           }
          ],
          "scatterpolargl": [
           {
            "marker": {
             "colorbar": {
              "outlinewidth": 0,
              "ticks": ""
             }
            },
            "type": "scatterpolargl"
           }
          ],
          "scatterternary": [
           {
            "marker": {
             "colorbar": {
              "outlinewidth": 0,
              "ticks": ""
             }
            },
            "type": "scatterternary"
           }
          ],
          "surface": [
           {
            "colorbar": {
             "outlinewidth": 0,
             "ticks": ""
            },
            "colorscale": [
             [
              0,
              "#0d0887"
             ],
             [
              0.1111111111111111,
              "#46039f"
             ],
             [
              0.2222222222222222,
              "#7201a8"
             ],
             [
              0.3333333333333333,
              "#9c179e"
             ],
             [
              0.4444444444444444,
              "#bd3786"
             ],
             [
              0.5555555555555556,
              "#d8576b"
             ],
             [
              0.6666666666666666,
              "#ed7953"
             ],
             [
              0.7777777777777778,
              "#fb9f3a"
             ],
             [
              0.8888888888888888,
              "#fdca26"
             ],
             [
              1,
              "#f0f921"
             ]
            ],
            "type": "surface"
           }
          ],
          "table": [
           {
            "cells": {
             "fill": {
              "color": "#EBF0F8"
             },
             "line": {
              "color": "white"
             }
            },
            "header": {
             "fill": {
              "color": "#C8D4E3"
             },
             "line": {
              "color": "white"
             }
            },
            "type": "table"
           }
          ]
         },
         "layout": {
          "annotationdefaults": {
           "arrowcolor": "#2a3f5f",
           "arrowhead": 0,
           "arrowwidth": 1
          },
          "autotypenumbers": "strict",
          "coloraxis": {
           "colorbar": {
            "outlinewidth": 0,
            "ticks": ""
           }
          },
          "colorscale": {
           "diverging": [
            [
             0,
             "#8e0152"
            ],
            [
             0.1,
             "#c51b7d"
            ],
            [
             0.2,
             "#de77ae"
            ],
            [
             0.3,
             "#f1b6da"
            ],
            [
             0.4,
             "#fde0ef"
            ],
            [
             0.5,
             "#f7f7f7"
            ],
            [
             0.6,
             "#e6f5d0"
            ],
            [
             0.7,
             "#b8e186"
            ],
            [
             0.8,
             "#7fbc41"
            ],
            [
             0.9,
             "#4d9221"
            ],
            [
             1,
             "#276419"
            ]
           ],
           "sequential": [
            [
             0,
             "#0d0887"
            ],
            [
             0.1111111111111111,
             "#46039f"
            ],
            [
             0.2222222222222222,
             "#7201a8"
            ],
            [
             0.3333333333333333,
             "#9c179e"
            ],
            [
             0.4444444444444444,
             "#bd3786"
            ],
            [
             0.5555555555555556,
             "#d8576b"
            ],
            [
             0.6666666666666666,
             "#ed7953"
            ],
            [
             0.7777777777777778,
             "#fb9f3a"
            ],
            [
             0.8888888888888888,
             "#fdca26"
            ],
            [
             1,
             "#f0f921"
            ]
           ],
           "sequentialminus": [
            [
             0,
             "#0d0887"
            ],
            [
             0.1111111111111111,
             "#46039f"
            ],
            [
             0.2222222222222222,
             "#7201a8"
            ],
            [
             0.3333333333333333,
             "#9c179e"
            ],
            [
             0.4444444444444444,
             "#bd3786"
            ],
            [
             0.5555555555555556,
             "#d8576b"
            ],
            [
             0.6666666666666666,
             "#ed7953"
            ],
            [
             0.7777777777777778,
             "#fb9f3a"
            ],
            [
             0.8888888888888888,
             "#fdca26"
            ],
            [
             1,
             "#f0f921"
            ]
           ]
          },
          "colorway": [
           "#636efa",
           "#EF553B",
           "#00cc96",
           "#ab63fa",
           "#FFA15A",
           "#19d3f3",
           "#FF6692",
           "#B6E880",
           "#FF97FF",
           "#FECB52"
          ],
          "font": {
           "color": "#2a3f5f"
          },
          "geo": {
           "bgcolor": "white",
           "lakecolor": "white",
           "landcolor": "white",
           "showlakes": true,
           "showland": true,
           "subunitcolor": "#C8D4E3"
          },
          "hoverlabel": {
           "align": "left"
          },
          "hovermode": "closest",
          "mapbox": {
           "style": "light"
          },
          "paper_bgcolor": "white",
          "plot_bgcolor": "white",
          "polar": {
           "angularaxis": {
            "gridcolor": "#EBF0F8",
            "linecolor": "#EBF0F8",
            "ticks": ""
           },
           "bgcolor": "white",
           "radialaxis": {
            "gridcolor": "#EBF0F8",
            "linecolor": "#EBF0F8",
            "ticks": ""
           }
          },
          "scene": {
           "xaxis": {
            "backgroundcolor": "white",
            "gridcolor": "#DFE8F3",
            "gridwidth": 2,
            "linecolor": "#EBF0F8",
            "showbackground": true,
            "ticks": "",
            "zerolinecolor": "#EBF0F8"
           },
           "yaxis": {
            "backgroundcolor": "white",
            "gridcolor": "#DFE8F3",
            "gridwidth": 2,
            "linecolor": "#EBF0F8",
            "showbackground": true,
            "ticks": "",
            "zerolinecolor": "#EBF0F8"
           },
           "zaxis": {
            "backgroundcolor": "white",
            "gridcolor": "#DFE8F3",
            "gridwidth": 2,
            "linecolor": "#EBF0F8",
            "showbackground": true,
            "ticks": "",
            "zerolinecolor": "#EBF0F8"
           }
          },
          "shapedefaults": {
           "line": {
            "color": "#2a3f5f"
           }
          },
          "ternary": {
           "aaxis": {
            "gridcolor": "#DFE8F3",
            "linecolor": "#A2B1C6",
            "ticks": ""
           },
           "baxis": {
            "gridcolor": "#DFE8F3",
            "linecolor": "#A2B1C6",
            "ticks": ""
           },
           "bgcolor": "white",
           "caxis": {
            "gridcolor": "#DFE8F3",
            "linecolor": "#A2B1C6",
            "ticks": ""
           }
          },
          "title": {
           "x": 0.05
          },
          "xaxis": {
           "automargin": true,
           "gridcolor": "#EBF0F8",
           "linecolor": "#EBF0F8",
           "ticks": "",
           "title": {
            "standoff": 15
           },
           "zerolinecolor": "#EBF0F8",
           "zerolinewidth": 2
          },
          "yaxis": {
           "automargin": true,
           "gridcolor": "#EBF0F8",
           "linecolor": "#EBF0F8",
           "ticks": "",
           "title": {
            "standoff": 15
           },
           "zerolinecolor": "#EBF0F8",
           "zerolinewidth": 2
          }
         }
        },
        "xaxis": {
         "anchor": "y",
         "domain": [
          0,
          1
         ],
         "linecolor": "black",
         "title": {
          "text": ""
         }
        },
        "yaxis": {
         "anchor": "x",
         "categoryarray": [
          "January",
          "February",
          "March",
          "April",
          "May",
          "June",
          "July",
          "August",
          "September",
          "October",
          "November",
          "December"
         ],
         "categoryorder": "array",
         "domain": [
          0,
          1
         ],
         "linecolor": "black",
         "tickvals": [
          "January",
          "February",
          "March",
          "April",
          "May",
          "June",
          "July",
          "August",
          "September",
          "October",
          "November",
          "December"
         ],
         "title": {
          "text": ""
         },
         "type": "category"
        }
       }
      }
     },
     "metadata": {},
     "output_type": "display_data"
    }
   ],
   "source": [
    "#flood timeline\n",
    "def flood_timeline():\n",
    "    with open(\"../global_inputs.yml\", 'r') as f:\n",
    "        global_inputs = yaml.safe_load(f)\n",
    "\n",
    "    city_inputs = global_inputs.get('city_inputs')\n",
    "\n",
    "    if menu['flood']:  \n",
    "        flood_archive_path = global_inputs.get('flood_timeline_source')\n",
    "        flood_archive = gpd.read_file(flood_archive_path)\n",
    "        flood_archive = flood_archive[flood_archive.is_valid]\n",
    "        aoi = features.to_crs(flood_archive.crs)\n",
    "        flood_archive = flood_archive[flood_archive.intersects(aoi.unary_union)]\n",
    "\n",
    "        floods = flood_archive[['BEGAN', 'ENDED', 'DEAD', 'DISPLACED', 'MAINCAUSE', 'SEVERITY']]\n",
    "\n",
    "        print(\"Tally of flood events\")\n",
    "        print(floods.agg({'DEAD': 'sum', 'DISPLACED': 'sum', 'BEGAN': 'count'}))\n",
    "\n",
    "        floods['BEGAN'] = pd.to_datetime(floods['BEGAN'])\n",
    "        floods['Year'] = floods['BEGAN'].dt.year\n",
    "        floods['Month'] = floods['BEGAN'].dt.month_name()\n",
    "\n",
    "        severity_mapping = {\n",
    "            1: 'Large event',\n",
    "            1.5: 'Very large event',\n",
    "            2: 'Extreme event'\n",
    "        }\n",
    "        floods['Severity'] = floods['SEVERITY'].map(severity_mapping)\n",
    "        floods['text'] = floods.apply(\n",
    "            lambda row: f\"{row['BEGAN'].strftime('%Y-%m-%d')}, {row['Severity'].lower()} {row['MAINCAUSE']}, \"\n",
    "                        f\"{row['DEAD']:,} fatalities, {row['DISPLACED']:,} displaced\",\n",
    "            axis=1\n",
    "        )\n",
    "\n",
    "        os.makedirs(render_folder, exist_ok=True)\n",
    "\n",
    "        floods['Month'] = pd.Categorical(floods['Month'], \n",
    "                                        categories=['January', 'February', 'March', 'April', 'May', 'June', \n",
    "                                                    'July', 'August', 'September', 'October', 'November', 'December'], \n",
    "                                        ordered=True)\n",
    "\n",
    "        fig = px.scatter(\n",
    "            floods,\n",
    "            x='Year',\n",
    "            y='Month',\n",
    "            size='DISPLACED',\n",
    "            color='Severity',\n",
    "            size_max=60,\n",
    "            category_orders={'Month': ['January', 'February', 'March', 'April', 'May', 'June', \n",
    "                                    'July', 'August', 'September', 'October', 'November', 'December']},\n",
    "            color_discrete_map={\n",
    "                'Large event': 'lightblue',\n",
    "                'Very large event': 'blue',\n",
    "                'Extreme event': 'darkblue'\n",
    "            },\n",
    "            labels={'DEAD': 'Fatalities', 'Year': 'Year', 'DISPLACED': 'Displaced', 'Month': 'Month'}\n",
    "        )\n",
    "\n",
    "        fig.update_layout(\n",
    "            template='plotly_white',\n",
    "            autosize=True,\n",
    "            xaxis_title='',\n",
    "            yaxis_title='',\n",
    "            xaxis=dict(\n",
    "                linecolor='black'  \n",
    "            ),       \n",
    "            yaxis=dict(\n",
    "                type='category', \n",
    "                categoryorder='array', \n",
    "                categoryarray=['January', 'February', 'March', 'April', 'May', 'June', \n",
    "                            'July', 'August', 'September', 'October', 'November', 'December'],\n",
    "                tickvals=['January', 'February', 'March', 'April', 'May', 'June', \n",
    "                        'July', 'August', 'September', 'October', 'November', 'December'],\n",
    "                linecolor='black'\n",
    "            ),\n",
    "            coloraxis_colorbar=dict(title='Severity'),\n",
    "            font=font_dict,\n",
    "            showlegend=False,\n",
    "            plot_bgcolor='white'  \n",
    "        )\n",
    "\n",
    "        render_path_html = os.path.join(render_folder, f\"{city}_flood_timeline.html\")\n",
    "        fig.write_html(render_path_html, full_html=False, include_plotlyjs='cdn')\n",
    "        fig.show()\n",
    "\n",
    "        plt.figure(figsize=(12.5, 6))\n",
    "        colors = {\n",
    "            'Large event': 'lightblue',\n",
    "            'Very large event': 'blue',\n",
    "            'Extreme event': 'darkblue'\n",
    "        }\n",
    "        month_order = ['January', 'February', 'March', 'April', 'May', 'June', \n",
    "                       'July', 'August', 'September', 'October', 'November', 'December']\n",
    "        for severity, color in colors.items():\n",
    "            subset = floods[floods['Severity'] == severity]\n",
    "            plt.scatter(subset['Year'], subset['Month'].map(lambda x: month_order.index(x) + 1), \n",
    "                        s=subset['DISPLACED']/10000, c=color, label=severity, alpha=0.6, edgecolors='w', linewidth=0.5)\n",
    "        \n",
    "        plt.yticks(ticks=range(1, 13), labels=month_order)\n",
    "        plt.title('Flood Events Timeline')\n",
    "        plt.xlabel('Year')\n",
    "        plt.ylabel('Month')\n",
    "        plt.legend(title='Severity')\n",
    "        plt.grid(True)\n",
    "        render_path_matplotlib = os.path.join(render_folder, f\"{city}_flood_timeline.png\")\n",
    "        plt.savefig(render_path_matplotlib)\n",
    "        plt.close()\n",
    "flood_timeline()"
   ]
  },
  {
   "cell_type": "code",
   "execution_count": 53,
   "id": "5e8fe622-51c5-4159-906f-74405ebe4101",
   "metadata": {},
   "outputs": [
    {
     "name": "stdout",
     "output_type": "stream",
     "text": [
      "Seasonality is low to moderate, making solar energy available in only some of the months\n"
     ]
    },
    {
     "data": {
      "application/vnd.plotly.v1+json": {
       "config": {
        "plotlyServerURL": "https://plot.ly"
       },
       "data": [
        {
         "hovertemplate": "month=%{x}<br>daily=%{y}<extra></extra>",
         "legendgroup": "",
         "line": {
          "color": "black",
          "dash": "solid"
         },
         "marker": {
          "symbol": "circle"
         },
         "mode": "lines+markers",
         "name": "",
         "orientation": "v",
         "showlegend": false,
         "type": "scatter",
         "x": [
          1,
          2,
          3,
          4,
          5,
          6,
          7,
          8,
          9,
          10,
          11,
          12
         ],
         "xaxis": "x",
         "y": [
          1.6151000261306763,
          2.2298667430877686,
          2.747633457183838,
          2.9860000610351562,
          3.379000186920166,
          2.8339998722076416,
          3.7478997707366943,
          3.881199836730957,
          3.123000144958496,
          2.5151333808898926,
          2.2869999408721924,
          1.8579332828521729
         ],
         "yaxis": "y"
        }
       ],
       "layout": {
        "annotations": [
         {
          "font": {
           "color": "darkgrey"
          },
          "showarrow": false,
          "text": "Excellent Conditions",
          "x": 1,
          "xshift": 5,
          "y": 4.6
         },
         {
          "font": {
           "color": "darkgrey"
          },
          "showarrow": false,
          "text": "Favorable Conditions",
          "x": 1,
          "xshift": 5,
          "y": 3.6
         }
        ],
        "autosize": true,
        "font": {
         "color": "black",
         "family": "system-ui, -apple-system, \"Segoe UI\", Roboto, \"Helvetica Neue\", Arial, \"Noto Sans\", \"Liberation Sans\", sans-serif, \"Apple Color Emoji\", \"Segoe UI Emoji\", \"Segoe UI Symbol\", \"Noto Color Emoji\"",
         "size": 12
        },
        "legend": {
         "tracegroupgap": 0
        },
        "margin": {
         "t": 60
        },
        "plot_bgcolor": "white",
        "shapes": [
         {
          "line": {
           "color": "black",
           "dash": "dash",
           "width": 1
          },
          "type": "line",
          "x0": 1,
          "x1": 12,
          "y0": 3.5,
          "y1": 3.5
         },
         {
          "line": {
           "color": "black",
           "dash": "dash",
           "width": 1
          },
          "type": "line",
          "x0": 1,
          "x1": 12,
          "y0": 4.5,
          "y1": 4.5
         }
        ],
        "template": {
         "data": {
          "bar": [
           {
            "error_x": {
             "color": "#2a3f5f"
            },
            "error_y": {
             "color": "#2a3f5f"
            },
            "marker": {
             "line": {
              "color": "white",
              "width": 0.5
             },
             "pattern": {
              "fillmode": "overlay",
              "size": 10,
              "solidity": 0.2
             }
            },
            "type": "bar"
           }
          ],
          "barpolar": [
           {
            "marker": {
             "line": {
              "color": "white",
              "width": 0.5
             },
             "pattern": {
              "fillmode": "overlay",
              "size": 10,
              "solidity": 0.2
             }
            },
            "type": "barpolar"
           }
          ],
          "carpet": [
           {
            "aaxis": {
             "endlinecolor": "#2a3f5f",
             "gridcolor": "#C8D4E3",
             "linecolor": "#C8D4E3",
             "minorgridcolor": "#C8D4E3",
             "startlinecolor": "#2a3f5f"
            },
            "baxis": {
             "endlinecolor": "#2a3f5f",
             "gridcolor": "#C8D4E3",
             "linecolor": "#C8D4E3",
             "minorgridcolor": "#C8D4E3",
             "startlinecolor": "#2a3f5f"
            },
            "type": "carpet"
           }
          ],
          "choropleth": [
           {
            "colorbar": {
             "outlinewidth": 0,
             "ticks": ""
            },
            "type": "choropleth"
           }
          ],
          "contour": [
           {
            "colorbar": {
             "outlinewidth": 0,
             "ticks": ""
            },
            "colorscale": [
             [
              0,
              "#0d0887"
             ],
             [
              0.1111111111111111,
              "#46039f"
             ],
             [
              0.2222222222222222,
              "#7201a8"
             ],
             [
              0.3333333333333333,
              "#9c179e"
             ],
             [
              0.4444444444444444,
              "#bd3786"
             ],
             [
              0.5555555555555556,
              "#d8576b"
             ],
             [
              0.6666666666666666,
              "#ed7953"
             ],
             [
              0.7777777777777778,
              "#fb9f3a"
             ],
             [
              0.8888888888888888,
              "#fdca26"
             ],
             [
              1,
              "#f0f921"
             ]
            ],
            "type": "contour"
           }
          ],
          "contourcarpet": [
           {
            "colorbar": {
             "outlinewidth": 0,
             "ticks": ""
            },
            "type": "contourcarpet"
           }
          ],
          "heatmap": [
           {
            "colorbar": {
             "outlinewidth": 0,
             "ticks": ""
            },
            "colorscale": [
             [
              0,
              "#0d0887"
             ],
             [
              0.1111111111111111,
              "#46039f"
             ],
             [
              0.2222222222222222,
              "#7201a8"
             ],
             [
              0.3333333333333333,
              "#9c179e"
             ],
             [
              0.4444444444444444,
              "#bd3786"
             ],
             [
              0.5555555555555556,
              "#d8576b"
             ],
             [
              0.6666666666666666,
              "#ed7953"
             ],
             [
              0.7777777777777778,
              "#fb9f3a"
             ],
             [
              0.8888888888888888,
              "#fdca26"
             ],
             [
              1,
              "#f0f921"
             ]
            ],
            "type": "heatmap"
           }
          ],
          "heatmapgl": [
           {
            "colorbar": {
             "outlinewidth": 0,
             "ticks": ""
            },
            "colorscale": [
             [
              0,
              "#0d0887"
             ],
             [
              0.1111111111111111,
              "#46039f"
             ],
             [
              0.2222222222222222,
              "#7201a8"
             ],
             [
              0.3333333333333333,
              "#9c179e"
             ],
             [
              0.4444444444444444,
              "#bd3786"
             ],
             [
              0.5555555555555556,
              "#d8576b"
             ],
             [
              0.6666666666666666,
              "#ed7953"
             ],
             [
              0.7777777777777778,
              "#fb9f3a"
             ],
             [
              0.8888888888888888,
              "#fdca26"
             ],
             [
              1,
              "#f0f921"
             ]
            ],
            "type": "heatmapgl"
           }
          ],
          "histogram": [
           {
            "marker": {
             "pattern": {
              "fillmode": "overlay",
              "size": 10,
              "solidity": 0.2
             }
            },
            "type": "histogram"
           }
          ],
          "histogram2d": [
           {
            "colorbar": {
             "outlinewidth": 0,
             "ticks": ""
            },
            "colorscale": [
             [
              0,
              "#0d0887"
             ],
             [
              0.1111111111111111,
              "#46039f"
             ],
             [
              0.2222222222222222,
              "#7201a8"
             ],
             [
              0.3333333333333333,
              "#9c179e"
             ],
             [
              0.4444444444444444,
              "#bd3786"
             ],
             [
              0.5555555555555556,
              "#d8576b"
             ],
             [
              0.6666666666666666,
              "#ed7953"
             ],
             [
              0.7777777777777778,
              "#fb9f3a"
             ],
             [
              0.8888888888888888,
              "#fdca26"
             ],
             [
              1,
              "#f0f921"
             ]
            ],
            "type": "histogram2d"
           }
          ],
          "histogram2dcontour": [
           {
            "colorbar": {
             "outlinewidth": 0,
             "ticks": ""
            },
            "colorscale": [
             [
              0,
              "#0d0887"
             ],
             [
              0.1111111111111111,
              "#46039f"
             ],
             [
              0.2222222222222222,
              "#7201a8"
             ],
             [
              0.3333333333333333,
              "#9c179e"
             ],
             [
              0.4444444444444444,
              "#bd3786"
             ],
             [
              0.5555555555555556,
              "#d8576b"
             ],
             [
              0.6666666666666666,
              "#ed7953"
             ],
             [
              0.7777777777777778,
              "#fb9f3a"
             ],
             [
              0.8888888888888888,
              "#fdca26"
             ],
             [
              1,
              "#f0f921"
             ]
            ],
            "type": "histogram2dcontour"
           }
          ],
          "mesh3d": [
           {
            "colorbar": {
             "outlinewidth": 0,
             "ticks": ""
            },
            "type": "mesh3d"
           }
          ],
          "parcoords": [
           {
            "line": {
             "colorbar": {
              "outlinewidth": 0,
              "ticks": ""
             }
            },
            "type": "parcoords"
           }
          ],
          "pie": [
           {
            "automargin": true,
            "type": "pie"
           }
          ],
          "scatter": [
           {
            "fillpattern": {
             "fillmode": "overlay",
             "size": 10,
             "solidity": 0.2
            },
            "type": "scatter"
           }
          ],
          "scatter3d": [
           {
            "line": {
             "colorbar": {
              "outlinewidth": 0,
              "ticks": ""
             }
            },
            "marker": {
             "colorbar": {
              "outlinewidth": 0,
              "ticks": ""
             }
            },
            "type": "scatter3d"
           }
          ],
          "scattercarpet": [
           {
            "marker": {
             "colorbar": {
              "outlinewidth": 0,
              "ticks": ""
             }
            },
            "type": "scattercarpet"
           }
          ],
          "scattergeo": [
           {
            "marker": {
             "colorbar": {
              "outlinewidth": 0,
              "ticks": ""
             }
            },
            "type": "scattergeo"
           }
          ],
          "scattergl": [
           {
            "marker": {
             "colorbar": {
              "outlinewidth": 0,
              "ticks": ""
             }
            },
            "type": "scattergl"
           }
          ],
          "scattermapbox": [
           {
            "marker": {
             "colorbar": {
              "outlinewidth": 0,
              "ticks": ""
             }
            },
            "type": "scattermapbox"
           }
          ],
          "scatterpolar": [
           {
            "marker": {
             "colorbar": {
              "outlinewidth": 0,
              "ticks": ""
             }
            },
            "type": "scatterpolar"
           }
          ],
          "scatterpolargl": [
           {
            "marker": {
             "colorbar": {
              "outlinewidth": 0,
              "ticks": ""
             }
            },
            "type": "scatterpolargl"
           }
          ],
          "scatterternary": [
           {
            "marker": {
             "colorbar": {
              "outlinewidth": 0,
              "ticks": ""
             }
            },
            "type": "scatterternary"
           }
          ],
          "surface": [
           {
            "colorbar": {
             "outlinewidth": 0,
             "ticks": ""
            },
            "colorscale": [
             [
              0,
              "#0d0887"
             ],
             [
              0.1111111111111111,
              "#46039f"
             ],
             [
              0.2222222222222222,
              "#7201a8"
             ],
             [
              0.3333333333333333,
              "#9c179e"
             ],
             [
              0.4444444444444444,
              "#bd3786"
             ],
             [
              0.5555555555555556,
              "#d8576b"
             ],
             [
              0.6666666666666666,
              "#ed7953"
             ],
             [
              0.7777777777777778,
              "#fb9f3a"
             ],
             [
              0.8888888888888888,
              "#fdca26"
             ],
             [
              1,
              "#f0f921"
             ]
            ],
            "type": "surface"
           }
          ],
          "table": [
           {
            "cells": {
             "fill": {
              "color": "#EBF0F8"
             },
             "line": {
              "color": "white"
             }
            },
            "header": {
             "fill": {
              "color": "#C8D4E3"
             },
             "line": {
              "color": "white"
             }
            },
            "type": "table"
           }
          ]
         },
         "layout": {
          "annotationdefaults": {
           "arrowcolor": "#2a3f5f",
           "arrowhead": 0,
           "arrowwidth": 1
          },
          "autotypenumbers": "strict",
          "coloraxis": {
           "colorbar": {
            "outlinewidth": 0,
            "ticks": ""
           }
          },
          "colorscale": {
           "diverging": [
            [
             0,
             "#8e0152"
            ],
            [
             0.1,
             "#c51b7d"
            ],
            [
             0.2,
             "#de77ae"
            ],
            [
             0.3,
             "#f1b6da"
            ],
            [
             0.4,
             "#fde0ef"
            ],
            [
             0.5,
             "#f7f7f7"
            ],
            [
             0.6,
             "#e6f5d0"
            ],
            [
             0.7,
             "#b8e186"
            ],
            [
             0.8,
             "#7fbc41"
            ],
            [
             0.9,
             "#4d9221"
            ],
            [
             1,
             "#276419"
            ]
           ],
           "sequential": [
            [
             0,
             "#0d0887"
            ],
            [
             0.1111111111111111,
             "#46039f"
            ],
            [
             0.2222222222222222,
             "#7201a8"
            ],
            [
             0.3333333333333333,
             "#9c179e"
            ],
            [
             0.4444444444444444,
             "#bd3786"
            ],
            [
             0.5555555555555556,
             "#d8576b"
            ],
            [
             0.6666666666666666,
             "#ed7953"
            ],
            [
             0.7777777777777778,
             "#fb9f3a"
            ],
            [
             0.8888888888888888,
             "#fdca26"
            ],
            [
             1,
             "#f0f921"
            ]
           ],
           "sequentialminus": [
            [
             0,
             "#0d0887"
            ],
            [
             0.1111111111111111,
             "#46039f"
            ],
            [
             0.2222222222222222,
             "#7201a8"
            ],
            [
             0.3333333333333333,
             "#9c179e"
            ],
            [
             0.4444444444444444,
             "#bd3786"
            ],
            [
             0.5555555555555556,
             "#d8576b"
            ],
            [
             0.6666666666666666,
             "#ed7953"
            ],
            [
             0.7777777777777778,
             "#fb9f3a"
            ],
            [
             0.8888888888888888,
             "#fdca26"
            ],
            [
             1,
             "#f0f921"
            ]
           ]
          },
          "colorway": [
           "#636efa",
           "#EF553B",
           "#00cc96",
           "#ab63fa",
           "#FFA15A",
           "#19d3f3",
           "#FF6692",
           "#B6E880",
           "#FF97FF",
           "#FECB52"
          ],
          "font": {
           "color": "#2a3f5f"
          },
          "geo": {
           "bgcolor": "white",
           "lakecolor": "white",
           "landcolor": "white",
           "showlakes": true,
           "showland": true,
           "subunitcolor": "#C8D4E3"
          },
          "hoverlabel": {
           "align": "left"
          },
          "hovermode": "closest",
          "mapbox": {
           "style": "light"
          },
          "paper_bgcolor": "white",
          "plot_bgcolor": "white",
          "polar": {
           "angularaxis": {
            "gridcolor": "#EBF0F8",
            "linecolor": "#EBF0F8",
            "ticks": ""
           },
           "bgcolor": "white",
           "radialaxis": {
            "gridcolor": "#EBF0F8",
            "linecolor": "#EBF0F8",
            "ticks": ""
           }
          },
          "scene": {
           "xaxis": {
            "backgroundcolor": "white",
            "gridcolor": "#DFE8F3",
            "gridwidth": 2,
            "linecolor": "#EBF0F8",
            "showbackground": true,
            "ticks": "",
            "zerolinecolor": "#EBF0F8"
           },
           "yaxis": {
            "backgroundcolor": "white",
            "gridcolor": "#DFE8F3",
            "gridwidth": 2,
            "linecolor": "#EBF0F8",
            "showbackground": true,
            "ticks": "",
            "zerolinecolor": "#EBF0F8"
           },
           "zaxis": {
            "backgroundcolor": "white",
            "gridcolor": "#DFE8F3",
            "gridwidth": 2,
            "linecolor": "#EBF0F8",
            "showbackground": true,
            "ticks": "",
            "zerolinecolor": "#EBF0F8"
           }
          },
          "shapedefaults": {
           "line": {
            "color": "#2a3f5f"
           }
          },
          "ternary": {
           "aaxis": {
            "gridcolor": "#DFE8F3",
            "linecolor": "#A2B1C6",
            "ticks": ""
           },
           "baxis": {
            "gridcolor": "#DFE8F3",
            "linecolor": "#A2B1C6",
            "ticks": ""
           },
           "bgcolor": "white",
           "caxis": {
            "gridcolor": "#DFE8F3",
            "linecolor": "#A2B1C6",
            "ticks": ""
           }
          },
          "title": {
           "x": 0.05
          },
          "xaxis": {
           "automargin": true,
           "gridcolor": "#EBF0F8",
           "linecolor": "#EBF0F8",
           "ticks": "",
           "title": {
            "standoff": 15
           },
           "zerolinecolor": "#EBF0F8",
           "zerolinewidth": 2
          },
          "yaxis": {
           "automargin": true,
           "gridcolor": "#EBF0F8",
           "linecolor": "#EBF0F8",
           "ticks": "",
           "title": {
            "standoff": 15
           },
           "zerolinecolor": "#EBF0F8",
           "zerolinewidth": 2
          }
         }
        },
        "title": {
         "text": "Seasonal availability of solar energy"
        },
        "xaxis": {
         "anchor": "y",
         "domain": [
          0,
          1
         ],
         "linecolor": "black",
         "showgrid": true,
         "ticktext": [
          "Jan",
          "Feb",
          "Mar",
          "Apr",
          "May",
          "Jun",
          "Jul",
          "Aug",
          "Sep",
          "Oct",
          "Nov",
          "Dec"
         ],
         "tickvals": [
          1,
          2,
          3,
          4,
          5,
          6,
          7,
          8,
          9,
          10,
          11,
          12
         ],
         "title": {
          "text": "Month"
         },
         "zeroline": false
        },
        "yaxis": {
         "anchor": "x",
         "domain": [
          0,
          1
         ],
         "linecolor": "black",
         "range": [
          0,
          5
         ],
         "title": {
          "text": "Daily PV energy yield (kWh/kWp)"
         }
        }
       }
      }
     },
     "metadata": {},
     "output_type": "display_data"
    }
   ],
   "source": [
    "def extract_monthly_stats():\n",
    "    \n",
    "    with open(\"../global_inputs.yml\", 'r') as f:\n",
    "        global_inputs = yaml.safe_load(f)\n",
    "\n",
    "    pv_directory = global_inputs.get('solar_graph_source')\n",
    "\n",
    "    \n",
    "    pv_files = [f for f in os.listdir(pv_directory) if f.endswith('.tif')]\n",
    "\n",
    "    \n",
    "    monthly_pv = []\n",
    "\n",
    "    aoi = aoi_file.geometry\n",
    "\n",
    "    for f in pv_files:\n",
    "        pattern = re.compile(r'PVOUT_(\\d{2})')\n",
    "        match = pattern.search(f)\n",
    "        if match:\n",
    "            m = int(match.group(1))  \n",
    "\n",
    "            file_path = os.path.join(pv_directory, f)\n",
    "\n",
    "            with rasterio.open(file_path) as src:\n",
    "                \n",
    "                raster_data, raster_transform = mask(src, aoi.geometry, crop=True)\n",
    "\n",
    "                stats = {\n",
    "                    'month': m,\n",
    "                    'max': np.nanmax(raster_data),\n",
    "                    'min': np.nanmin(raster_data),\n",
    "                    'mean': np.nanmean(raster_data),\n",
    "                    'sum': np.nansum(raster_data)\n",
    "                }\n",
    "\n",
    "                \n",
    "                monthly_pv.append(stats)\n",
    "        else:\n",
    "            print(f\"No match found for filename: {f}\")\n",
    "\n",
    "    monthly_pv_df = pd.DataFrame(monthly_pv)\n",
    "\n",
    "    monthly_pv_df.sort_values(by='month', inplace=True)\n",
    "    \n",
    "\n",
    "    monthly_pv_df['daily'] = monthly_pv_df['max']/30\n",
    "\n",
    "    \n",
    "    highest_value = monthly_pv_df['daily'].max()\n",
    "    lowest_value = monthly_pv_df['daily'].min()\n",
    "\n",
    "    \n",
    "    ratio = highest_value / lowest_value\n",
    "\n",
    "    # Check if the ratio is greater than 2.5\n",
    "    if ratio > 2.5:\n",
    "        print(\"Seasonality is high, making solar energy available throughout the year\")\n",
    "    else:\n",
    "        print(\"Seasonality is low to moderate, making solar energy available in only some of the months\")\n",
    "\n",
    "\n",
    "    plt.figure(figsize=(8, 8))\n",
    "    plt.plot(monthly_pv_df['month'], monthly_pv_df['daily'], marker='o', linestyle='-')\n",
    "\n",
    "\n",
    "    plt.axhline(y=3.5, linestyle='--', color='black')\n",
    "    plt.text(1, 3.52, 'Favorable Conditions', color='darkgrey', verticalalignment='bottom', horizontalalignment='left')\n",
    "\n",
    "    plt.axhline(y=4.5, linestyle='--', color='black')\n",
    "    plt.text(1, 4.52, 'Excellent Conditions', color='darkgrey', verticalalignment='bottom', horizontalalignment='left')\n",
    "\n",
    "    plt.xlabel('Month')\n",
    "    plt.ylabel('Daily PV energy yield (kWh/kWp)')\n",
    "    plt.title('Seasonal availability of solar energy')\n",
    "    plt.xticks(np.arange(1, 13), ['Jan', 'Feb', 'Mar', 'Apr', 'May', 'Jun', 'Jul', 'Aug', 'Sep', 'Oct', 'Nov', 'Dec'])\n",
    "    plt.grid(True)\n",
    "    plt.tight_layout()\n",
    "\n",
    "    render_path = os.path.join(render_folder, f\"{city}_PV_graph.png\")\n",
    "    plt.savefig(render_path, bbox_inches='tight')\n",
    "    plt.close()\n",
    "\n",
    "    fig = px.line(monthly_pv_df, x='month', y='daily', markers=True)\n",
    "    fig.add_annotation(x=1, y=4.6, text='Excellent Conditions', showarrow=False, font=dict(color='darkgrey'), xshift=5)\n",
    "    fig.add_annotation(x=1, y=3.6, text='Favorable Conditions', showarrow=False, font=dict(color='darkgrey'), xshift=5)\n",
    "    fig.update_xaxes(title='Month', tickvals=list(range(1, 13)), ticktext=['Jan', 'Feb', 'Mar', 'Apr', 'May', 'Jun', 'Jul', 'Aug', 'Sep', 'Oct', 'Nov', 'Dec'])\n",
    "    fig.update_yaxes(title='Daily PV energy yield (kWh/kWp)', range=[0, 5])\n",
    "    fig.add_shape(type=\"line\", x0=1, y0=3.5, x1=12, y1=3.5, line=dict(color=\"black\", width=1, dash='dash'))\n",
    "    fig.add_shape(type=\"line\", x0=1, y0=4.5, x1=12, y1=4.5, line=dict(color=\"black\", width=1, dash='dash'))\n",
    "    fig.update_traces(line=dict(color='black'))\n",
    "    fig.update_layout(title='Seasonal availability of solar energy', xaxis=dict(showgrid=True, zeroline=False,linecolor='black'),yaxis=dict(linecolor='black'),template='plotly_white',autosize=True,font=font_dict,plot_bgcolor='white')\n",
    "    fig.show()\n",
    "    fig.write_html(render_path.replace('.png', '.html'),full_html=False, include_plotlyjs='cdn')\n",
    "extract_monthly_stats()"
   ]
  }
 ],
 "metadata": {
  "kernelspec": {
   "display_name": "Python 3 (ipykernel)",
   "language": "python",
   "name": "python3"
  },
  "language_info": {
   "codemirror_mode": {
    "name": "ipython",
    "version": 3
   },
   "file_extension": ".py",
   "mimetype": "text/x-python",
   "name": "python",
   "nbconvert_exporter": "python",
   "pygments_lexer": "ipython3",
   "version": "3.11.4"
  }
 },
 "nbformat": 4,
 "nbformat_minor": 5
}
