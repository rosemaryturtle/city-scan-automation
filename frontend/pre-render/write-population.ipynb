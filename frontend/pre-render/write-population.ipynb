{
 "cells": [
  {
   "cell_type": "code",
   "execution_count": 2,
   "metadata": {},
   "outputs": [
    {
     "name": "stdout",
     "output_type": "stream",
     "text": [
      "citysection\n"
     ]
    }
   ],
   "source": [
    "# Required libraries\n",
    "import requests\n",
    "from bs4 import BeautifulSoup\n",
    "import pandas as pd\n",
    "import re\n",
    "import os\n",
    "city= 'Goris'\n",
    "country = 'Armenia'\n",
    "render_path = '../mnt/city-directories/03-render-output'\n",
    "csv_path = os.path.join(render_path, 'pop.csv')\n",
    "def get_de_pop_growth(city, country):\n",
    "  url = f'https://www.citypopulation.de/en/{country.lower().replace(\" \", \"\")}/cities/'\n",
    "  # Scrape data from the citypopulation.de\n",
    "  response = requests.get(url)\n",
    "  soup = BeautifulSoup(response.content, 'html.parser')\n",
    "  html_table = soup.find('section', id = 'citysection').find('table')\n",
    "  def get_pop(city, soup, table_id):\n",
    "      html_table = soup.find('section', id = table_id).find('table')\n",
    "      cities_df = pd.read_html(str(html_table))[0]\n",
    "      city_pop = cities_df[cities_df['Name'].str.contains(city)]\n",
    "      return(city_pop)\n",
    "  # Look through tables on page for city name\n",
    "  table_ids = ['citysection', 'largecities', 'adminareas']\n",
    "  for id in table_ids:\n",
    "    print(id)\n",
    "    city_pop = get_pop(city, soup, id)\n",
    "    if len(city_pop) > 0:\n",
    "        break\n",
    "  # Pivot longer: one column for years, one column for population\n",
    "  cols = city_pop.columns\n",
    "  pop_cols = cols[cols.str.contains('Population')]\n",
    "  pop_df = pd.melt(city_pop, id_vars = ['Name', 'Area'], value_vars = pop_cols, var_name = 'Year', value_name='Population')\n",
    "  # Rename and reformat columns\n",
    "  pop_df['Year'] = pop_df['Year'].str.extract(r'(\\d{4})').astype(int)\n",
    "  pop_df['Population'] = pop_df['Population'].astype(int)\n",
    "  pop_df['Source'] = 'citypopulation.de'\n",
    "  pop_df['Area_km'] = pop_df['Area'].astype(int)/100\n",
    "  pop_df = pop_df.rename(columns = {'Name': 'Location'})\n",
    "  pop_df = pop_df[['Location', 'Year', 'Population', 'Area_km', 'Source']]\n",
    "  # Sort by year\n",
    "  pop_df = pop_df.sort_values(by = 'Year')\n",
    "  return(pop_df)\n",
    "\n",
    "pop_df = get_de_pop_growth(city, country)\n",
    "pop_df.to_csv(csv_path,index=False)"
   ]
  }
 ],
 "metadata": {
  "kernelspec": {
   "display_name": "geo",
   "language": "python",
   "name": "python3"
  },
  "language_info": {
   "codemirror_mode": {
    "name": "ipython",
    "version": 3
   },
   "file_extension": ".py",
   "mimetype": "text/x-python",
   "name": "python",
   "nbconvert_exporter": "python",
   "pygments_lexer": "ipython3",
   "version": "3.11.4"
  }
 },
 "nbformat": 4,
 "nbformat_minor": 2
}
