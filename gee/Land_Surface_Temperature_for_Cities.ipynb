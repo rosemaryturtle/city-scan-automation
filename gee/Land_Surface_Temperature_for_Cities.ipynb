{
  "cells": [
    {
      "cell_type": "markdown",
      "metadata": {
        "id": "F1aRKw1zU_dA"
      },
      "source": []
    },
    {
      "cell_type": "markdown",
      "metadata": {
        "id": "vSUFepPPFKeJ"
      },
      "source": [
        "## Land Surface Temperature"
      ]
    },
    {
      "cell_type": "markdown",
      "metadata": {
        "id": "pBbqfaJ2FM0I"
      },
      "source": [
        "- **Install packages and Authenticate to Earth Engine**"
      ]
    },
    {
      "cell_type": "code",
      "execution_count": null,
      "metadata": {
        "id": "v6M68WksFMZ1"
      },
      "outputs": [],
      "source": [
        "!pip install earthengine-api #Earth-engine Python API\n",
        "!pip install geopandas  #needed for shapefile import"
      ]
    },
    {
      "cell_type": "code",
      "execution_count": null,
      "metadata": {
        "id": "JLv8sJcGFPIi"
      },
      "outputs": [],
      "source": [
        "!earthengine authenticate"
      ]
    },
    {
      "cell_type": "markdown",
      "metadata": {
        "id": "rzr4BVsoFQO0"
      },
      "source": [
        "\n",
        "\n",
        "```\n",
        "# This is formatted as code\n",
        "```\n",
        "\n",
        "**Authenticate to Google Drive. We need this for exporting rasters**\n"
      ]
    },
    {
      "cell_type": "code",
      "execution_count": null,
      "metadata": {
        "id": "ZvANQSVUFRTz"
      },
      "outputs": [],
      "source": [
        "from google.colab import drive\n",
        "drive.mount('/content/drive' , force_remount=True)"
      ]
    },
    {
      "cell_type": "code",
      "execution_count": 4,
      "metadata": {
        "id": "IRLPt6QtLdOn"
      },
      "outputs": [],
      "source": [
        "# import packages\n",
        "import os\n",
        "import geopandas as gpd\n",
        "import time\n",
        "from random import randint\n",
        "import ee\n",
        "\n",
        "#Initialize EE\n",
        "ee.Initialize()"
      ]
    },
    {
      "cell_type": "markdown",
      "source": [
        "**Set paths**\n"
      ],
      "metadata": {
        "id": "aEc4zv9-fllE"
      }
    },
    {
      "cell_type": "code",
      "execution_count": null,
      "metadata": {
        "id": "-T14rCIge-qk"
      },
      "outputs": [],
      "source": [
        "main_dir=r\"/content/drive/My Drive/az/GEE_main_folder\"\n",
        "cities = r\"{}/Inputs/Nurpur_shapes.shp\".format(main_dir) # path to the cities shapfile that has been uploaded to Gdrive\n",
        "cities_reprojected = gpd.read_file(cities).to_crs({'init': 'epsg:4326'})"
      ]
    },
    {
      "cell_type": "markdown",
      "source": [
        "**Define function to export LST rasters**\n"
      ],
      "metadata": {
        "id": "LDz2ok6agrXz"
      }
    },
    {
      "cell_type": "code",
      "source": [
        "def export_landsurface_temperature( country , cities_reprojected, max_value , years, month0 ,  month1):\n",
        "\n",
        "    \"\"\"\n",
        "    export_landsurface_temperature: Exports Land Surface temperature rasters for a given country in the cities shapefile\n",
        "\n",
        "    :param country: Name of the country\n",
        "    :param cities_reprojected: geopandas read cities shapefile\n",
        "    :param max_value: cap the number of cities\n",
        "    :param years: years\n",
        "    :param month0 : first hottest month\n",
        "    :param month1 : last hottest month\n",
        "\n",
        "    :return: confirms the export of rasters\n",
        "\n",
        "    \"\"\"\n",
        "\n",
        "    # Create a jsondictionary from the geometry of the  shapefile\n",
        "    geom = cities_reprojected['geometry']\n",
        "    jsonDict = eval(geom.to_json())\n",
        "\n",
        "    for index, row in cities_reprojected.iterrows():\n",
        "        try:\n",
        "          city= row['MAUZA'].lower() #instruct the column for city name in the city shapefile\n",
        "          if index  <= max_value:\n",
        "              city_number= index\n",
        "              for x in jsonDict['features'][city_number]['geometry']['coordinates']:\n",
        "                  AOI = ee.Geometry.Polygon(x) #cast polygon as ee geometry\n",
        "                  landsat = ee.ImageCollection(\"LANDSAT/LC08/C02/T1_L2\")\n",
        "\n",
        "                  # Filter for hottest months in the past X years\n",
        "                  def filter_hot_month(i):\n",
        "                      return ee.Filter.date(years[i] + '-' + month0 + '-01', years[i] + '-' + month1 + '-01')\n",
        "\n",
        "                  range_list= list(map(filter_hot_month, list(range(0, 10)))) #combination of months and years\n",
        "                  rangefilter = ee.Filter.Or(range_list)\n",
        "\n",
        "                  # Define a function to scale the data and mask unwanted pixels\n",
        "                  def maskL457sr(image):\n",
        "                      # Bit 0 - Fill\n",
        "                      # Bit 1 - Dilated Cloud\n",
        "                      # Bit 2 - Cirrus (high confidence)\n",
        "                      # Bit 3 - Cloud\n",
        "                      # Bit 4 - Cloud Shadow\n",
        "                      qaMask = image.select('QA_PIXEL').bitwiseAnd(int('11111', 2)).eq(0)\n",
        "                      saturationMask = image.select('QA_RADSAT').eq(0)\n",
        "                      # Apply the scaling factors to the appropriate bands.\n",
        "                      thermalBand = image.select('ST_B10').multiply(0.00341802).add(149.0)\n",
        "                      # Replace the original bands with the scaled ones and apply the masks.\n",
        "                      return image.addBands(thermalBand, None, True).updateMask(qaMask).updateMask(saturationMask)\n",
        "\n",
        "                  # Apply filter and mask\n",
        "                  collectionSummer = landsat.filter(rangefilter).filterBounds(AOI).map(maskL457sr).select('ST_B10').mean().add(-273.15).clip(AOI)\n",
        "                  task = ee.batch.Export.image.toDrive(**{\n",
        "                      'image': collectionSummer,\n",
        "                      'description': city + \"_Summer\",\n",
        "                      'folder': country,\n",
        "                      'region': AOI,\n",
        "                      'scale': 30,\n",
        "                      'maxPixels': 1e9\n",
        "                  })\n",
        "                  task.start()\n",
        "\n",
        "        except Exception as e:\n",
        "            print(f\"Error : {e} \")\n",
        "    return  print(f\"Successfully exported the rasters for: {country}\")"
      ],
      "metadata": {
        "id": "mVB-IYWtkjwR"
      },
      "execution_count": 6,
      "outputs": []
    },
    {
      "cell_type": "markdown",
      "source": [
        "**Set Args and call the function**\n"
      ],
      "metadata": {
        "id": "0fWutgB4hDo8"
      }
    },
    {
      "cell_type": "code",
      "source": [
        "#Args\n",
        "max_value=5\n",
        "years =list(str(i) for i in range(2013, 2024)) #years from 2013-2023\n",
        "month0 = '02'  # first hottest month  # update for each country\n",
        "month1 = '05'  # end of hottest month (note that this is exclusive)  # update for each country\n",
        "country= 'DRC' # replace with the relevent country name\n",
        "start_exporting= export_landsurface_temperature(country, cities_reprojected, max_value, years, month0, month1)"
      ],
      "metadata": {
        "id": "pdqexqL-_OzP",
        "colab": {
          "base_uri": "https://localhost:8080/"
        },
        "outputId": "6b2965cf-549e-47a8-e379-80838159a5cb"
      },
      "execution_count": 8,
      "outputs": [
        {
          "output_type": "stream",
          "name": "stdout",
          "text": [
            "Successfully exported the rasters for: DRC\n"
          ]
        }
      ]
    },
    {
      "cell_type": "code",
      "source": [],
      "metadata": {
        "id": "5O6bT2NaPe6p"
      },
      "execution_count": null,
      "outputs": []
    }
  ],
  "metadata": {
    "colab": {
      "provenance": []
    },
    "kernelspec": {
      "display_name": "Python 3",
      "name": "python3"
    }
  },
  "nbformat": 4,
  "nbformat_minor": 0
}