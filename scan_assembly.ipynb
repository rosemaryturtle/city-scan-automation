{
 "cells": [
  {
   "cell_type": "code",
   "execution_count": 1,
   "id": "22b944c0-d8e0-478c-a3d8-ea670d90cc2f",
   "metadata": {},
   "outputs": [],
   "source": [
    "import yaml"
   ]
  },
  {
   "cell_type": "code",
   "execution_count": 2,
   "id": "2607ecaa-758c-4a3e-80f2-050f2c73df8b",
   "metadata": {},
   "outputs": [],
   "source": [
    "# load menu\n",
    "with open(\"mnt/city-directories/01-user-input/menu.yml\", 'r') as f:\n",
    "    menu = yaml.safe_load(f)"
   ]
  },
  {
   "cell_type": "code",
   "execution_count": 3,
   "id": "a6992e26-b62f-41fc-85e7-66c95e7380e9",
   "metadata": {},
   "outputs": [],
   "source": [
    "if menu['all_stats']:\n",
    "    import os\n",
    "    import glob\n",
    "    import math\n",
    "    import geopandas as gpd\n",
    "    import pandas as pd\n",
    "    import numpy as np\n",
    "    from io import StringIO\n",
    "    import requests\n",
    "    from sklearn.preprocessing import MinMaxScaler\n",
    "    from shapely.geometry import shape\n",
    "    from shapely.ops import unary_union\n",
    "    import pint\n",
    "    import folium\n",
    "    from pathlib import Path\n",
    "    import matplotlib.pyplot as plt\n",
    "    import requests\n",
    "    import re\n",
    "    import rasterio\n",
    "    from rasterio.mask import mask\n",
    "    from shapely.geometry import Point\n",
    "    from fiona.crs import from_epsg\n",
    "    from nbconvert import MarkdownExporter\n",
    "    import nbformat\n",
    "    import base64\n",
    "    import pickle\n",
    "    import plotly.graph_objects as go\n",
    "    import seaborn as sns\n",
    "    import plotly.express as px"
   ]
  },
  {
   "cell_type": "code",
   "execution_count": 4,
   "id": "0ca8d4ff-ae23-4850-95f6-4a374d77ab88",
   "metadata": {},
   "outputs": [],
   "source": [
    "url = \"https://raw.githubusercontent.com/compoundrisk/monitor/databricks/src/country-groups.csv\"\n",
    "country_groups = pd.read_csv(url)\n",
    "\n",
    "# Source helper functions\n",
    "helpers_url = \"https://raw.githubusercontent.com/compoundrisk/monitor/databricks/src/fns/helpers.R\"\n",
    "helpers_code = requests.get(helpers_url).text\n",
    "\n",
    "# Define tolatin function\n",
    "def tolatin(x):\n",
    "    return stri_trans_general(x, id=\"Latin-ASCII\")\n",
    "\n",
    "# Define normalize function\n",
    "def normalize(x):\n",
    "    x_min = np.min(x)\n",
    "    x_max = np.max(x)\n",
    "    return (x - x_min) / (x_max - x_min)\n",
    "\n",
    "def print_text(x, linebreaks=2):\n",
    "    print(x + \"\\n\" + \"<br>\" * linebreaks)"
   ]
  },
  {
   "cell_type": "code",
   "execution_count": 5,
   "id": "a5df3a99-85dd-4b6b-93d7-bbd0a68679f7",
   "metadata": {},
   "outputs": [
    {
     "data": {
      "image/png": "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",
      "text/plain": [
       "<Figure size 640x480 with 1 Axes>"
      ]
     },
     "metadata": {},
     "output_type": "display_data"
    }
   ],
   "source": [
    "# SET UP ##############################################\n",
    "\n",
    "# load city inputs files, to be updated for each city scan\n",
    "with open(\"mnt/city-directories/01-user-input/city_inputs.yml\", 'r') as f:\n",
    "    city_inputs = yaml.safe_load(f)\n",
    "\n",
    "city = city_inputs['city_name'].replace(' ', '_').lower()\n",
    "country = city_inputs['country_name'].replace(' ', '_').lower()\n",
    "# load global inputs, such as data sources that generally remain the same across scans\n",
    "with open(\"global_inputs.yml\", 'r') as f:\n",
    "    global_inputs = yaml.safe_load(f)\n",
    "\n",
    "# Read AOI shapefile --------\n",
    "# transform the input shp to correct prj (epsg 4326)\n",
    "aoi_file = gpd.read_file(city_inputs['AOI_path']).to_crs(epsg = 4326)\n",
    "features = aoi_file.geometry\n",
    "\n",
    "# Define output folder ---------\n",
    "output_folder = Path('mnt/city-directories/02-process-output')\n",
    "# Define render folder ---------\n",
    "render_folder = Path('mnt/city-directories/03-render-output')\n",
    "multi_scan_folder = Path('multi-scan-materials')\n",
    "\n",
    "if not os.path.exists(output_folder):\n",
    "    os.mkdir(output_folder)\n",
    "\n",
    "\n",
    "fig, ax = plt.subplots()\n",
    "features.plot(ax=ax)\n",
    "plt.title('AOI')\n",
    "plt.xlabel('Longitude')\n",
    "plt.ylabel('Latitude')\n",
    "plt.show()\n"
    "plt.show()\n"
   ]
  },
  {
   "cell_type": "code",
   "execution_count": 8,
   "id": "18954664-49f8-43b5-96c1-7faef1809401",
   "metadata": {},
   "outputs": [
    {
     "data": {
      "text/html": [
       "22.590733110898604 kilometer<sup>2</sup>"
      ],
      "text/latex": [
       "$22.590733110898604\\ \\mathrm{kilometer}^{2}$"
      ],
      "text/plain": [
       "22.590733110898604 <Unit('kilometer ** 2')>"
      ]
     },
     "execution_count": 8,
     "metadata": {},
     "output_type": "execute_result"
    }
   ],
   "source": [
    "#AOI AREA\n",
    "def calculate_aoi_area(features):\n",
    "    # Create a unit registry\n",
    "    ureg = pint.UnitRegistry()\n",
    "\n",
    "    # Combine geometries using unary_union from shapely\n",
    "    combined_geometry = unary_union(features)\n",
    "\n",
    "    # Calculate the area in square kilometers\n",
    "    area_km2 = combined_geometry.area   # Convert square meters to square kilometers\n",
    "\n",
    "    # Print the result using the pint library for unit formatting\n",
    "    area_quantity = area_km2 *1000* ureg.km**2\n",
    "    return area_quantity.to('km^2')\n",
    "\n",
    "calculate_aoi_area(features)\n"
   ]
  },
  {
   "cell_type": "code",
   "execution_count": 9,
   "id": "c1cc951b-ac81-470a-b400-dd38767a235b",
   "metadata": {},
   "outputs": [],
   "outputs": [],
   "source": [
    "#Climate\n",
    "def get_koeppen_classification():\n",
    "    # Load global inputs from YAML file\n",
    "    with open(\"global_inputs.yml\", 'r') as f:\n",
    "        global_inputs = yaml.safe_load(f)\n",
    "\n",
    "    # Calculate centroid of AOI\n",
    "    centroid = features.centroid.values[0]\n",
    "\n",
    "    # Retrieve centroid coordinates\n",
    "    coords = {' Lon': centroid.x, 'Lat': centroid.y}\n",
    "\n",
    "    # Read Köppen climate classification file\n",
    "    koeppen_file_path = global_inputs.get('koeppen_source') #use an alternate dataset\n",
    "    koeppen = pd.read_csv(koeppen_file_path)\n",
    "\n",
    "    # Filter Köppen data for the region around the centroid with a buffer of 0.5 degrees\n",
    "    lon_min, lon_max = coords[' Lon'] - 0.5, coords[' Lon'] + 0.5\n",
    "    lat_min, lat_max = coords['Lat'] - 0.5, coords['Lat'] + 0.5\n",
    "    koeppen_city = koeppen[\n",
    "        (koeppen[' Lon'].between(lon_min, lon_max)) &\n",
    "        (koeppen['Lat'].between(lat_min, lat_max))\n",
    "    ][' Cls'].unique()\n",
    "\n",
    "    # Print Köppen climate classification\n",
    "    koeppen_text = ', '.join(koeppen_city)\n",
    "    print(f\"Köppen climate classification: {koeppen_text} (See https://en.wikipedia.org/wiki/Köppen_climate_classification for classes)\")\n",
    "\n",
    "    # Return Köppen climate classification if needed\n",
    "    return koeppen_city\n"
    "    return koeppen_city\n"
   ]
  },
  {
   "cell_type": "code",
   "execution_count": 32,
   "id": "39d2f590-64e2-46d8-8fda-62b3eb6019b3",
   "metadata": {},
   "outputs": [],
   "outputs": [],
   "source": [
    "#Age Distribution by World Pop\n",
    "def age_stats():\n",
    "    with open(\"global_inputs.yml\", 'r') as f:\n",
    "        global_inputs = yaml.safe_load(f)\n",
    "\n",
    "    # Get city inputs\n",
    "    city_inputs = global_inputs.get('city_inputs')\n",
    "\n",
    "    if menu['demographics']:  \n",
    "        age_file = os.path.join(output_folder, f\"{city}_demographics.csv\") \n",
    "        if os.path.exists(age_file):  \n",
    "            pass\n",
    "        else:\n",
    "            print(\"Demographics file does not exist.\")\n",
    "            return  \n",
    "    pop_dist_group_wp = pd.read_csv(age_file)\n",
    "\n",
    "    \n",
    "    pop_dist_group_wp = pop_dist_group_wp.rename(columns={\"age_group\": \"Age_Bracket\", \"sex\": \"Sex\"})\n",
    "    pop_dist_group_wp['Count'] = pd.to_numeric(pop_dist_group_wp['population'], errors='coerce')\n",
    "    pop_dist_group_wp['Age_Bracket'] = pop_dist_group_wp['Age_Bracket'].replace({'<1': '0-4', '1-4': '0-4'})\n",
    "    pop_dist_group_wp = pop_dist_group_wp.groupby(['Age_Bracket', 'Sex']).agg(Count=('Count', 'sum')).reset_index()\n",
    "\n",
    "    \n",
    "    pop_dist_group_wp['Percentage'] = pop_dist_group_wp.groupby('Sex')['Count'].transform(lambda x: x / x.sum())\n",
    "    pop_dist_group_wp['Sexed_Percent'] = pop_dist_group_wp.groupby('Sex')['Count'].transform(lambda x: x / x.sum())\n",
    "    pop_dist_group_wp['Sexed_Percent_cum'] = pop_dist_group_wp.groupby('Sex')['Sexed_Percent'].cumsum()\n",
    "\n",
    "    # Define custom colors for each sex\n",
    "    colors = {'f': 'red', 'm': 'blue'}\n",
    "\n",
    "    # Plot age-sex distribution with specified colors\n",
    "    ax = sns.barplot(data=pop_dist_group_wp, x='Age_Bracket', y='Percentage', hue='Sex', dodge=True,\n",
    "                    palette=colors)\n",
    "\n",
    "    # Set plot title and labels\n",
    "    plt.title(f\"Population distribution in {city} by sex\")\n",
    "    plt.xlabel(\"Age Bracket\")\n",
    "    plt.ylabel(\"Percentage\")\n",
    "\n",
    "    # Customize legend manually\n",
    "    legend_handles = []\n",
    "    for sex, color in colors.items():\n",
    "        legend_handles.append(plt.Line2D([0], [0], color=color, lw=4, label='Female' if sex == 'f' else 'Male'))\n",
    "\n",
    "    # Display custom legend with specified labels and colors\n",
    "    plt.legend(handles=legend_handles, title=\"Sex\", loc=\"upper right\")\n",
    "\n",
    "    plt.xticks(rotation=45)\n",
    "    plt.tight_layout()\n",
    "\n",
    "    # Save and display the plot\n",
    "    render_path = os.path.join(render_folder, f\"{city}_age_stats.png\")\n",
    "    plt.savefig(render_path)\n",
    "    plt.close()\n",
    "\n",
    "    # Plotly\n",
    "    pop_dist_group_wp_sorted = pop_dist_group_wp.sort_values(by='Age_Bracket')\n",
    "\n",
    "    # Create the bar plot with the sorted DataFrame\n",
    "    fig = px.bar(pop_dist_group_wp_sorted, x='Age_Bracket', y='Percentage', color='Sex', barmode='group', \n",
    "                title=f\"Population distribution in {city} by sex\", \n",
    "                labels={'Age_Bracket': 'Age Bracket', 'Percentage': 'Percentage', 'Sex': 'Sex'})\n",
    "\n",
    "    # Update layout to set axis titles and legend title\n",
    "    fig.update_layout(xaxis_title=\"Age Bracket\", yaxis_title=\"Percentage\", legend_title=\"Sex\", plot_bgcolor='white')\n",
    "\n",
    "    # Rotate x-axis labels for better readability\n",
    "    fig.update_xaxes(tickangle=45)\n",
    "    # Show the plot\n",
    "    fig.show()\n",
    "    fig.write_html(render_path.replace('.png', '.html'),full_html=False, include_plotlyjs='cdn')\n",
    "    under5 = pop_dist_group_wp[pop_dist_group_wp['Age_Bracket'] == '0-4']['Percentage'].sum()\n",
    "    youth = pop_dist_group_wp[pop_dist_group_wp['Age_Bracket'].isin(['15-19', '20-24'])]['Percentage'].sum()\n",
    "    total_percent = pop_dist_group_wp['Percentage'].sum()\n",
    "    working_age_rows = pop_dist_group_wp[pop_dist_group_wp['Age_Bracket'].isin(['15-19','20-24','25-29','30-34','35-39','40-44','45-49','50-54','55-59','60-64'])]\n",
    "    working_age_percent = working_age_rows['Percentage'].sum()\n",
    "    working_age = (working_age_percent / total_percent) \n",
    "    elderly = pop_dist_group_wp[pop_dist_group_wp['Age_Bracket'].isin(['60-64', '65-69', '70-74', '75-79', '80+'])]['Percentage'].sum()\n",
    "    total_count = pop_dist_group_wp['Count'].sum()\n",
    "    female_count = pop_dist_group_wp[pop_dist_group_wp['Sex'] == 'f']['Count'].sum()\n",
    "    female_pct = (female_count / total_count) * 100\n",
    "    sex_ratio = (1 - female_pct) / female_pct * 100\n",
    "    reproductive_age = pop_dist_group_wp[(pop_dist_group_wp['Sex'] == 'f') & (pop_dist_group_wp['Age_Bracket'].isin(['15-19', '20-24', '25-29', '30-34', '35-39', '40-44', '45-49']))]['Sexed_Percent'].sum()\n",
    "\n",
    "    \n",
    "    print(f\"under5: {under5:.2%}\")\n",
    "    print(f\"youth (15-24): {youth:.2%}\")\n",
    "    print(f\"working_age (15-64): {working_age:.2%}\")\n",
    "    print(f\"elderly (60+): {elderly:.2%}\")\n",
    "    print(f\"reproductive_age, percent of women (15-50): {reproductive_age:.2%}\")\n",
    "    print(f\"sex_ratio: {round(sex_ratio, 2)} males to 100 females\")\n",
    "\n"
   ]
  },
  {
   "cell_type": "code",
   "execution_count": 33,
   "id": "a83777d1-ef48-4145-a841-ba3c934b99ef",
   "metadata": {},
   "outputs": [
    {
     "data": {
      "text/plain": [
       "'\\ncity=\\'Mumbai\\'\\ndef oxford_age_stats():\\n    with open(\"global_inputs.yml\", \\'r\\') as f:\\n        global_inputs = yaml.safe_load(f)\\n\\n    # Get city inputs\\n    city_inputs = global_inputs.get(\\'city_inputs\\')\\n    \\n# Define the \\'oxford_age_stats\\' function\\ndef oxford_age_stats(city):\\n    with open(\"global_inputs.yml\", \\'r\\') as f:\\n        global_inputs = yaml.safe_load(f)\\n\\n    # Get city inputs\\n    city_inputs = global_inputs.get(\\'city_inputs\\')\\n\\n    if \\'oxford\\' in menu and menu[\\'oxford\\']:  \\n        oxford_data_path = os.path.join(multi_scan_folder, \"Oxford Global Cities Data.csv\")\\n        if os.path.exists(oxford_data_path):  \\n            oxford_data = pd.read_csv(oxford_data_path)\\n            indicators = oxford_data[\\'Indicator\\'].drop_duplicates()\\n            pop_dist_inds = [indicator for indicator in indicators if \"Population\" in indicator and indicator not in [\"Population 0-14\", \"Population 15-64\", \"Population 65+\"]]  \\n\\n            if city in oxford_data[\\'Location\\'].values:\\n                print(f\"{city} exists in the Oxford file.\")\\n                pop_dist_structure = oxford_data.loc[(oxford_data[\\'Location\\'] == city) & (oxford_data[\\'Indicator\\'].isin(pop_dist_inds))]\\n                print(pop_dist_structure.head(3))\\n                pop_dist_structure[\\'Age_Bracket\\'] = pop_dist_structure[\\'Indicator\\'].str[11:19]\\n                # Convert to numeric, handling errors by setting them to NaN\\n                pop_dist_structure[\\'Age_Bracket\\'] = pd.to_numeric(pop_dist_structure[\\'Age_Bracket\\'], errors=\\'coerce\\')\\n                pop_dist_structure[\\'Group\\'] = pd.cut(\\n                    pop_dist_structure[\\'Age_Bracket\\'],\\n                    bins=[0, 4, 14, np.inf],  # Replace float(\\'inf\\') with np.inf\\n                    labels=[\\'Young\\', \\'Working\\', \\'65+\\']\\n                )\\n                \\n                pop_dist_structure = pop_dist_structure.groupby([\\'Year\\', \\'Group\\']).agg(Count=(\\'Value\\', \\'sum\\')).reset_index()\\n                pop_dist_structure[\\'Percent\\'] = pop_dist_structure.groupby(\\'Year\\')[\\'Count\\'].transform(lambda x: x / x.sum())\\n                pop_dist_structure[\\'pct_sum\\'] = pop_dist_structure.groupby(\\'Year\\')[\\'Percent\\'].cumsum()\\n                return pop_dist_structure\\n            else:\\n                print(f\"{city} does not exist in the Oxford file.\")\\n        else:\\n            print(\"Oxford file does not exist.\")\\n    else:\\n        print(\"Oxford is not selected in the menu.\")\\n\\n# Example usage\\noxford_age_stats(\\'Mumbai\\')\\n'"
      ]
     },
     "execution_count": 33,
     "metadata": {},
     "output_type": "execute_result"
    }
   ],
   "source": [
    "\n",
    "#Age structure Oxford Economics (If in Oxford)\n",
    "\n",
    "'''\n",
    "city='Mumbai'\n",
    "def oxford_age_stats():\n",
    "    with open(\"global_inputs.yml\", 'r') as f:\n",
    "        global_inputs = yaml.safe_load(f)\n",
    "\n",
    "    # Get city inputs\n",
    "    city_inputs = global_inputs.get('city_inputs')\n",
    "    \n",
    "# Define the 'oxford_age_stats' function\n",
    "def oxford_age_stats(city):\n",
    "    with open(\"global_inputs.yml\", 'r') as f:\n",
    "        global_inputs = yaml.safe_load(f)\n",
    "\n",
    "    # Get city inputs\n",
    "    city_inputs = global_inputs.get('city_inputs')\n",
    "\n",
    "    if 'oxford' in menu and menu['oxford']:  \n",
    "        oxford_data_path = os.path.join(multi_scan_folder, \"Oxford Global Cities Data.csv\")\n",
    "        if os.path.exists(oxford_data_path):  \n",
    "            oxford_data = pd.read_csv(oxford_data_path)\n",
    "            indicators = oxford_data['Indicator'].drop_duplicates()\n",
    "            pop_dist_inds = [indicator for indicator in indicators if \"Population\" in indicator and indicator not in [\"Population 0-14\", \"Population 15-64\", \"Population 65+\"]]  \n",
    "\n",
    "            if city in oxford_data['Location'].values:\n",
    "                print(f\"{city} exists in the Oxford file.\")\n",
    "                pop_dist_structure = oxford_data.loc[(oxford_data['Location'] == city) & (oxford_data['Indicator'].isin(pop_dist_inds))]\n",
    "                print(pop_dist_structure.head(3))\n",
    "                pop_dist_structure['Age_Bracket'] = pop_dist_structure['Indicator'].str[11:19]\n",
    "                # Convert to numeric, handling errors by setting them to NaN\n",
    "                pop_dist_structure['Age_Bracket'] = pd.to_numeric(pop_dist_structure['Age_Bracket'], errors='coerce')\n",
    "                pop_dist_structure['Group'] = pd.cut(\n",
    "                    pop_dist_structure['Age_Bracket'],\n",
    "                    bins=[0, 4, 14, np.inf],  # Replace float('inf') with np.inf\n",
    "                    labels=['Young', 'Working', '65+']\n",
    "                )\n",
    "                ''''''\n",
    "                pop_dist_structure = pop_dist_structure.groupby(['Year', 'Group']).agg(Count=('Value', 'sum')).reset_index()\n",
    "                pop_dist_structure['Percent'] = pop_dist_structure.groupby('Year')['Count'].transform(lambda x: x / x.sum())\n",
    "                pop_dist_structure['pct_sum'] = pop_dist_structure.groupby('Year')['Percent'].cumsum()\n",
    "                return pop_dist_structure\n",
    "            else:\n",
    "                print(f\"{city} does not exist in the Oxford file.\")\n",
    "        else:\n",
    "            print(\"Oxford file does not exist.\")\n",
    "    else:\n",
    "        print(\"Oxford is not selected in the menu.\")\n",
    "\n",
    "# Example usage\n",
    "oxford_age_stats('Mumbai')\n",
    "'''\n"
   ]
  },
  {
   "cell_type": "code",
   "execution_count": 34,
   "id": "07361797-faf5-4edc-9374-3e416c3dff56",
   "metadata": {},
   "outputs": [],
   "source": [
    "# Share of GDP, Emp, Pop (If in Oxford)"
   ]
  },
  {
   "cell_type": "code",
   "execution_count": 35,
   "id": "bccb56a3-73a4-4c63-ba6a-7554098455f0",
   "metadata": {},
   "outputs": [],
   "source": [
    "# GDP, Pop, Emp Growth (If in Oxford)"
   ]
  },
  {
   "cell_type": "code",
   "execution_count": 36,
   "id": "4fbd4ebe-58ff-42c7-9bb1-d7bc692ebcfe",
   "metadata": {},
   "outputs": [],
   "source": [
    "# GDP per capita (If in Oxford)"
   ]
  },
  {
   "cell_type": "code",
   "execution_count": 37,
   "id": "82a89901-b37b-4440-8a70-50c288bd3700",
   "metadata": {},
   "outputs": [],
   "source": [
    "# Share of employment by sector (If in Oxford)"
   ]
  },
  {
   "cell_type": "code",
   "execution_count": 38,
   "id": "976d9c30-ee1e-42ee-b3cc-881d5830a540",
   "metadata": {},
   "outputs": [],
   "source": [
    "#Economic Inequality (If in Oxford)"
   ]
  },
  {
   "cell_type": "code",
   "execution_count": 39,
   "id": "7ae3cd22-889c-4859-8555-c955df2d6bfd",
   "metadata": {},
   "outputs": [],
   "outputs": [],
   "source": [
    "def wsf_stats():\n",
    "    # Load global inputs from YAML file\n",
    "    with open(\"global_inputs.yml\", 'r') as f:\n",
    "        global_inputs = yaml.safe_load(f)\n",
    "\n",
    "    # Get city inputs\n",
    "    city_inputs = global_inputs.get('city_inputs')\n",
    "\n",
    "    if menu['wsf']:  \n",
    "        wsf_stats_file = Path(output_folder / f\"{city}_wsf_stats.csv\")  \n",
    "        if os.path.exists(wsf_stats_file):  \n",
    "            pass\n",
    "        else:\n",
    "            print(\"WSF stats file does not exist.\")\n",
    "            return  \n",
    "        wsf = pd.read_csv(wsf_stats_file)\n",
    "        \n",
    "        wsf = wsf.rename(columns={'year': 'Year'}).\\\n",
    "        loc[:, ['Year', 'cumulative sq km']].\\\n",
    "        rename(columns={'cumulative sq km': 'uba_km2'})\n",
    "\n",
    "        \n",
    "        wsf['growth_pct'] = (wsf['uba_km2'] / wsf['uba_km2'].shift(1) - 1)\n",
    "        wsf['growth_km2'] = wsf['uba_km2'] - wsf['uba_km2'].shift(1)\n",
    "\n",
    "        # Plot\n",
    "        plt.figure(figsize=(8, 6))\n",
    "        plt.plot(wsf['Year'], wsf['uba_km2'], marker='o', linestyle='-')\n",
    "        plt.title(\"Urban Built-up Area, 1985-2015\")\n",
    "        plt.xlabel(\"Year\")\n",
    "        plt.ylabel(\"Urban built-up area (sq. km)\")\n",
    "        plt.grid(True)\n",
    "        # Save as PNG in output folder\n",
    "        render_path = os.path.join(render_folder, f\"{city}_urban_built_up_area.png\")\n",
    "        plt.savefig(render_path)\n",
    "        plt.close()\n",
    "\n",
    "        # Create Plotly\n",
    "        fig = go.Figure()\n",
    "\n",
    "        # Add trace for urban built-up area\n",
    "        fig.add_trace(go.Scatter(\n",
    "            x=wsf['Year'],\n",
    "            y=wsf['uba_km2'],\n",
    "            mode='lines+markers',\n",
    "            name='Urban built-up area (km^2)'\n",
    "        ))\n",
    "\n",
    "        \n",
    "        fig.update_layout(\n",
    "            title=\"Urban Built-up Area, 1985-2015\",\n",
    "            xaxis_title=\"Year\",\n",
    "            yaxis_title=\"Urban built-up area (km^2)\",\n",
    "            template='plotly_white',\n",
    "            showlegend=True,\n",
    "            hovermode='x'\n",
    "        )\n",
    "        fig.show()\n",
    "        fig.write_html(render_path.replace('.png', '.html'),full_html=False, include_plotlyjs='cdn')\n",
    "        first_area = wsf['uba_km2'].iloc[0]\n",
    "        latest_area = wsf['uba_km2'].iloc[-1]\n",
    "        first_year = wsf['Year'].iloc[0]\n",
    "        latest_year = wsf['Year'].iloc[-1]\n",
    "        pct_growth = 100 * (latest_area - first_area) / first_area\n",
    "        print(f\"The city's built-up area grew from {round(first_area, 2)} sq. km in {first_year} to {round(latest_area, 2)} in {latest_year} for {round(pct_growth, 2)}% growth\")\n"
    "        print(f\"The city's built-up area grew from {round(first_area, 2)} sq. km in {first_year} to {round(latest_area, 2)} in {latest_year} for {round(pct_growth, 2)}% growth\")\n"
   ]
  },
  {
   "cell_type": "code",
   "execution_count": 40,
   "id": "0b3913e5-3125-4d45-bca2-9b5558d82040",
   "metadata": {},
   "outputs": [
    {
     "data": {
      "application/vnd.plotly.v1+json": {
       "config": {
        "plotlyServerURL": "https://plot.ly"
       },
       "data": [
        {
         "customdata": [
          [
           "Tree cover"
          ],
          [
           "Shrubland"
          ],
          [
           "Grassland"
          ],
          [
           "Cropland"
          ],
          [
           "Built-up"
          ],
          [
           "Bare / sparse vegetation"
          ],
          [
           "Snow and ice"
          ],
          [
           "Permanent water bodies"
          ],
          [
           "Herbaceous wetland"
          ],
          [
           "Mangroves"
          ],
          [
           "Moss and lichen"
          ]
         ],
         "domain": {
          "x": [
           0,
           1
          ],
          "y": [
           0,
           1
          ]
         },
         "hovertemplate": "Land Cover Type=%{customdata[0]}<br>Pixel Count=%{value}<extra></extra>",
         "labels": [
          "Tree cover",
          "Shrubland",
          "Grassland",
          "Cropland",
          "Built-up",
          "Bare / sparse vegetation",
          "Snow and ice",
          "Permanent water bodies",
          "Herbaceous wetland",
          "Mangroves",
          "Moss and lichen"
         ],
         "legendgroup": "",
         "marker": {
          "colors": [
           "#397e48",
           "#dfc25a",
           "#88af52",
           "#e49634",
           "#c4281b",
           "#a59b8f",
           "#F5F5F5",
           "#00008b",
           "#7d87c4",
           "#90EE90",
           "#013220"
          ]
         },
         "name": "",
         "showlegend": true,
         "textinfo": "percent+label",
         "textposition": "inside",
         "type": "pie",
         "values": [
          5925.6862745098015,
          18755.188235294107,
          230540.5529411765,
          3,
          24135.607843137248,
          870.5058823529412,
          0,
          17.862745098039213,
          6585.580392156862,
          0,
          0
         ]
        }
       ],
       "layout": {
        "legend": {
         "tracegroupgap": 0
        },
        "margin": {
         "t": 60
        },
        "template": {
         "data": {
          "bar": [
           {
            "error_x": {
             "color": "#2a3f5f"
            },
            "error_y": {
             "color": "#2a3f5f"
            },
            "marker": {
             "line": {
              "color": "#E5ECF6",
              "width": 0.5
             },
             "pattern": {
              "fillmode": "overlay",
              "size": 10,
              "solidity": 0.2
             }
            },
            "type": "bar"
           }
          ],
          "barpolar": [
           {
            "marker": {
             "line": {
              "color": "#E5ECF6",
              "width": 0.5
             },
             "pattern": {
              "fillmode": "overlay",
              "size": 10,
              "solidity": 0.2
             }
            },
            "type": "barpolar"
           }
          ],
          "carpet": [
           {
            "aaxis": {
             "endlinecolor": "#2a3f5f",
             "gridcolor": "white",
             "linecolor": "white",
             "minorgridcolor": "white",
             "startlinecolor": "#2a3f5f"
            },
            "baxis": {
             "endlinecolor": "#2a3f5f",
             "gridcolor": "white",
             "linecolor": "white",
             "minorgridcolor": "white",
             "startlinecolor": "#2a3f5f"
            },
            "type": "carpet"
           }
          ],
          "choropleth": [
           {
            "colorbar": {
             "outlinewidth": 0,
             "ticks": ""
            },
            "type": "choropleth"
           }
          ],
          "contour": [
           {
            "colorbar": {
             "outlinewidth": 0,
             "ticks": ""
            },
            "colorscale": [
             [
              0,
              "#0d0887"
             ],
             [
              0.1111111111111111,
              "#46039f"
             ],
             [
              0.2222222222222222,
              "#7201a8"
             ],
             [
              0.3333333333333333,
              "#9c179e"
             ],
             [
              0.4444444444444444,
              "#bd3786"
             ],
             [
              0.5555555555555556,
              "#d8576b"
             ],
             [
              0.6666666666666666,
              "#ed7953"
             ],
             [
              0.7777777777777778,
              "#fb9f3a"
             ],
             [
              0.8888888888888888,
              "#fdca26"
             ],
             [
              1,
              "#f0f921"
             ]
            ],
            "type": "contour"
           }
          ],
          "contourcarpet": [
           {
            "colorbar": {
             "outlinewidth": 0,
             "ticks": ""
            },
            "type": "contourcarpet"
           }
          ],
          "heatmap": [
           {
            "colorbar": {
             "outlinewidth": 0,
             "ticks": ""
            },
            "colorscale": [
             [
              0,
              "#0d0887"
             ],
             [
              0.1111111111111111,
              "#46039f"
             ],
             [
              0.2222222222222222,
              "#7201a8"
             ],
             [
              0.3333333333333333,
              "#9c179e"
             ],
             [
              0.4444444444444444,
              "#bd3786"
             ],
             [
              0.5555555555555556,
              "#d8576b"
             ],
             [
              0.6666666666666666,
              "#ed7953"
             ],
             [
              0.7777777777777778,
              "#fb9f3a"
             ],
             [
              0.8888888888888888,
              "#fdca26"
             ],
             [
              1,
              "#f0f921"
             ]
            ],
            "type": "heatmap"
           }
          ],
          "heatmapgl": [
           {
            "colorbar": {
             "outlinewidth": 0,
             "ticks": ""
            },
            "colorscale": [
             [
              0,
              "#0d0887"
             ],
             [
              0.1111111111111111,
              "#46039f"
             ],
             [
              0.2222222222222222,
              "#7201a8"
             ],
             [
              0.3333333333333333,
              "#9c179e"
             ],
             [
              0.4444444444444444,
              "#bd3786"
             ],
             [
              0.5555555555555556,
              "#d8576b"
             ],
             [
              0.6666666666666666,
              "#ed7953"
             ],
             [
              0.7777777777777778,
              "#fb9f3a"
             ],
             [
              0.8888888888888888,
              "#fdca26"
             ],
             [
              1,
              "#f0f921"
             ]
            ],
            "type": "heatmapgl"
           }
          ],
          "histogram": [
           {
            "marker": {
             "pattern": {
              "fillmode": "overlay",
              "size": 10,
              "solidity": 0.2
             }
            },
            "type": "histogram"
           }
          ],
          "histogram2d": [
           {
            "colorbar": {
             "outlinewidth": 0,
             "ticks": ""
            },
            "colorscale": [
             [
              0,
              "#0d0887"
             ],
             [
              0.1111111111111111,
              "#46039f"
             ],
             [
              0.2222222222222222,
              "#7201a8"
             ],
             [
              0.3333333333333333,
              "#9c179e"
             ],
             [
              0.4444444444444444,
              "#bd3786"
             ],
             [
              0.5555555555555556,
              "#d8576b"
             ],
             [
              0.6666666666666666,
              "#ed7953"
             ],
             [
              0.7777777777777778,
              "#fb9f3a"
             ],
             [
              0.8888888888888888,
              "#fdca26"
             ],
             [
              1,
              "#f0f921"
             ]
            ],
            "type": "histogram2d"
           }
          ],
          "histogram2dcontour": [
           {
            "colorbar": {
             "outlinewidth": 0,
             "ticks": ""
            },
            "colorscale": [
             [
              0,
              "#0d0887"
             ],
             [
              0.1111111111111111,
              "#46039f"
             ],
             [
              0.2222222222222222,
              "#7201a8"
             ],
             [
              0.3333333333333333,
              "#9c179e"
             ],
             [
              0.4444444444444444,
              "#bd3786"
             ],
             [
              0.5555555555555556,
              "#d8576b"
             ],
             [
              0.6666666666666666,
              "#ed7953"
             ],
             [
              0.7777777777777778,
              "#fb9f3a"
             ],
             [
              0.8888888888888888,
              "#fdca26"
             ],
             [
              1,
              "#f0f921"
             ]
            ],
            "type": "histogram2dcontour"
           }
          ],
          "mesh3d": [
           {
            "colorbar": {
             "outlinewidth": 0,
             "ticks": ""
            },
            "type": "mesh3d"
           }
          ],
          "parcoords": [
           {
            "line": {
             "colorbar": {
              "outlinewidth": 0,
              "ticks": ""
             }
            },
            "type": "parcoords"
           }
          ],
          "pie": [
           {
            "automargin": true,
            "type": "pie"
           }
          ],
          "scatter": [
           {
            "fillpattern": {
             "fillmode": "overlay",
             "size": 10,
             "solidity": 0.2
            },
            "type": "scatter"
           }
          ],
          "scatter3d": [
           {
            "line": {
             "colorbar": {
              "outlinewidth": 0,
              "ticks": ""
             }
            },
            "marker": {
             "colorbar": {
              "outlinewidth": 0,
              "ticks": ""
             }
            },
            "type": "scatter3d"
           }
          ],
          "scattercarpet": [
           {
            "marker": {
             "colorbar": {
              "outlinewidth": 0,
              "ticks": ""
             }
            },
            "type": "scattercarpet"
           }
          ],
          "scattergeo": [
           {
            "marker": {
             "colorbar": {
              "outlinewidth": 0,
              "ticks": ""
             }
            },
            "type": "scattergeo"
           }
          ],
          "scattergl": [
           {
            "marker": {
             "colorbar": {
              "outlinewidth": 0,
              "ticks": ""
             }
            },
            "type": "scattergl"
           }
          ],
          "scattermapbox": [
           {
            "marker": {
             "colorbar": {
              "outlinewidth": 0,
              "ticks": ""
             }
            },
            "type": "scattermapbox"
           }
          ],
          "scatterpolar": [
           {
            "marker": {
             "colorbar": {
              "outlinewidth": 0,
              "ticks": ""
             }
            },
            "type": "scatterpolar"
           }
          ],
          "scatterpolargl": [
           {
            "marker": {
             "colorbar": {
              "outlinewidth": 0,
              "ticks": ""
             }
            },
            "type": "scatterpolargl"
           }
          ],
          "scatterternary": [
           {
            "marker": {
             "colorbar": {
              "outlinewidth": 0,
              "ticks": ""
             }
            },
            "type": "scatterternary"
           }
          ],
          "surface": [
           {
            "colorbar": {
             "outlinewidth": 0,
             "ticks": ""
            },
            "colorscale": [
             [
              0,
              "#0d0887"
             ],
             [
              0.1111111111111111,
              "#46039f"
             ],
             [
              0.2222222222222222,
              "#7201a8"
             ],
             [
              0.3333333333333333,
              "#9c179e"
             ],
             [
              0.4444444444444444,
              "#bd3786"
             ],
             [
              0.5555555555555556,
              "#d8576b"
             ],
             [
              0.6666666666666666,
              "#ed7953"
             ],
             [
              0.7777777777777778,
              "#fb9f3a"
             ],
             [
              0.8888888888888888,
              "#fdca26"
             ],
             [
              1,
              "#f0f921"
             ]
            ],
            "type": "surface"
           }
          ],
          "table": [
           {
            "cells": {
             "fill": {
              "color": "#EBF0F8"
             },
             "line": {
              "color": "white"
             }
            },
            "header": {
             "fill": {
              "color": "#C8D4E3"
             },
             "line": {
              "color": "white"
             }
            },
            "type": "table"
           }
          ]
         },
         "layout": {
          "annotationdefaults": {
           "arrowcolor": "#2a3f5f",
           "arrowhead": 0,
           "arrowwidth": 1
          },
          "autotypenumbers": "strict",
          "coloraxis": {
           "colorbar": {
            "outlinewidth": 0,
            "ticks": ""
           }
          },
          "colorscale": {
           "diverging": [
            [
             0,
             "#8e0152"
            ],
            [
             0.1,
             "#c51b7d"
            ],
            [
             0.2,
             "#de77ae"
            ],
            [
             0.3,
             "#f1b6da"
            ],
            [
             0.4,
             "#fde0ef"
            ],
            [
             0.5,
             "#f7f7f7"
            ],
            [
             0.6,
             "#e6f5d0"
            ],
            [
             0.7,
             "#b8e186"
            ],
            [
             0.8,
             "#7fbc41"
            ],
            [
             0.9,
             "#4d9221"
            ],
            [
             1,
             "#276419"
            ]
           ],
           "sequential": [
            [
             0,
             "#0d0887"
            ],
            [
             0.1111111111111111,
             "#46039f"
            ],
            [
             0.2222222222222222,
             "#7201a8"
            ],
            [
             0.3333333333333333,
             "#9c179e"
            ],
            [
             0.4444444444444444,
             "#bd3786"
            ],
            [
             0.5555555555555556,
             "#d8576b"
            ],
            [
             0.6666666666666666,
             "#ed7953"
            ],
            [
             0.7777777777777778,
             "#fb9f3a"
            ],
            [
             0.8888888888888888,
             "#fdca26"
            ],
            [
             1,
             "#f0f921"
            ]
           ],
           "sequentialminus": [
            [
             0,
             "#0d0887"
            ],
            [
             0.1111111111111111,
             "#46039f"
            ],
            [
             0.2222222222222222,
             "#7201a8"
            ],
            [
             0.3333333333333333,
             "#9c179e"
            ],
            [
             0.4444444444444444,
             "#bd3786"
            ],
            [
             0.5555555555555556,
             "#d8576b"
            ],
            [
             0.6666666666666666,
             "#ed7953"
            ],
            [
             0.7777777777777778,
             "#fb9f3a"
            ],
            [
             0.8888888888888888,
             "#fdca26"
            ],
            [
             1,
             "#f0f921"
            ]
           ]
          },
          "colorway": [
           "#636efa",
           "#EF553B",
           "#00cc96",
           "#ab63fa",
           "#FFA15A",
           "#19d3f3",
           "#FF6692",
           "#B6E880",
           "#FF97FF",
           "#FECB52"
          ],
          "font": {
           "color": "#2a3f5f"
          },
          "geo": {
           "bgcolor": "white",
           "lakecolor": "white",
           "landcolor": "#E5ECF6",
           "showlakes": true,
           "showland": true,
           "subunitcolor": "white"
          },
          "hoverlabel": {
           "align": "left"
          },
          "hovermode": "closest",
          "mapbox": {
           "style": "light"
          },
          "paper_bgcolor": "white",
          "plot_bgcolor": "#E5ECF6",
          "polar": {
           "angularaxis": {
            "gridcolor": "white",
            "linecolor": "white",
            "ticks": ""
           },
           "bgcolor": "#E5ECF6",
           "radialaxis": {
            "gridcolor": "white",
            "linecolor": "white",
            "ticks": ""
           }
          },
          "scene": {
           "xaxis": {
            "backgroundcolor": "#E5ECF6",
            "gridcolor": "white",
            "gridwidth": 2,
            "linecolor": "white",
            "showbackground": true,
            "ticks": "",
            "zerolinecolor": "white"
           },
           "yaxis": {
            "backgroundcolor": "#E5ECF6",
            "gridcolor": "white",
            "gridwidth": 2,
            "linecolor": "white",
            "showbackground": true,
            "ticks": "",
            "zerolinecolor": "white"
           },
           "zaxis": {
            "backgroundcolor": "#E5ECF6",
            "gridcolor": "white",
            "gridwidth": 2,
            "linecolor": "white",
            "showbackground": true,
            "ticks": "",
            "zerolinecolor": "white"
           }
          },
          "shapedefaults": {
           "line": {
            "color": "#2a3f5f"
           }
          },
          "ternary": {
           "aaxis": {
            "gridcolor": "white",
            "linecolor": "white",
            "ticks": ""
           },
           "baxis": {
            "gridcolor": "white",
            "linecolor": "white",
            "ticks": ""
           },
           "bgcolor": "#E5ECF6",
           "caxis": {
            "gridcolor": "white",
            "linecolor": "white",
            "ticks": ""
           }
          },
          "title": {
           "x": 0.05
          },
          "xaxis": {
           "automargin": true,
           "gridcolor": "white",
           "linecolor": "white",
           "ticks": "",
           "title": {
            "standoff": 15
           },
           "zerolinecolor": "white",
           "zerolinewidth": 2
          },
          "yaxis": {
           "automargin": true,
           "gridcolor": "white",
           "linecolor": "white",
           "ticks": "",
           "title": {
            "standoff": 15
           },
           "zerolinecolor": "white",
           "zerolinewidth": 2
          }
         }
        }
       }
      }
     },
     "metadata": {},
     "output_type": "display_data"
    },
    {
     "name": "stdout",
     "output_type": "stream",
     "text": [
      "The first highest landcover value is Grassland with 80.37% of the total land area\n",
      "The second highest landcover value is Built-up with 8.41% of the total land area\n",
      "The third highest landcover value is Shrubland with 6.54% of the total land area\n"
     ]
    }
   ],
   "source": [
    "#Landcover Graph\n",
    "def lc_stats():\n",
    "    \n",
    "    with open(\"global_inputs.yml\", 'r') as f:\n",
    "        global_inputs = yaml.safe_load(f)\n",
    "\n",
    "    \n",
    "    city_inputs = global_inputs.get('city_inputs')\n",
    "\n",
    "    if menu['landcover']:  \n",
    "        lc_stats_file = Path(output_folder / f\"{city}_lc.csv\")  \n",
    "        if not lc_stats_file.exists():  \n",
    "            print(\"Land Cover stats file does not exist.\")\n",
    "            return  \n",
    "        \n",
    "        \n",
    "        lc = pd.read_csv(lc_stats_file)\n",
    "\n",
    "        # Define colors\n",
    "        lc_colors = {\n",
    "            \"Tree cover\": \"#397e48\",\n",
    "            \"Built-up\": \"#c4281b\",\n",
    "            \"Grassland\": \"#88af52\",\n",
    "            \"Bare / sparse vegetation\": \"#a59b8f\",\n",
    "            \"Cropland\": \"#e49634\",\n",
    "            \"Water bodies\": \"#429bdf\",\n",
    "            \"Permanent water bodies\": \"#00008b\",#change this\n",
    "            \"Mangroves\": \"#90EE90\",#change this\n",
    "            \"Moss and lichen\": \"#013220\",#change this\n",
    "            \"Shrubland\": \"#dfc25a\",\n",
    "            \"Herbaceous wetland\": \"#7d87c4\",\n",
    "            \"Snow and ice\": \"#F5F5F5\"\n",
    "        }\n",
    "        #connect it to the frontend layers.yml\n",
    "\n",
    "        \n",
    "        total_pixels = lc['Pixel Count'].sum()\n",
    "\n",
    "        \n",
    "        lc['Percentage'] = lc['Pixel Count'] / total_pixels * 100\n",
    "\n",
    "        \n",
    "        # Matplotlib pie chart\n",
    "        plt.figure(figsize=(8, 8))\n",
    "        wedges, _, autotexts = plt.pie(lc['Pixel Count'], labels=None,\n",
    "                                        colors=[lc_colors[lc_type] for lc_type in lc['Land Cover Type']],\n",
    "                                        startangle=90, autopct='%1.0f%%')\n",
    "        plt.title(\"Land Cover Distribution\")\n",
    "        \n",
    "        # Add percentage labels to the pie chart for land cover types > 5%\n",
    "        for autotext, pct in zip(autotexts, lc['Percentage']):\n",
    "            if pct >= 5:\n",
    "                autotext.set_color('black')\n",
    "                autotext.set_size(10)\n",
    "                autotext.set_text(f\"{pct:.0f}%\")\n",
    "            else:\n",
    "                autotext.set_text('')  # Hide labels for slices with percentage < 5%\n",
    "        \n",
    "        # Save matplotlib pie chart\n",
    "        render_path = os.path.join(render_folder, f\"{city}_landcover.png\")\n",
    "        plt.savefig(render_path)\n",
    "        plt.close()\n",
    "        \n",
    "        \n",
    "        \n",
    "        fig = px.pie(lc, values='Pixel Count', names='Land Cover Type', color='Land Cover Type', color_discrete_map=lc_colors)\n",
    "        fig.update_traces(textposition='inside', textinfo='percent+label')\n",
    "        fig.show()\n",
    "        fig.write_html(render_path.replace('.png', '.html'),full_html=False, include_plotlyjs='cdn')\n",
    "\n",
    "        # Dictionary to convert integers to ordinal strings\n",
    "        ordinal_dict = {1: \"first\", 2: \"second\", 3: \"third\"}\n",
    "\n",
    "        # Print the percentage of the first three highest values\n",
    "        highest_values = lc.sort_values(by='Percentage', ascending=False).head(3)\n",
    "        for i, (index, row) in enumerate(highest_values.iterrows()):\n",
    "            ordinal_str = ordinal_dict.get(i + 1, str(i + 1) + \"th\")\n",
    "            print(f\"The {ordinal_str} highest landcover value is {row['Land Cover Type']} with {row['Percentage']:.2f}% of the total land area\")\n",
    "       \n",
    "        \n",
    "\n"
    "\n"
   ]
  },
  {
   "cell_type": "code",
   "execution_count": 45,
   "id": "41ad0554-e5ec-4ed7-b374-b9b3a48c6428",
   "metadata": {},
   "outputs": [],
   "outputs": [],
   "source": [
    "#Elevation Graph\n",
    "def elev_stats():\n",
    "    with open(\"global_inputs.yml\", 'r') as f:\n",
    "        global_inputs = yaml.safe_load(f)\n",
    "    city_inputs = global_inputs.get('city_inputs')\n",
    "    if menu['elevation']:  \n",
    "        elev_stats_file = Path(output_folder / f\"{city}_elevation.csv\") \n",
    "        if not elev_stats_file.exists():  \n",
    "            print(\"Elevation stats file does not exist.\")\n",
    "            return  \n",
    "        elev = pd.read_csv(elev_stats_file)\n",
    "        # Calculate the total count\n",
    "        total_count = elev['Count'].sum()\n",
    "\n",
    "        # Calculate percentage\n",
    "        elev['percent'] = elev['Count'] / total_count * 100\n",
    "\n",
    "        # Convert to numeric\n",
    "        elev['percent'] = pd.to_numeric(elev['percent'], errors='coerce')\n",
    "\n",
    "        \n",
    "        elevation = elev.dropna(subset=['Bin']).copy()  # Create a copy to avoid the warning\n",
    "\n",
    "        # Preprocess the data\n",
    "        elevation['Percent'] = (elevation['percent']/100).apply(lambda x: f\"{x:.0%}\") \n",
    "        elevation['Elevation'] = pd.to_numeric(elevation['Bin'].str.split('-').str[0], errors='coerce')  \n",
    "        elevation = elevation.dropna(subset=['Elevation'])  \n",
    "        elevation['Bin'] = pd.Categorical(elevation['Bin'], categories=elevation['Bin'].unique()) \n",
    "        print(elevation)\n",
    "        # Define colors\n",
    "        elevation_colors = {\n",
    "            \"0-2\": \"#f5c4c0\",\n",
    "            \"2-5\": \"#f19bb4\",\n",
    "            \"5-10\": \"#ec5fa1\",\n",
    "            \"10-20\": \"#c20b8a\",\n",
    "            \"20+\": \"#762175\"\n",
    "        }\n",
    "        # Create the pie chart\n",
    "        plt.figure(figsize=(8, 5))\n",
    "        wedges, texts, autotexts = plt.pie(elevation['percent'], labels=None, colors=elevation_colors.values(), startangle=90, autopct='%1.0f%%')\n",
    "        plt.title(\"Elevation Distribution\")\n",
    "        plt.legend(elevation['Elevation'], loc=\"center left\", bbox_to_anchor=(1, 0, 0.5, 1))\n",
    "\n",
    "        for autotext, pct in zip(autotexts, elevation['percent']):\n",
    "            if pct < 3:\n",
    "                autotext.set_text('')  # Hide labels for slices with percentage < 5%\n",
    "            else:\n",
    "                autotext.set_color('black')\n",
    "                autotext.set_size(10)\n",
    "                autotext.set_text(f\"{pct:.0f}%\")\n",
    "        \n",
    "        # Save the plot\n",
    "        render_path = os.path.join(render_folder, f\"{city}_elevation.png\")\n",
    "        plt.savefig(render_path, bbox_inches='tight')\n",
    "        plt.close()\n",
    "\n",
    "        # Create a pie chart with percentage labels\n",
    "        fig = px.pie(elevation, values='percent', names='Elevation', hole=0.3,\n",
    "                    color_discrete_sequence=list(elevation_colors.values()), \n",
    "                    title=\"Elevation Distribution\", \n",
    "                    labels={'percent': 'Percentage', 'Elevation': 'Elevation Range'},\n",
    "                    template='plotly_white')\n",
    "\n",
    "        # Update layout\n",
    "        fig.update_layout(legend=dict(orientation=\"h\", x=0.5, y=1.1),\n",
    "                        margin=dict(l=0, r=0, t=50, b=0))\n",
    "        fig.show()\n",
    "        fig.write_html(render_path.replace('.png', '.html'),full_html=False, include_plotlyjs='cdn')\n",
    "\n",
    "        # Print the percentage of land \n",
    "        max_percent_index = elevation['percent'].idxmax()\n",
    "        highest_percent_row = elevation.loc[max_percent_index]\n",
    "        print(f\"Highest percentage entry for Elevation is {highest_percent_row['Percent']} in the bin range {highest_percent_row['Bin']}\")\n",
    "\n",
    "\n",
    "\n",
    "\n",
    "\n",
    "\n",
    "#why are they different?"
   ]
  },
  {
   "cell_type": "code",
   "execution_count": 19,
   "id": "be08dae0-5584-42e6-b59d-9eaa5cd4d6a7",
   "metadata": {},
   "outputs": [
    {
     "data": {
      "application/vnd.plotly.v1+json": {
       "config": {
        "plotlyServerURL": "https://plot.ly"
       },
       "data": [
        {
         "domain": {
          "x": [
           0,
           1
          ],
          "y": [
           0,
           1
          ]
         },
         "hole": 0.3,
         "hovertemplate": "Slope Range=%{label}<br>Percentage=%{value}<extra></extra>",
         "labels": [
          0,
          2,
          5,
          10,
          20
         ],
         "legendgroup": "",
         "name": "",
         "showlegend": true,
         "type": "pie",
         "values": [
          99.70232253843638,
          0.2976774615636245,
          0,
          0,
          0
         ]
        }
       ],
       "layout": {
        "legend": {
         "orientation": "h",
         "tracegroupgap": 0,
         "x": 0.5,
         "y": 1.1
        },
        "margin": {
         "b": 0,
         "l": 0,
         "r": 0,
         "t": 50
        },
        "piecolorway": [
         "#ffffd4",
         "#fed98e",
         "#fe9929",
         "#d95f0e",
         "#993404"
        ],
        "template": {
         "data": {
          "bar": [
           {
            "error_x": {
             "color": "#2a3f5f"
            },
            "error_y": {
             "color": "#2a3f5f"
            },
            "marker": {
             "line": {
              "color": "white",
              "width": 0.5
             },
             "pattern": {
              "fillmode": "overlay",
              "size": 10,
              "solidity": 0.2
             }
            },
            "type": "bar"
           }
          ],
          "barpolar": [
           {
            "marker": {
             "line": {
              "color": "white",
              "width": 0.5
             },
             "pattern": {
              "fillmode": "overlay",
              "size": 10,
              "solidity": 0.2
             }
            },
            "type": "barpolar"
           }
          ],
          "carpet": [
           {
            "aaxis": {
             "endlinecolor": "#2a3f5f",
             "gridcolor": "#C8D4E3",
             "linecolor": "#C8D4E3",
             "minorgridcolor": "#C8D4E3",
             "startlinecolor": "#2a3f5f"
            },
            "baxis": {
             "endlinecolor": "#2a3f5f",
             "gridcolor": "#C8D4E3",
             "linecolor": "#C8D4E3",
             "minorgridcolor": "#C8D4E3",
             "startlinecolor": "#2a3f5f"
            },
            "type": "carpet"
           }
          ],
          "choropleth": [
           {
            "colorbar": {
             "outlinewidth": 0,
             "ticks": ""
            },
            "type": "choropleth"
           }
          ],
          "contour": [
           {
            "colorbar": {
             "outlinewidth": 0,
             "ticks": ""
            },
            "colorscale": [
             [
              0,
              "#0d0887"
             ],
             [
              0.1111111111111111,
              "#46039f"
             ],
             [
              0.2222222222222222,
              "#7201a8"
             ],
             [
              0.3333333333333333,
              "#9c179e"
             ],
             [
              0.4444444444444444,
              "#bd3786"
             ],
             [
              0.5555555555555556,
              "#d8576b"
             ],
             [
              0.6666666666666666,
              "#ed7953"
             ],
             [
              0.7777777777777778,
              "#fb9f3a"
             ],
             [
              0.8888888888888888,
              "#fdca26"
             ],
             [
              1,
              "#f0f921"
             ]
            ],
            "type": "contour"
           }
          ],
          "contourcarpet": [
           {
            "colorbar": {
             "outlinewidth": 0,
             "ticks": ""
            },
            "type": "contourcarpet"
           }
          ],
          "heatmap": [
           {
            "colorbar": {
             "outlinewidth": 0,
             "ticks": ""
            },
            "colorscale": [
             [
              0,
              "#0d0887"
             ],
             [
              0.1111111111111111,
              "#46039f"
             ],
             [
              0.2222222222222222,
              "#7201a8"
             ],
             [
              0.3333333333333333,
              "#9c179e"
             ],
             [
              0.4444444444444444,
              "#bd3786"
             ],
             [
              0.5555555555555556,
              "#d8576b"
             ],
             [
              0.6666666666666666,
              "#ed7953"
             ],
             [
              0.7777777777777778,
              "#fb9f3a"
             ],
             [
              0.8888888888888888,
              "#fdca26"
             ],
             [
              1,
              "#f0f921"
             ]
            ],
            "type": "heatmap"
           }
          ],
          "heatmapgl": [
           {
            "colorbar": {
             "outlinewidth": 0,
             "ticks": ""
            },
            "colorscale": [
             [
              0,
              "#0d0887"
             ],
             [
              0.1111111111111111,
              "#46039f"
             ],
             [
              0.2222222222222222,
              "#7201a8"
             ],
             [
              0.3333333333333333,
              "#9c179e"
             ],
             [
              0.4444444444444444,
              "#bd3786"
             ],
             [
              0.5555555555555556,
              "#d8576b"
             ],
             [
              0.6666666666666666,
              "#ed7953"
             ],
             [
              0.7777777777777778,
              "#fb9f3a"
             ],
             [
              0.8888888888888888,
              "#fdca26"
             ],
             [
              1,
              "#f0f921"
             ]
            ],
            "type": "heatmapgl"
           }
          ],
          "histogram": [
           {
            "marker": {
             "pattern": {
              "fillmode": "overlay",
              "size": 10,
              "solidity": 0.2
             }
            },
            "type": "histogram"
           }
          ],
          "histogram2d": [
           {
            "colorbar": {
             "outlinewidth": 0,
             "ticks": ""
            },
            "colorscale": [
             [
              0,
              "#0d0887"
             ],
             [
              0.1111111111111111,
              "#46039f"
             ],
             [
              0.2222222222222222,
              "#7201a8"
             ],
             [
              0.3333333333333333,
              "#9c179e"
             ],
             [
              0.4444444444444444,
              "#bd3786"
             ],
             [
              0.5555555555555556,
              "#d8576b"
             ],
             [
              0.6666666666666666,
              "#ed7953"
             ],
             [
              0.7777777777777778,
              "#fb9f3a"
             ],
             [
              0.8888888888888888,
              "#fdca26"
             ],
             [
              1,
              "#f0f921"
             ]
            ],
            "type": "histogram2d"
           }
          ],
          "histogram2dcontour": [
           {
            "colorbar": {
             "outlinewidth": 0,
             "ticks": ""
            },
            "colorscale": [
             [
              0,
              "#0d0887"
             ],
             [
              0.1111111111111111,
              "#46039f"
             ],
             [
              0.2222222222222222,
              "#7201a8"
             ],
             [
              0.3333333333333333,
              "#9c179e"
             ],
             [
              0.4444444444444444,
              "#bd3786"
             ],
             [
              0.5555555555555556,
              "#d8576b"
             ],
             [
              0.6666666666666666,
              "#ed7953"
             ],
             [
              0.7777777777777778,
              "#fb9f3a"
             ],
             [
              0.8888888888888888,
              "#fdca26"
             ],
             [
              1,
              "#f0f921"
             ]
            ],
            "type": "histogram2dcontour"
           }
          ],
          "mesh3d": [
           {
            "colorbar": {
             "outlinewidth": 0,
             "ticks": ""
            },
            "type": "mesh3d"
           }
          ],
          "parcoords": [
           {
            "line": {
             "colorbar": {
              "outlinewidth": 0,
              "ticks": ""
             }
            },
            "type": "parcoords"
           }
          ],
          "pie": [
           {
            "automargin": true,
            "type": "pie"
           }
          ],
          "scatter": [
           {
            "fillpattern": {
             "fillmode": "overlay",
             "size": 10,
             "solidity": 0.2
            },
            "type": "scatter"
           }
          ],
          "scatter3d": [
           {
            "line": {
             "colorbar": {
              "outlinewidth": 0,
              "ticks": ""
             }
            },
            "marker": {
             "colorbar": {
              "outlinewidth": 0,
              "ticks": ""
             }
            },
            "type": "scatter3d"
           }
          ],
          "scattercarpet": [
           {
            "marker": {
             "colorbar": {
              "outlinewidth": 0,
              "ticks": ""
             }
            },
            "type": "scattercarpet"
           }
          ],
          "scattergeo": [
           {
            "marker": {
             "colorbar": {
              "outlinewidth": 0,
              "ticks": ""
             }
            },
            "type": "scattergeo"
           }
          ],
          "scattergl": [
           {
            "marker": {
             "colorbar": {
              "outlinewidth": 0,
              "ticks": ""
             }
            },
            "type": "scattergl"
           }
          ],
          "scattermapbox": [
           {
            "marker": {
             "colorbar": {
              "outlinewidth": 0,
              "ticks": ""
             }
            },
            "type": "scattermapbox"
           }
          ],
          "scatterpolar": [
           {
            "marker": {
             "colorbar": {
              "outlinewidth": 0,
              "ticks": ""
             }
            },
            "type": "scatterpolar"
           }
          ],
          "scatterpolargl": [
           {
            "marker": {
             "colorbar": {
              "outlinewidth": 0,
              "ticks": ""
             }
            },
            "type": "scatterpolargl"
           }
          ],
          "scatterternary": [
           {
            "marker": {
             "colorbar": {
              "outlinewidth": 0,
              "ticks": ""
             }
            },
            "type": "scatterternary"
           }
          ],
          "surface": [
           {
            "colorbar": {
             "outlinewidth": 0,
             "ticks": ""
            },
            "colorscale": [
             [
              0,
              "#0d0887"
             ],
             [
              0.1111111111111111,
              "#46039f"
             ],
             [
              0.2222222222222222,
              "#7201a8"
             ],
             [
              0.3333333333333333,
              "#9c179e"
             ],
             [
              0.4444444444444444,
              "#bd3786"
             ],
             [
              0.5555555555555556,
              "#d8576b"
             ],
             [
              0.6666666666666666,
              "#ed7953"
             ],
             [
              0.7777777777777778,
              "#fb9f3a"
             ],
             [
              0.8888888888888888,
              "#fdca26"
             ],
             [
              1,
              "#f0f921"
             ]
            ],
            "type": "surface"
           }
          ],
          "table": [
           {
            "cells": {
             "fill": {
              "color": "#EBF0F8"
             },
             "line": {
              "color": "white"
             }
            },
            "header": {
             "fill": {
              "color": "#C8D4E3"
             },
             "line": {
              "color": "white"
             }
            },
            "type": "table"
           }
          ]
         },
         "layout": {
          "annotationdefaults": {
           "arrowcolor": "#2a3f5f",
           "arrowhead": 0,
           "arrowwidth": 1
          },
          "autotypenumbers": "strict",
          "coloraxis": {
           "colorbar": {
            "outlinewidth": 0,
            "ticks": ""
           }
          },
          "colorscale": {
           "diverging": [
            [
             0,
             "#8e0152"
            ],
            [
             0.1,
             "#c51b7d"
            ],
            [
             0.2,
             "#de77ae"
            ],
            [
             0.3,
             "#f1b6da"
            ],
            [
             0.4,
             "#fde0ef"
            ],
            [
             0.5,
             "#f7f7f7"
            ],
            [
             0.6,
             "#e6f5d0"
            ],
            [
             0.7,
             "#b8e186"
            ],
            [
             0.8,
             "#7fbc41"
            ],
            [
             0.9,
             "#4d9221"
            ],
            [
             1,
             "#276419"
            ]
           ],
           "sequential": [
            [
             0,
             "#0d0887"
            ],
            [
             0.1111111111111111,
             "#46039f"
            ],
            [
             0.2222222222222222,
             "#7201a8"
            ],
            [
             0.3333333333333333,
             "#9c179e"
            ],
            [
             0.4444444444444444,
             "#bd3786"
            ],
            [
             0.5555555555555556,
             "#d8576b"
            ],
            [
             0.6666666666666666,
             "#ed7953"
            ],
            [
             0.7777777777777778,
             "#fb9f3a"
            ],
            [
             0.8888888888888888,
             "#fdca26"
            ],
            [
             1,
             "#f0f921"
            ]
           ],
           "sequentialminus": [
            [
             0,
             "#0d0887"
            ],
            [
             0.1111111111111111,
             "#46039f"
            ],
            [
             0.2222222222222222,
             "#7201a8"
            ],
            [
             0.3333333333333333,
             "#9c179e"
            ],
            [
             0.4444444444444444,
             "#bd3786"
            ],
            [
             0.5555555555555556,
             "#d8576b"
            ],
            [
             0.6666666666666666,
             "#ed7953"
            ],
            [
             0.7777777777777778,
             "#fb9f3a"
            ],
            [
             0.8888888888888888,
             "#fdca26"
            ],
            [
             1,
             "#f0f921"
            ]
           ]
          },
          "colorway": [
           "#636efa",
           "#EF553B",
           "#00cc96",
           "#ab63fa",
           "#FFA15A",
           "#19d3f3",
           "#FF6692",
           "#B6E880",
           "#FF97FF",
           "#FECB52"
          ],
          "font": {
           "color": "#2a3f5f"
          },
          "geo": {
           "bgcolor": "white",
           "lakecolor": "white",
           "landcolor": "white",
           "showlakes": true,
           "showland": true,
           "subunitcolor": "#C8D4E3"
          },
          "hoverlabel": {
           "align": "left"
          },
          "hovermode": "closest",
          "mapbox": {
           "style": "light"
          },
          "paper_bgcolor": "white",
          "plot_bgcolor": "white",
          "polar": {
           "angularaxis": {
            "gridcolor": "#EBF0F8",
            "linecolor": "#EBF0F8",
            "ticks": ""
           },
           "bgcolor": "white",
           "radialaxis": {
            "gridcolor": "#EBF0F8",
            "linecolor": "#EBF0F8",
            "ticks": ""
           }
          },
          "scene": {
           "xaxis": {
            "backgroundcolor": "white",
            "gridcolor": "#DFE8F3",
            "gridwidth": 2,
            "linecolor": "#EBF0F8",
            "showbackground": true,
            "ticks": "",
            "zerolinecolor": "#EBF0F8"
           },
           "yaxis": {
            "backgroundcolor": "white",
            "gridcolor": "#DFE8F3",
            "gridwidth": 2,
            "linecolor": "#EBF0F8",
            "showbackground": true,
            "ticks": "",
            "zerolinecolor": "#EBF0F8"
           },
           "zaxis": {
            "backgroundcolor": "white",
            "gridcolor": "#DFE8F3",
            "gridwidth": 2,
            "linecolor": "#EBF0F8",
            "showbackground": true,
            "ticks": "",
            "zerolinecolor": "#EBF0F8"
           }
          },
          "shapedefaults": {
           "line": {
            "color": "#2a3f5f"
           }
          },
          "ternary": {
           "aaxis": {
            "gridcolor": "#DFE8F3",
            "linecolor": "#A2B1C6",
            "ticks": ""
           },
           "baxis": {
            "gridcolor": "#DFE8F3",
            "linecolor": "#A2B1C6",
            "ticks": ""
           },
           "bgcolor": "white",
           "caxis": {
            "gridcolor": "#DFE8F3",
            "linecolor": "#A2B1C6",
            "ticks": ""
           }
          },
          "title": {
           "x": 0.05
          },
          "xaxis": {
           "automargin": true,
           "gridcolor": "#EBF0F8",
           "linecolor": "#EBF0F8",
           "ticks": "",
           "title": {
            "standoff": 15
           },
           "zerolinecolor": "#EBF0F8",
           "zerolinewidth": 2
          },
          "yaxis": {
           "automargin": true,
           "gridcolor": "#EBF0F8",
           "linecolor": "#EBF0F8",
           "ticks": "",
           "title": {
            "standoff": 15
           },
           "zerolinecolor": "#EBF0F8",
           "zerolinewidth": 2
          }
         }
        },
        "title": {
         "text": "Slope Distribution"
        }
       }
      }
     },
     "metadata": {},
     "output_type": "display_data"
    },
    {
     "name": "stdout",
     "output_type": "stream",
     "text": [
      "Highest percentage entry for Slope is 100% in the bin range 0-2\n"
     ]
    }
   ],
   "source": [
    "#Slope Graph\n",
    "def slope_stats():\n",
    "    with open(\"global_inputs.yml\", 'r') as f:\n",
    "        global_inputs = yaml.safe_load(f)\n",
    "    city_inputs = global_inputs.get('city_inputs')\n",
    "    if menu['elevation']:  \n",
    "        slope_stats_file = Path(output_folder / f\"{city}_slope.csv\") \n",
    "        slope_stats_file = Path(output_folder / f\"{city}_slope.csv\") \n",
    "        if not slope_stats_file.exists():  \n",
    "            print(\"Elevation stats file does not exist.\")\n",
    "            return  \n",
    "        slope = pd.read_csv(slope_stats_file)\n",
    "        \n",
    "        # Calculate the total count\n",
    "        total_count = slope['Count'].sum()\n",
    "\n",
    "        # Calculate percentage\n",
    "        slope['percent'] = slope['Count'] / total_count * 100\n",
    "\n",
    "        # Convert to numeric\n",
    "        slope['percent'] = pd.to_numeric(slope['percent'], errors='coerce')\n",
    "\n",
    "        # Drop rows with NaN values in 'legend'\n",
    "        slope = slope.dropna(subset=['Bin']).copy()\n",
    "\n",
    "        # Preprocess the data\n",
    "        slope['Percent'] = (slope['percent']/100).apply(lambda x: f\"{x:.0%}\")\n",
    "        slope['Slope'] = slope['Bin'].str.extract(r\"(\\d+)\").astype(float)\n",
    "        slope['Bin'] = pd.Categorical(slope['Bin'], categories=slope['Bin'].unique())\n",
    "        \n",
    "        # Define colors\n",
    "        slope_colors = {\n",
    "            \"0-2\": \"#ffffd4\",\n",
    "            \"2-5\": \"#fed98e\",\n",
    "            \"5-10\": \"#fe9929\",\n",
    "            \"10-20\": \"#d95f0e\",\n",
    "            \"20+\": \"#993404\"\n",
    "        }\n",
    "\n",
    "        # Plot the donut chart\n",
    "        plt.figure(figsize=(8, 5))\n",
    "        plt.pie(slope['percent'], labels=None, colors=slope_colors.values(), startangle=90)\n",
    "        wedges, texts, autotexts = plt.pie(slope['percent'], labels=None, colors=slope_colors.values(), startangle=90, autopct='%1.0f%%')\n",
    "\n",
    "        plt.title(\"Slope Distribution\")\n",
    "        plt.legend(slope['Slope'], loc=\"center left\", bbox_to_anchor=(1, 0, 0.5, 1))\n",
    "        # Add percentage labels\n",
    "        for autotext, pct in zip(autotexts, slope['percent']):\n",
    "            if pct < 3:\n",
    "                autotext.set_text('')  # Hide labels for slices with percentage < 5%\n",
    "            else:\n",
    "                autotext.set_color('black')\n",
    "                autotext.set_size(10)\n",
    "                autotext.set_text(f\"{pct:.0f}%\")  # Display only percentage\n",
    "        # Save the plot\n",
    "        render_path = os.path.join(render_folder, f\"{city}_slope.png\")\n",
    "        plt.savefig(render_path, bbox_inches='tight')\n",
    "        plt.close()\n",
    "\n",
    "        # Plotly\n",
    "        fig = px.pie(slope, values='percent', names='Slope', hole=0.3,\n",
    "                    color_discrete_sequence=list(slope_colors.values()), \n",
    "                    title=\"Slope Distribution\", \n",
    "                    labels={'percent': 'Percentage', 'Slope': 'Slope Range'},\n",
    "                    template='plotly_white')\n",
    "\n",
    "        # Update layout\n",
    "        fig.update_layout(legend=dict(orientation=\"h\", x=0.5, y=1.1),\n",
    "                        margin=dict(l=0, r=0, t=50, b=0))\n",
    "        fig.show()\n",
    "        fig.write_html(render_path.replace('.png', '.html'),full_html=False, include_plotlyjs='cdn')\n",
    "\n",
    "        # Print the highest percentage value and consequent class\n",
    "        max_percent_index = slope['percent'].idxmax()\n",
    "        highest_percent_row = slope.loc[max_percent_index]\n",
    "        print(f\"Highest percentage entry for Slope is {highest_percent_row['Percent']} in the bin range {highest_percent_row['Bin']}\")\n"
   ]
  },
  {
   "cell_type": "code",
   "execution_count": 25,
   "id": "ab2851a1-315a-445d-8982-bec89bbe1bc2",
   "metadata": {},
   "outputs": [],
   "source": [
    "#Cyclone Graph"
   ]
  },
  {
   "cell_type": "code",
   "execution_count": 26,
   "id": "505a5d75",
   "metadata": {},
   "outputs": [],
   "source": [
    "#earthquake timeline\n"
   ]
  },
  {
   "cell_type": "code",
   "execution_count": 20,
   "id": "e56dba45",
   "metadata": {},
   "outputs": [],
   "outputs": [],
   "source": [
    "\n",
    "\n",
    "def flood_timeline():\n",
    "    with open(\"global_inputs.yml\", 'r') as f:\n",
    "        global_inputs = yaml.safe_load(f)\n",
    "\n",
    "    city_inputs = global_inputs.get('city_inputs')\n",
    "\n",
    "    if menu['flood']:  \n",
    "        flood_archive_path = global_inputs.get('flood_timeline_source')\n",
    "        flood_archive = gpd.read_file(flood_archive_path)\n",
    "        flood_archive = flood_archive[flood_archive.is_valid]\n",
    "        aoi = features.to_crs(flood_archive.crs)\n",
    "        flood_archive = flood_archive[flood_archive.intersects(aoi.unary_union)]\n",
    "        fig, ax = plt.subplots()\n",
    "        flood_archive.plot(column='DEAD', ax=ax, legend=True)\n",
    "\n",
    "        floods = flood_archive[['BEGAN', 'ENDED', 'DEAD', 'DISPLACED', 'MAINCAUSE', 'SEVERITY']]\n",
    "\n",
    "        # Tally of flood events\n",
    "        print(\"Tally of flood events\")\n",
    "        print(floods.agg({'DEAD': 'sum', 'DISPLACED': 'sum', 'BEGAN': 'count'}))\n",
    "\n",
    "        duration = (pd.to_datetime(floods['ENDED']) - pd.to_datetime(floods['BEGAN'])).dt.days\n",
    "\n",
    "        # Prepare text for plotting\n",
    "        flood_text = floods.copy()\n",
    "        flood_text['severity'] = np.select([flood_text['SEVERITY'] == 1, flood_text['SEVERITY'] == 1.5, flood_text['SEVERITY'] == 2],\n",
    "                                        ['Large event', 'Very large event', 'Extreme event'])\n",
    "        flood_text['duration'] = duration\n",
    "        flood_text['text'] = flood_text.apply(lambda row: f\"{row['BEGAN']}, {row['severity'].lower()} {row['MAINCAUSE']}, \"\n",
    "                                                        f\"{row['duration']} days, {row['DEAD']:,} fatalities, {row['DISPLACED']:,} displaced\",\n",
    "                                            axis=1)\n",
    "\n",
    "        # Calculate coordinates for text plotting\n",
    "        flood_text['node_x'] = pd.to_datetime(flood_text['BEGAN']) + pd.to_timedelta(1460 * (2 * (flood_text.index % 2) - 1), unit='D')\n",
    "        flood_text['node_y'] = 0\n",
    "\n",
    "        # Prepare lines for text plotting\n",
    "        flood_lines = pd.concat([flood_text[['BEGAN', 'node_x', 'node_y']],\n",
    "                                pd.DataFrame({'BEGAN': flood_text['BEGAN'], 'node_x': flood_text['BEGAN'], 'node_y': 0}),\n",
    "                                pd.DataFrame({'BEGAN': flood_text['BEGAN'], 'node_x': flood_text['BEGAN'], 'node_y': 0})])\n",
    "\n",
    "        # Plotting\n",
    "        fig, ax = plt.subplots(figsize=(20, 5.833))\n",
    "        ax.plot(flood_lines['node_x'], flood_lines['node_y'], color='blue', linestyle='-')\n",
    "        ax.scatter(flood_text['node_x'], flood_text['node_y'], color='red')\n",
    "        for idx, row in flood_text.iterrows():\n",
    "            ax.text(row['node_x'] + pd.to_timedelta(30, unit='D'), row['node_y'] - 50, row['text'], rotation=30, ha='center')\n",
    "        ax.set_xlim(pd.Timestamp('1984-01-01'), pd.Timestamp('2020-12-31'))\n",
    "        ax.set_ylim(-1800, 1800)\n",
    "        ax.set_yticks([1825, 3650])\n",
    "        ax.set_yticklabels([1825, 3650])\n",
    "        plt.show()\n",
    "\n",
    "\n",
    "\n",
    "\n",
    "#workshop this one \n"
   ]
  },
  {
   "cell_type": "code",
   "execution_count": 78,
   "id": "5e8fe622-51c5-4159-906f-74405ebe4101",
   "metadata": {},
   "outputs": [
    {
     "name": "stdout",
     "output_type": "stream",
     "text": [
      "Seasonality is low to moderate, making solar energy available in only some of the months\n"
     ]
    },
    {
     "data": {
      "application/vnd.plotly.v1+json": {
       "config": {
        "plotlyServerURL": "https://plot.ly"
       },
       "data": [
        {
         "hovertemplate": "month=%{x}<br>daily=%{y}<extra></extra>",
         "legendgroup": "",
         "line": {
          "color": "#636efa",
          "dash": "solid"
         },
         "marker": {
          "symbol": "circle"
         },
         "mode": "lines+markers",
         "name": "",
         "orientation": "v",
         "showlegend": false,
         "type": "scatter",
         "x": [
          1,
          2,
          3,
          4,
          5,
          6,
          7,
          8,
          9,
          10,
          11,
          12
         ],
         "xaxis": "x",
         "y": [
          1.8351820707321167,
          1.6654796600341797,
          1.6412097215652466,
          1.4852174520492554,
          1.5022960901260376,
          1.3668335676193237,
          1.3737224340438843,
          1.4856412410736084,
          1.5706064701080322,
          1.64461088180542,
          1.592456579208374,
          1.7797662019729614
         ],
         "yaxis": "y"
        }
       ],
       "layout": {
        "annotations": [
         {
          "font": {
           "color": "darkgrey"
          },
          "showarrow": false,
          "text": "Excellent Conditions",
          "x": 1,
          "xshift": 5,
          "y": 4.6
         },
         {
          "font": {
           "color": "darkgrey"
          },
          "showarrow": false,
          "text": "Favorable Conditions",
          "x": 1,
          "xshift": 5,
          "y": 3.6
         }
        ],
        "legend": {
         "tracegroupgap": 0
        },
        "margin": {
         "t": 60
        },
        "plot_bgcolor": "white",
        "shapes": [
         {
          "line": {
           "color": "black",
           "dash": "dash",
           "width": 1
          },
          "type": "line",
          "x0": 1,
          "x1": 12,
          "y0": 3.5,
          "y1": 3.5
         },
         {
          "line": {
           "color": "black",
           "dash": "dash",
           "width": 1
          },
          "type": "line",
          "x0": 1,
          "x1": 12,
          "y0": 4.5,
          "y1": 4.5
         }
        ],
        "template": {
         "data": {
          "bar": [
           {
            "error_x": {
             "color": "#2a3f5f"
            },
            "error_y": {
             "color": "#2a3f5f"
            },
            "marker": {
             "line": {
              "color": "#E5ECF6",
              "width": 0.5
             },
             "pattern": {
              "fillmode": "overlay",
              "size": 10,
              "solidity": 0.2
             }
            },
            "type": "bar"
           }
          ],
          "barpolar": [
           {
            "marker": {
             "line": {
              "color": "#E5ECF6",
              "width": 0.5
             },
             "pattern": {
              "fillmode": "overlay",
              "size": 10,
              "solidity": 0.2
             }
            },
            "type": "barpolar"
           }
          ],
          "carpet": [
           {
            "aaxis": {
             "endlinecolor": "#2a3f5f",
             "gridcolor": "white",
             "linecolor": "white",
             "minorgridcolor": "white",
             "startlinecolor": "#2a3f5f"
            },
            "baxis": {
             "endlinecolor": "#2a3f5f",
             "gridcolor": "white",
             "linecolor": "white",
             "minorgridcolor": "white",
             "startlinecolor": "#2a3f5f"
            },
            "type": "carpet"
           }
          ],
          "choropleth": [
           {
            "colorbar": {
             "outlinewidth": 0,
             "ticks": ""
            },
            "type": "choropleth"
           }
          ],
          "contour": [
           {
            "colorbar": {
             "outlinewidth": 0,
             "ticks": ""
            },
            "colorscale": [
             [
              0,
              "#0d0887"
             ],
             [
              0.1111111111111111,
              "#46039f"
             ],
             [
              0.2222222222222222,
              "#7201a8"
             ],
             [
              0.3333333333333333,
              "#9c179e"
             ],
             [
              0.4444444444444444,
              "#bd3786"
             ],
             [
              0.5555555555555556,
              "#d8576b"
             ],
             [
              0.6666666666666666,
              "#ed7953"
             ],
             [
              0.7777777777777778,
              "#fb9f3a"
             ],
             [
              0.8888888888888888,
              "#fdca26"
             ],
             [
              1,
              "#f0f921"
             ]
            ],
            "type": "contour"
           }
          ],
          "contourcarpet": [
           {
            "colorbar": {
             "outlinewidth": 0,
             "ticks": ""
            },
            "type": "contourcarpet"
           }
          ],
          "heatmap": [
           {
            "colorbar": {
             "outlinewidth": 0,
             "ticks": ""
            },
            "colorscale": [
             [
              0,
              "#0d0887"
             ],
             [
              0.1111111111111111,
              "#46039f"
             ],
             [
              0.2222222222222222,
              "#7201a8"
             ],
             [
              0.3333333333333333,
              "#9c179e"
             ],
             [
              0.4444444444444444,
              "#bd3786"
             ],
             [
              0.5555555555555556,
              "#d8576b"
             ],
             [
              0.6666666666666666,
              "#ed7953"
             ],
             [
              0.7777777777777778,
              "#fb9f3a"
             ],
             [
              0.8888888888888888,
              "#fdca26"
             ],
             [
              1,
              "#f0f921"
             ]
            ],
            "type": "heatmap"
           }
          ],
          "heatmapgl": [
           {
            "colorbar": {
             "outlinewidth": 0,
             "ticks": ""
            },
            "colorscale": [
             [
              0,
              "#0d0887"
             ],
             [
              0.1111111111111111,
              "#46039f"
             ],
             [
              0.2222222222222222,
              "#7201a8"
             ],
             [
              0.3333333333333333,
              "#9c179e"
             ],
             [
              0.4444444444444444,
              "#bd3786"
             ],
             [
              0.5555555555555556,
              "#d8576b"
             ],
             [
              0.6666666666666666,
              "#ed7953"
             ],
             [
              0.7777777777777778,
              "#fb9f3a"
             ],
             [
              0.8888888888888888,
              "#fdca26"
             ],
             [
              1,
              "#f0f921"
             ]
            ],
            "type": "heatmapgl"
           }
          ],
          "histogram": [
           {
            "marker": {
             "pattern": {
              "fillmode": "overlay",
              "size": 10,
              "solidity": 0.2
             }
            },
            "type": "histogram"
           }
          ],
          "histogram2d": [
           {
            "colorbar": {
             "outlinewidth": 0,
             "ticks": ""
            },
            "colorscale": [
             [
              0,
              "#0d0887"
             ],
             [
              0.1111111111111111,
              "#46039f"
             ],
             [
              0.2222222222222222,
              "#7201a8"
             ],
             [
              0.3333333333333333,
              "#9c179e"
             ],
             [
              0.4444444444444444,
              "#bd3786"
             ],
             [
              0.5555555555555556,
              "#d8576b"
             ],
             [
              0.6666666666666666,
              "#ed7953"
             ],
             [
              0.7777777777777778,
              "#fb9f3a"
             ],
             [
              0.8888888888888888,
              "#fdca26"
             ],
             [
              1,
              "#f0f921"
             ]
            ],
            "type": "histogram2d"
           }
          ],
          "histogram2dcontour": [
           {
            "colorbar": {
             "outlinewidth": 0,
             "ticks": ""
            },
            "colorscale": [
             [
              0,
              "#0d0887"
             ],
             [
              0.1111111111111111,
              "#46039f"
             ],
             [
              0.2222222222222222,
              "#7201a8"
             ],
             [
              0.3333333333333333,
              "#9c179e"
             ],
             [
              0.4444444444444444,
              "#bd3786"
             ],
             [
              0.5555555555555556,
              "#d8576b"
             ],
             [
              0.6666666666666666,
              "#ed7953"
             ],
             [
              0.7777777777777778,
              "#fb9f3a"
             ],
             [
              0.8888888888888888,
              "#fdca26"
             ],
             [
              1,
              "#f0f921"
             ]
            ],
            "type": "histogram2dcontour"
           }
          ],
          "mesh3d": [
           {
            "colorbar": {
             "outlinewidth": 0,
             "ticks": ""
            },
            "type": "mesh3d"
           }
          ],
          "parcoords": [
           {
            "line": {
             "colorbar": {
              "outlinewidth": 0,
              "ticks": ""
             }
            },
            "type": "parcoords"
           }
          ],
          "pie": [
           {
            "automargin": true,
            "type": "pie"
           }
          ],
          "scatter": [
           {
            "fillpattern": {
             "fillmode": "overlay",
             "size": 10,
             "solidity": 0.2
            },
            "type": "scatter"
           }
          ],
          "scatter3d": [
           {
            "line": {
             "colorbar": {
              "outlinewidth": 0,
              "ticks": ""
             }
            },
            "marker": {
             "colorbar": {
              "outlinewidth": 0,
              "ticks": ""
             }
            },
            "type": "scatter3d"
           }
          ],
          "scattercarpet": [
           {
            "marker": {
             "colorbar": {
              "outlinewidth": 0,
              "ticks": ""
             }
            },
            "type": "scattercarpet"
           }
          ],
          "scattergeo": [
           {
            "marker": {
             "colorbar": {
              "outlinewidth": 0,
              "ticks": ""
             }
            },
            "type": "scattergeo"
           }
          ],
          "scattergl": [
           {
            "marker": {
             "colorbar": {
              "outlinewidth": 0,
              "ticks": ""
             }
            },
            "type": "scattergl"
           }
          ],
          "scattermapbox": [
           {
            "marker": {
             "colorbar": {
              "outlinewidth": 0,
              "ticks": ""
             }
            },
            "type": "scattermapbox"
           }
          ],
          "scatterpolar": [
           {
            "marker": {
             "colorbar": {
              "outlinewidth": 0,
              "ticks": ""
             }
            },
            "type": "scatterpolar"
           }
          ],
          "scatterpolargl": [
           {
            "marker": {
             "colorbar": {
              "outlinewidth": 0,
              "ticks": ""
             }
            },
            "type": "scatterpolargl"
           }
          ],
          "scatterternary": [
           {
            "marker": {
             "colorbar": {
              "outlinewidth": 0,
              "ticks": ""
             }
            },
            "type": "scatterternary"
           }
          ],
          "surface": [
           {
            "colorbar": {
             "outlinewidth": 0,
             "ticks": ""
            },
            "colorscale": [
             [
              0,
              "#0d0887"
             ],
             [
              0.1111111111111111,
              "#46039f"
             ],
             [
              0.2222222222222222,
              "#7201a8"
             ],
             [
              0.3333333333333333,
              "#9c179e"
             ],
             [
              0.4444444444444444,
              "#bd3786"
             ],
             [
              0.5555555555555556,
              "#d8576b"
             ],
             [
              0.6666666666666666,
              "#ed7953"
             ],
             [
              0.7777777777777778,
              "#fb9f3a"
             ],
             [
              0.8888888888888888,
              "#fdca26"
             ],
             [
              1,
              "#f0f921"
             ]
            ],
            "type": "surface"
           }
          ],
          "table": [
           {
            "cells": {
             "fill": {
              "color": "#EBF0F8"
             },
             "line": {
              "color": "white"
             }
            },
            "header": {
             "fill": {
              "color": "#C8D4E3"
             },
             "line": {
              "color": "white"
             }
            },
            "type": "table"
           }
          ]
         },
         "layout": {
          "annotationdefaults": {
           "arrowcolor": "#2a3f5f",
           "arrowhead": 0,
           "arrowwidth": 1
          },
          "autotypenumbers": "strict",
          "coloraxis": {
           "colorbar": {
            "outlinewidth": 0,
            "ticks": ""
           }
          },
          "colorscale": {
           "diverging": [
            [
             0,
             "#8e0152"
            ],
            [
             0.1,
             "#c51b7d"
            ],
            [
             0.2,
             "#de77ae"
            ],
            [
             0.3,
             "#f1b6da"
            ],
            [
             0.4,
             "#fde0ef"
            ],
            [
             0.5,
             "#f7f7f7"
            ],
            [
             0.6,
             "#e6f5d0"
            ],
            [
             0.7,
             "#b8e186"
            ],
            [
             0.8,
             "#7fbc41"
            ],
            [
             0.9,
             "#4d9221"
            ],
            [
             1,
             "#276419"
            ]
           ],
           "sequential": [
            [
             0,
             "#0d0887"
            ],
            [
             0.1111111111111111,
             "#46039f"
            ],
            [
             0.2222222222222222,
             "#7201a8"
            ],
            [
             0.3333333333333333,
             "#9c179e"
            ],
            [
             0.4444444444444444,
             "#bd3786"
            ],
            [
             0.5555555555555556,
             "#d8576b"
            ],
            [
             0.6666666666666666,
             "#ed7953"
            ],
            [
             0.7777777777777778,
             "#fb9f3a"
            ],
            [
             0.8888888888888888,
             "#fdca26"
            ],
            [
             1,
             "#f0f921"
            ]
           ],
           "sequentialminus": [
            [
             0,
             "#0d0887"
            ],
            [
             0.1111111111111111,
             "#46039f"
            ],
            [
             0.2222222222222222,
             "#7201a8"
            ],
            [
             0.3333333333333333,
             "#9c179e"
            ],
            [
             0.4444444444444444,
             "#bd3786"
            ],
            [
             0.5555555555555556,
             "#d8576b"
            ],
            [
             0.6666666666666666,
             "#ed7953"
            ],
            [
             0.7777777777777778,
             "#fb9f3a"
            ],
            [
             0.8888888888888888,
             "#fdca26"
            ],
            [
             1,
             "#f0f921"
            ]
           ]
          },
          "colorway": [
           "#636efa",
           "#EF553B",
           "#00cc96",
           "#ab63fa",
           "#FFA15A",
           "#19d3f3",
           "#FF6692",
           "#B6E880",
           "#FF97FF",
           "#FECB52"
          ],
          "font": {
           "color": "#2a3f5f"
          },
          "geo": {
           "bgcolor": "white",
           "lakecolor": "white",
           "landcolor": "#E5ECF6",
           "showlakes": true,
           "showland": true,
           "subunitcolor": "white"
          },
          "hoverlabel": {
           "align": "left"
          },
          "hovermode": "closest",
          "mapbox": {
           "style": "light"
          },
          "paper_bgcolor": "white",
          "plot_bgcolor": "#E5ECF6",
          "polar": {
           "angularaxis": {
            "gridcolor": "white",
            "linecolor": "white",
            "ticks": ""
           },
           "bgcolor": "#E5ECF6",
           "radialaxis": {
            "gridcolor": "white",
            "linecolor": "white",
            "ticks": ""
           }
          },
          "scene": {
           "xaxis": {
            "backgroundcolor": "#E5ECF6",
            "gridcolor": "white",
            "gridwidth": 2,
            "linecolor": "white",
            "showbackground": true,
            "ticks": "",
            "zerolinecolor": "white"
           },
           "yaxis": {
            "backgroundcolor": "#E5ECF6",
            "gridcolor": "white",
            "gridwidth": 2,
            "linecolor": "white",
            "showbackground": true,
            "ticks": "",
            "zerolinecolor": "white"
           },
           "zaxis": {
            "backgroundcolor": "#E5ECF6",
            "gridcolor": "white",
            "gridwidth": 2,
            "linecolor": "white",
            "showbackground": true,
            "ticks": "",
            "zerolinecolor": "white"
           }
          },
          "shapedefaults": {
           "line": {
            "color": "#2a3f5f"
           }
          },
          "ternary": {
           "aaxis": {
            "gridcolor": "white",
            "linecolor": "white",
            "ticks": ""
           },
           "baxis": {
            "gridcolor": "white",
            "linecolor": "white",
            "ticks": ""
           },
           "bgcolor": "#E5ECF6",
           "caxis": {
            "gridcolor": "white",
            "linecolor": "white",
            "ticks": ""
           }
          },
          "title": {
           "x": 0.05
          },
          "xaxis": {
           "automargin": true,
           "gridcolor": "white",
           "linecolor": "white",
           "ticks": "",
           "title": {
            "standoff": 15
           },
           "zerolinecolor": "white",
           "zerolinewidth": 2
          },
          "yaxis": {
           "automargin": true,
           "gridcolor": "white",
           "linecolor": "white",
           "ticks": "",
           "title": {
            "standoff": 15
           },
           "zerolinecolor": "white",
           "zerolinewidth": 2
          }
         }
        },
        "title": {
         "text": "Seasonal availability of solar energy"
        },
        "xaxis": {
         "anchor": "y",
         "domain": [
          0,
          1
         ],
         "showgrid": true,
         "ticktext": [
          "Jan",
          "Feb",
          "Mar",
          "Apr",
          "May",
          "Jun",
          "Jul",
          "Aug",
          "Sep",
          "Oct",
          "Nov",
          "Dec"
         ],
         "tickvals": [
          1,
          2,
          3,
          4,
          5,
          6,
          7,
          8,
          9,
          10,
          11,
          12
         ],
         "title": {
          "text": "Month"
         },
         "zeroline": false
        },
        "yaxis": {
         "anchor": "x",
         "domain": [
          0,
          1
         ],
         "range": [
          0,
          5
         ],
         "title": {
          "text": "Daily PV energy yield (kWh/kWp)"
         }
        }
       }
      }
     },
     "metadata": {},
     "output_type": "display_data"
    }
   ],
   "source": [
    "def extract_monthly_stats():\n",
    "    \n",
    "    with open(\"global_inputs.yml\", 'r') as f:\n",
    "        global_inputs = yaml.safe_load(f)\n",
    "\n",
    "    pv_directory = global_inputs.get('solar_graph_source')\n",
    "\n",
    "    \n",
    "    pv_files = [f for f in os.listdir(pv_directory) if f.endswith('.tif')]\n",
    "\n",
    "    \n",
    "    monthly_pv = []\n",
    "\n",
    "    aoi = aoi_file.geometry\n",
    "\n",
    "    for f in pv_files:\n",
    "        pattern = re.compile(r'PVOUT_(\\d{2})')\n",
    "        match = pattern.search(f)\n",
    "        if match:\n",
    "            m = int(match.group(1))  # Extract the month\n",
    "\n",
    "            file_path = os.path.join(pv_directory, f)\n",
    "\n",
    "            with rasterio.open(file_path) as src:\n",
    "                \n",
    "                raster_data, raster_transform = mask(src, aoi.geometry, crop=True)\n",
    "\n",
    "                stats = {\n",
    "                    'month': m,\n",
    "                    'max': np.nanmax(raster_data),\n",
    "                    'min': np.nanmin(raster_data),\n",
    "                    'mean': np.nanmean(raster_data),\n",
    "                    'sum': np.nansum(raster_data)\n",
    "                }\n",
    "\n",
    "                \n",
    "                monthly_pv.append(stats)\n",
    "        else:\n",
    "            print(f\"No match found for filename: {f}\")\n",
    "\n",
    "    monthly_pv_df = pd.DataFrame(monthly_pv)\n",
    "\n",
    "    # Sort by 'month'\n",
    "    monthly_pv_df.sort_values(by='month', inplace=True)\n",
    "\n",
    "    \n",
    "    # Calculate daily PV energy yield\n",
    "    monthly_pv_df['daily'] = monthly_pv_df['mean']/30\n",
    "\n",
    "    \n",
    "    highest_value = monthly_pv_df['daily'].max()\n",
    "    lowest_value = monthly_pv_df['daily'].min()\n",
    "\n",
    "    \n",
    "    ratio = highest_value / lowest_value\n",
    "\n",
    "    # Check if the ratio is greater than 2.5\n",
    "    if ratio > 2.5:\n",
    "        print(\"Seasonality is high, making solar energy available throughout the year\")\n",
    "    else:\n",
    "        print(\"Seasonality is low to moderate, making solar energy available in only some of the months\")\n",
    "\n",
    "    # Plot\n",
    "    plt.figure(figsize=(10, 6))\n",
    "    plt.plot(monthly_pv_df['month'], monthly_pv_df['daily'], marker='o', linestyle='-')\n",
    "    plt.text(1, 4.6, 'Excellent Conditions', color='darkgrey', verticalalignment='bottom', horizontalalignment='left')\n",
    "    plt.text(1, 3.6, 'Favorable Conditions', color='darkgrey', verticalalignment='bottom', horizontalalignment='left')\n",
    "    plt.xlabel('Month')\n",
    "    plt.ylabel('Daily PV energy yield (kWh/kWp)')\n",
    "    plt.title('Seasonal availability of solar energy')\n",
    "    plt.xticks(np.arange(1, 13), ['Jan', 'Feb', 'Mar', 'Apr', 'May', 'Jun', 'Jul', 'Aug', 'Sep', 'Oct', 'Nov', 'Dec'])\n",
    "    plt.grid(True)\n",
    "    plt.axhline(y=3.5, linestyle='--', color='black')\n",
    "    plt.axhline(y=4.5, linestyle='--', color='black')\n",
    "    plt.tight_layout()\n",
    "    # Save the plot\n",
    "    render_path = os.path.join(render_folder, f\"{city}_PV_graph.png\")\n",
    "    plt.savefig(render_path, bbox_inches='tight')\n",
    "    plt.close()\n",
    "    #Plotly\n",
    "    fig = px.line(monthly_pv_df, x='month', y='daily', markers=True)\n",
    "    fig.add_annotation(x=1, y=4.6, text='Excellent Conditions', showarrow=False, font=dict(color='darkgrey'), xshift=5)\n",
    "    fig.add_annotation(x=1, y=3.6, text='Favorable Conditions', showarrow=False, font=dict(color='darkgrey'), xshift=5)\n",
    "    fig.update_xaxes(title='Month', tickvals=list(range(1, 13)), ticktext=['Jan', 'Feb', 'Mar', 'Apr', 'May', 'Jun', 'Jul', 'Aug', 'Sep', 'Oct', 'Nov', 'Dec'])\n",
    "    fig.update_yaxes(title='Daily PV energy yield (kWh/kWp)', range=[0, 5])\n",
    "    fig.add_shape(type=\"line\", x0=1, y0=3.5, x1=12, y1=3.5, line=dict(color=\"black\", width=1, dash='dash'))\n",
    "    fig.add_shape(type=\"line\", x0=1, y0=4.5, x1=12, y1=4.5, line=dict(color=\"black\", width=1, dash='dash'))\n",
    "    fig.update_layout(title='Seasonal availability of solar energy', xaxis=dict(showgrid=True, zeroline=False),plot_bgcolor='white')\n",
    "\n",
    "    fig.show()\n",
    "    fig.write_html(render_path.replace('.png', '.html'),full_html=False, include_plotlyjs='cdn')\n",
    "\n"
   ]
  }
 ],
 "metadata": {
  "kernelspec": {
   "display_name": "Python 3 (ipykernel)",
   "language": "python",
   "name": "python3"
  },
  "language_info": {
   "codemirror_mode": {
    "name": "ipython",
    "version": 3
   },
   "file_extension": ".py",
   "mimetype": "text/x-python",
   "name": "python",
   "nbconvert_exporter": "python",
   "pygments_lexer": "ipython3",
   "version": "3.11.4"
  }
 },
 "nbformat": 4,
 "nbformat_minor": 5
}
