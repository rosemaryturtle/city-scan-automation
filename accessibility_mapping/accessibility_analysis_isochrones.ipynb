{
 "cells": [
  {
   "cell_type": "markdown",
   "metadata": {},
   "source": [
    "# Accessibility Analysis\n",
    "\n",
    "- This analysis will measure accessibility to schools and hospitals\n",
    "- origins are derived from 100m grid blocks coming from WorldPop\n",
    "- the accessibility measure is the distance to the nearest facility in meters\n",
    "\n",
    "## Inputs:\n",
    "\n",
    "#### origins: derived from a WorldPOP raster using the 'Raster pixels to Points' tool in QGIS 3, and saved as a shapefile\n",
    "#### destinations: The combination of POIs from Overpass as points and centroids of polygons called through the GOSTNets OSMNX_POIs library.\n",
    "#### The admin AOI will be used to create a bounding box to download the road network via OSMNX\n"
   ]
  },
  {
   "cell_type": "markdown",
   "metadata": {},
   "source": [
    "### Import libraries"
   ]
  },
  {
   "cell_type": "code",
   "execution_count": 1,
   "metadata": {},
   "outputs": [],
   "source": [
    "%load_ext autoreload\n",
    "%autoreload 2"
   ]
  },
  {
   "cell_type": "code",
   "execution_count": 2,
   "metadata": {},
   "outputs": [],
   "source": [
    "import sys, os, inspect, logging, importlib\n",
    "\n",
    "import geopandas as gpd\n",
    "import pandas as pd\n",
    "import numpy as np\n",
    "import osmnx as ox\n",
    "import networkx as nx\n",
    "from shapely.ops import split, unary_union\n",
    "from shapely.geometry import box, Point\n",
    "import pickle\n",
    "import matplotlib.pyplot as plt"
   ]
  },
  {
   "cell_type": "code",
   "execution_count": 4,
   "metadata": {},
   "outputs": [],
   "source": [
    "# Get reference to GOSTNets\n",
    "\n",
    "sys.path.append(r'C:/Users/Owner/Documents/Career/World Bank/CRP/repo/GOSTnets')\n",
    "import GOSTnets as gn"
   ]
  },
  {
   "cell_type": "code",
   "execution_count": 5,
   "metadata": {},
   "outputs": [],
   "source": [
    "from GOSTnets.fetch_pois import *"
   ]
  },
  {
   "cell_type": "markdown",
   "metadata": {},
   "source": [
    "### Define folders and files"
   ]
  },
  {
   "cell_type": "code",
   "execution_count": 6,
   "metadata": {},
   "outputs": [],
   "source": [
    "inputFolder = r'input_folder'\n",
    "# define output folder\n",
    "outputFolder = r'output_folder'\n",
    "# define road graph\n",
    "roadGraph = os.path.join(inputFolder, \"OSM_Roads.pickle\")"
   ]
  },
  {
   "cell_type": "code",
   "execution_count": 7,
   "metadata": {},
   "outputs": [],
   "source": [
    "city_name = 'Funafuti'"
   ]
  },
  {
   "cell_type": "code",
   "execution_count": 8,
   "metadata": {},
   "outputs": [],
   "source": [
    "# import extent\n",
    "#extent = gpd.read_file(\"./admin/\" + city_name + \"_AOI.shp\").set_crs(epsg=4326)\n",
    "extent = gpd.read_file(\"../../../Pacific/Funafuti/AOI/funafuti.shp\").to_crs(epsg=4326)"
   ]
  },
  {
   "cell_type": "code",
   "execution_count": 9,
   "metadata": {},
   "outputs": [
    {
     "name": "stdout",
     "output_type": "stream",
     "text": [
      "EPSG:4326\n"
     ]
    }
   ],
   "source": [
    "# make sure crs is 4326\n",
    "print(extent.crs)"
   ]
  },
  {
   "cell_type": "code",
   "execution_count": 10,
   "metadata": {},
   "outputs": [],
   "source": [
    "#extent = box(*city_extent.total_bounds)"
   ]
  },
  {
   "cell_type": "code",
   "execution_count": 11,
   "metadata": {},
   "outputs": [
    {
     "data": {
      "image/svg+xml": [
       "<svg xmlns=\"http://www.w3.org/2000/svg\" xmlns:xlink=\"http://www.w3.org/1999/xlink\" width=\"100.0\" height=\"100.0\" viewBox=\"179.024762096 -8.654890904 0.1880878080000059 0.23978170800000065\" preserveAspectRatio=\"xMinYMin meet\"><g transform=\"matrix(1,0,0,-1,0,-17.0700001)\"><path fill-rule=\"evenodd\" fill=\"#66cc99\" stroke=\"#555555\" stroke-width=\"0.004795634160000013\" opacity=\"0.6\" d=\"M 179.0990801,-8.6354616 L 179.0969263,-8.6361615 L 179.0943237,-8.6372953 L 179.0911726,-8.639336 L 179.086486,-8.6426484 L 179.0834446,-8.6447285 L 179.0815201,-8.6458721 L 179.080154,-8.6460101 L 179.0793562,-8.6459214 L 179.0779801,-8.6453891 L 179.0764445,-8.6450736 L 179.0746297,-8.6444032 L 179.0734829,-8.6434765 L 179.0725356,-8.6423921 L 179.0719972,-8.641357 L 179.0717179,-8.6405782 L 179.071698,-8.6391585 L 179.0721368,-8.6370192 L 179.0733034,-8.6327209 L 179.0744901,-8.6294872 L 179.0755423,-8.6275791 L 179.0770181,-8.6249567 L 179.0770181,-8.6232018 L 179.0762404,-8.6207962 L 179.0760908,-8.6186173 L 179.0747546,-8.6149103 L 179.0733586,-8.6115089 L 179.0727503,-8.6083046 L 179.0725808,-8.6061356 L 179.0719725,-8.604844 L 179.0701776,-8.602458 L 179.0685821,-8.598248 L 179.0669867,-8.5933773 L 179.0661989,-8.5901335 L 179.0652516,-8.585243 L 179.0638855,-8.581792 L 179.062528,-8.5789088 L 179.0587345,-8.5728502 L 179.0524027,-8.5654595 L 179.0497233,-8.5617363 L 179.0481721,-8.5582361 L 179.0470016,-8.5552658 L 179.0471568,-8.5533413 L 179.0484118,-8.5510264 L 179.0497584,-8.5451715 L 179.049559,-8.5443432 L 179.0495447,-8.5425568 L 179.0491399,-8.5404413 L 179.0485416,-8.5386071 L 179.0491798,-8.5365363 L 179.0497781,-8.5356488 L 179.0492271,-8.5312335 L 179.0487784,-8.5303362 L 179.0482998,-8.528709 L 179.0474346,-8.5262407 L 179.0467577,-8.5245811 L 179.0444732,-8.5213316 L 179.0425271,-8.5182216 L 179.0401721,-8.5164085 L 179.0362094,-8.5140376 L 179.0340659,-8.5118201 L 179.033657,-8.5106067 L 179.0336429,-8.5075942 L 179.0343903,-8.5048467 L 179.0351236,-8.5032288 L 179.0362094,-8.5023502 L 179.0399486,-8.5000405 L 179.0408158,-8.4992734 L 179.0433542,-8.4971883 L 179.0461041,-8.4943291 L 179.0485014,-8.4920278 L 179.0509481,-8.4900821 L 179.053557,-8.4886316 L 179.0552634,-8.4877598 L 179.0609148,-8.4855223 L 179.0614366,-8.485069 L 179.0632302,-8.4840447 L 179.0652186,-8.4822803 L 179.066664,-8.4808437 L 179.0677499,-8.4786399 L 179.0681377,-8.4766523 L 179.072525,-8.458319 L 179.0718071,-8.456228 L 179.0717672,-8.4544723 L 179.0715558,-8.4530962 L 179.0716995,-8.4521396 L 179.0716995,-8.4515119 L 179.0720097,-8.4507586 L 179.0767871,-8.439307 L 179.0776756,-8.4382608 L 179.0807595,-8.4371413 L 179.0825943,-8.4361845 L 179.0850872,-8.4353066 L 179.0873707,-8.4347937 L 179.0899633,-8.4348134 L 179.0919078,-8.4344189 L 179.0933437,-8.4339257 L 179.0951286,-8.4336791 L 179.0966942,-8.4333141 L 179.1087551,-8.4283531 L 179.1101612,-8.4272837 L 179.1166058,-8.4251634 L 179.1229349,-8.42399 L 179.1277811,-8.42399 L 179.1334051,-8.4250356 L 179.1372342,-8.4262982 L 179.1418411,-8.4264757 L 179.1475648,-8.4258444 L 179.1521119,-8.4264363 L 179.1595733,-8.4282801 L 179.1642489,-8.4294071 L 179.1667718,-8.4307585 L 179.1689256,-8.4321099 L 179.1704713,-8.4335105 L 179.1715881,-8.4348323 L 179.1731137,-8.4379295 L 179.1737119,-8.4400875 L 179.1743183,-8.4415522 L 179.1755499,-8.4428075 L 179.1771055,-8.4441194 L 179.1786511,-8.4460921 L 179.1801468,-8.4488045 L 179.18254,-8.4531345 L 179.1850828,-8.458293 L 179.1864489,-8.4613309 L 179.1874461,-8.4644969 L 179.1882239,-8.4679194 L 179.1891811,-8.4698624 L 179.1908364,-8.4719632 L 179.1920231,-8.4744683 L 179.1933094,-8.4779893 L 179.1935786,-8.4798731 L 179.1933094,-8.482605 L 179.1935387,-8.4842521 L 179.1933293,-8.4866289 L 179.1933792,-8.4886704 L 179.1939077,-8.4912149 L 179.1951143,-8.49515 L 179.1957824,-8.4981974 L 179.1964006,-8.5008898 L 179.1982055,-8.5057419 L 179.1997012,-8.5090851 L 179.2013864,-8.5136708 L 179.2028423,-8.5165998 L 179.2037796,-8.5185031 L 179.2039691,-8.5198442 L 179.2035802,-8.5209586 L 179.2029619,-8.5223984 L 179.2021343,-8.5231774 L 179.2000403,-8.5247553 L 179.1963009,-8.5276447 L 179.1922524,-8.5308891 L 179.1883635,-8.5343405 L 179.1835472,-8.5384822 L 179.1810144,-8.5398233 L 179.1789203,-8.5402375 L 179.1770656,-8.5404544 L 179.1756596,-8.540484 L 179.1742336,-8.5408489 L 179.1725684,-8.541549 L 179.1703447,-8.5426732 L 179.1678518,-8.544882 L 179.1654187,-8.5472782 L 179.1635241,-8.5484911 L 179.1606323,-8.5500294 L 179.1574015,-8.5515283 L 179.1556864,-8.5524552 L 179.1541906,-8.5536089 L 179.1515083,-8.5560247 L 179.1492629,-8.5578969 L 179.1471757,-8.5591659 L 179.1443004,-8.5598992 L 179.1425154,-8.5604711 L 179.1416579,-8.5610134 L 179.1406208,-8.5617234 L 179.1397533,-8.5628672 L 179.1379684,-8.5648294 L 179.1370011,-8.5655098 L 179.135625,-8.5661803 L 179.1347076,-8.5662592 L 179.131756,-8.5665452 L 179.130001,-8.5673439 L 179.1288443,-8.5675706 L 179.1203373,-8.5764591 L 179.119366,-8.5782573 L 179.1188701,-8.5801031 L 179.1180159,-8.5819761 L 179.1174098,-8.5827322 L 179.1163697,-8.5831272 L 179.1150403,-8.5836312 L 179.1139175,-8.5838628 L 179.1058787,-8.5904056 L 179.1048637,-8.5920812 L 179.1028993,-8.5953448 L 179.1018024,-8.5970209 L 179.1011941,-8.5987069 L 179.1011742,-8.6008563 L 179.1015033,-8.6037648 L 179.101942,-8.6061114 L 179.1017825,-8.6074917 L 179.1011144,-8.6087931 L 179.099818,-8.6103312 L 179.0984519,-8.6124312 L 179.0979135,-8.6135847 L 179.097734,-8.6154284 L 179.0978038,-8.6171636 L 179.0978038,-8.618179 L 179.0983422,-8.6197269 L 179.0994092,-8.6217579 L 179.1019121,-8.6255733 L 179.1038566,-8.6289746 L 179.1044848,-8.6317547 L 179.1046742,-8.6331744 L 179.1045845,-8.6336574 L 179.1042554,-8.6341208 L 179.1034976,-8.634525 L 179.1009847,-8.6350672 L 179.0990801,-8.6354616 z M 179.04615977634194,-8.508650415888125 L 179.0484770271282,-8.510434453000896 L 179.05085330367365,-8.513052889626271 L 179.05264422599444,-8.51591440319513 L 179.05476171594867,-8.518926346117572 L 179.0558404917447,-8.520900963195519 L 179.05650694609216,-8.522534952906017 L 179.05668455655993,-8.52300367531991 L 179.05754640778036,-8.525462421699137 L 179.05769784541567,-8.525931125123579 L 179.05793776759867,-8.526741381190986 L 179.05797695742066,-8.526819752100858 L 179.05895591583905,-8.530053958661814 L 179.0594933861417,-8.534360841833172 L 179.05930604963618,-8.537883081798421 L 179.0588362974436,-8.538970685267016 L 179.05916665719622,-8.540697157739125 L 179.05934426154408,-8.54246791197091 L 179.05936396478302,-8.54428136558683 L 179.05928256697237,-8.544282249976979 L 179.0592984996474,-8.54741397953348 L 179.05796855590071,-8.553196459588714 L 179.0573686864952,-8.554798661200275 L 179.0582797271356,-8.556848289324085 L 179.06011979308252,-8.55940434268357 L 179.06616703970667,-8.566462901959774 L 179.0670485648609,-8.56766208394167 L 179.0708278019053,-8.573697904570956 L 179.07139948484763,-8.574745039747807 L 179.0727492044351,-8.577611714896657 L 179.07299985699615,-8.578190814583458 L 179.074356782403,-8.58161863800712 L 179.07487622199167,-8.583397198956652 L 179.07577722084744,-8.588047563613367 L 179.07642140032377,-8.59069788910141 L 179.0778243199214,-8.59498036400065 L 179.07885916468592,-8.597696693360675 L 179.07979162950093,-8.598936239323445 L 179.0808471881801,-8.600687038120261 L 179.081431129792,-8.60192691809067 L 179.08235343108421,-8.605403059001508 L 179.08247966640042,-8.607006952482948 L 179.08280687891076,-8.608719092880232 L 179.08381908212212,-8.611185359358135 L 179.0839754396026,-8.611591243514804 L 179.08530069678403,-8.615267885014337 L 179.08586781641077,-8.617947044905799 L 179.0859383820729,-8.618935887200085 L 179.08633321957487,-8.620157207882492 L 179.0868181,-8.623233325480392 L 179.0868181,-8.624904288116563 L 179.08649145866696,-8.627439269793067 L 179.08553287357995,-8.629808645510762 L 179.08411930593152,-8.632320477542146 L 179.08551299230024,-8.63133544644759 L 179.08584891779518,-8.631108094784064 L 179.08898282890755,-8.629078526567572 L 179.09042475186052,-8.62830427819646 L 179.0916367778451,-8.627776269642958 L 179.09122030527212,-8.627141402307064 L 179.09072906742338,-8.626307118878797 L 179.0896735175615,-8.62429791384644 L 179.08908122769031,-8.622932303981372 L 179.0885588320329,-8.621430416466245 L 179.08800380013335,-8.618146843283972 L 179.08800367121617,-8.617357425776413 L 179.0879424717477,-8.615836031540619 L 179.0879814501104,-8.614465093382695 L 179.08815629480452,-8.612669209469088 L 179.08904770528983,-8.609408713853465 L 179.08956566736526,-8.608299001271682 L 179.09024476844772,-8.607075531185295 L 179.09159647142337,-8.604997662618624 L 179.09175589774765,-8.604782322235403 L 179.09143771209995,-8.601970280435191 L 179.09137473301377,-8.600753363983847 L 179.09139420500873,-8.598650192825966 L 179.09198728726372,-8.595348960634494 L 179.09257608919475,-8.593717002627388 L 179.09361475234005,-8.591635462108203 L 179.09459990177513,-8.590129886209098 L 179.09646721501804,-8.58702758347062 L 179.09648176504453,-8.587003487278594 L 179.09747867193258,-8.585357756065141 L 179.09971933915185,-8.582783036529193 L 179.10769333460127,-8.57629298111963 L 179.10970659923728,-8.575020130260866 L 179.1102544869471,-8.57483550376172 L 179.1107545858003,-8.573579256360045 L 179.1117019482563,-8.571825372731452 L 179.11327603977975,-8.569663562328989 L 179.12172055810794,-8.560840346017702 L 179.12412643788971,-8.558992153173314 L 179.12697581840268,-8.557950469436916 L 179.12698779676685,-8.55794806361815 L 179.1276662768779,-8.557639287512917 L 179.13084403782585,-8.556787667656417 L 179.1321497808421,-8.556661145599687 L 179.13221394076618,-8.556590570216597 L 179.1327929307778,-8.555827171051972 L 179.13511151374271,-8.553618536194739 L 179.136118841649,-8.552928918208572 L 179.1364228675915,-8.552728808945886 L 179.1372557196337,-8.552202096803043 L 179.13954958415857,-8.551130618865624 L 179.14130452941257,-8.550568348170515 L 179.1418564284445,-8.550408851896009 L 179.14334386505303,-8.550024921010184 L 179.14355561925788,-8.549895917062214 L 179.14509146447668,-8.548615209905236 L 179.14762648777983,-8.546332053921294 L 179.1482114211576,-8.545844270036964 L 179.14968836835382,-8.544705111071693 L 179.1510412781317,-8.543825999292306 L 179.15273676205047,-8.542909700508357 L 179.15328191932173,-8.542636220253902 L 179.1562691946731,-8.541249999048286 L 179.1585705405439,-8.540025210586021 L 179.1592801980429,-8.539569005917079 L 179.16097154626692,-8.537903308405895 L 179.16135667706857,-8.537543512015192 L 179.16382629129404,-8.535355344057717 L 179.16594625110594,-8.53391567095488 L 179.16814063412093,-8.532806292268246 L 179.16877668351492,-8.532512245313766 L 179.1704218000819,-8.531820588991089 L 179.1718184645731,-8.531351145572797 L 179.17320782280427,-8.530995621857107 L 179.17546989322764,-8.53068582442274 L 179.17639637683385,-8.530665718791726 L 179.1773849574933,-8.5305497773523 L 179.17770075364925,-8.530486049256126 L 179.17800089528424,-8.530326470227692 L 179.1819168704497,-8.526958963946655 L 179.18574356030086,-8.52356277547372 L 179.18612786525588,-8.523238603319257 L 179.19017105803954,-8.519998456433452 L 179.19031029361753,-8.519888886805397 L 179.19263892000026,-8.518089578608805 L 179.19261559316743,-8.518042649359979 L 179.19218442630213,-8.51704182038481 L 179.19061589573704,-8.512774861536615 L 179.18926257606714,-8.50974991113186 L 179.18901814496786,-8.509152552315198 L 179.18722005007274,-8.504318746430853 L 179.18684622169167,-8.503070172842905 L 179.1862311655943,-8.500391465245709 L 179.18620999665973,-8.50029718359676 L 179.185625348781,-8.49763314343951 L 179.18454097974904,-8.494096676857662 L 179.1843105986152,-8.493198767718884 L 179.183787663484,-8.490681060166498 L 179.1835816842984,-8.488891789068715 L 179.18353250092972,-8.486879607763987 L 179.18356627417347,-8.48577861269206 L 179.1836771609842,-8.484488931987071 L 179.1836062836311,-8.483979808182973 L 179.1835569544376,-8.481640949379617 L 179.183693280841,-8.480227459891623 L 179.182972764054,-8.478256560376646 L 179.18244536738388,-8.477148365042147 L 179.18149652278979,-8.475944152679869 L 179.18038068938745,-8.474174385112365 L 179.1794431870764,-8.47227136903388 L 179.17866277958862,-8.470070083817411 L 179.17797679632002,-8.467054254926376 L 179.177270783654,-8.464815963193068 L 179.17621463528812,-8.462467561610458 L 179.1738494367964,-8.457669818911214 L 179.1715690029275,-8.453543845645067 L 179.17044696865608,-8.45151302983633 L 179.17000536959807,-8.450951318271363 L 179.16923917341524,-8.450305154236764 L 179.16854792213175,-8.449664058540137 L 179.16735011270842,-8.448443199357666 L 179.1652487820684,-8.445265062880134 L 179.16466190501188,-8.443847518644159 L 179.1642688923163,-8.442708450685931 L 179.16391310525688,-8.441432610297849 L 179.1633407506977,-8.440275580548745 L 179.16297726550448,-8.439947178091552 L 179.1618522256724,-8.43924156126177 L 179.16071605683712,-8.438636217388124 L 179.1572774475482,-8.43780737987666 L 179.15722336604873,-8.437794184765062 L 179.15029375627316,-8.436083009180708 L 179.1474504150503,-8.435716445271211 L 179.14293025732087,-8.436214999628456 L 179.14144894171366,-8.43626786180427 L 179.13688505776125,-8.436092019176568 L 179.13414280122194,-8.435597866393202 L 179.130955695712,-8.434548544303262 L 179.1268657634389,-8.433790630572052 L 179.12382241034504,-8.433792719296333 L 179.11903782609596,-8.434681153527706 L 179.1147651889524,-8.436094439188993 L 179.1147084127844,-8.436137619925812 L 179.11245889289944,-8.437426280354359 L 179.10043711211443,-8.44237118948008 L 179.09890354529983,-8.44286182508467 L 179.09736261951718,-8.443221072600432 L 179.09648092465676,-8.443385331816836 L 179.0956187677286,-8.443506239165984 L 179.09510370446694,-8.443683152043388 L 179.09384350033562,-8.444025836842496 L 179.09193226152536,-8.44441358881506 L 179.08988785621105,-8.444613089905339 L 179.08841135062596,-8.444604804682431 L 179.08779337006098,-8.444743989871654 L 179.08649803213945,-8.44520125497803 L 179.08530259595244,-8.445824643545567 L 179.08454641101955,-8.446160843340463 L 179.0814967686417,-8.453470949556182 L 179.08156364388495,-8.454210469991072 L 179.0815714170358,-8.454488610143365 L 179.0817750564412,-8.455081742887003 L 179.08230548667063,-8.457849967359236 L 179.08204238654685,-8.460656246262312 L 179.07771592552885,-8.478736073691486 L 179.07737363721728,-8.480490411618534 L 179.07652887887204,-8.482995384042178 L 179.07546951507408,-8.485145329652177 L 179.07354878876356,-8.487817995452973 L 179.07213106801046,-8.48922708472509 L 179.07171881579868,-8.489614277541762 L 179.0697501784588,-8.49136114121229 L 179.06808814487627,-8.49255587168413 L 179.06628059473402,-8.49359256507995 L 179.06626627271385,-8.493567593598792 L 179.0644919913164,-8.494646156997371 L 179.05929814123547,-8.496703404209725 L 179.0581699705727,-8.497279877857988 L 179.05640769220733,-8.498261734625912 L 179.05495302561295,-8.499419190299376 L 179.0530292494109,-8.501266105549313 L 179.05042567253602,-8.503973166533635 L 179.04956586781188,-8.504768228175436 L 179.0471720695723,-8.506734712276375 L 179.04645447277713,-8.507369477614922 L 179.04541378664948,-8.508142635233424 L 179.04615977634194,-8.508650415888125 z\" /></g></svg>"
      ],
      "text/plain": [
       "<POLYGON ((179.099 -8.635, 179.097 -8.636, 179.094 -8.637, 179.091 -8.639, 1...>"
      ]
     },
     "execution_count": 11,
     "metadata": {},
     "output_type": "execute_result"
    }
   ],
   "source": [
    "extent.geometry[0]"
   ]
  },
  {
   "cell_type": "markdown",
   "metadata": {},
   "source": [
    "## We will extract OSM POIs"
   ]
  },
  {
   "cell_type": "code",
   "execution_count": 12,
   "metadata": {},
   "outputs": [],
   "source": [
    "school_tags = {'amenity':['school', 'kindergarten', 'university', 'college']}\n",
    "# Removing pharmacy from health_tags\n",
    "health_tags = {'amenity':['clinic', 'hospital', 'health']}\n",
    "police_tags = {'amenity':['police']}\n",
    "fire_station_tags = {'amenity':['fire_station']}"
   ]
  },
  {
   "cell_type": "code",
   "execution_count": 13,
   "metadata": {},
   "outputs": [],
   "source": [
    "tag_dictionary = {'schools': school_tags, 'health': health_tags, 'police': police_tags, 'fire': fire_station_tags}"
   ]
  },
  {
   "cell_type": "code",
   "execution_count": 14,
   "metadata": {},
   "outputs": [],
   "source": [
    "try:\n",
    "    os.mkdir(outputFolder + '/osm_infrastructure')\n",
    "except FileExistsError:\n",
    "    pass"
   ]
  },
  {
   "cell_type": "code",
   "execution_count": 15,
   "metadata": {},
   "outputs": [
    {
     "name": "stdout",
     "output_type": "stream",
     "text": [
      "schools\n",
      "health\n",
      "police\n",
      "fire\n",
      "('schools', <GOSTnets.fetch_pois.OsmObject object at 0x000002BA8BFC8B50>)\n"
     ]
    },
    {
     "name": "stderr",
     "output_type": "stream",
     "text": [
      "C:\\Users/Owner/Documents/Career/World Bank/CRP/repo/GOSTnets\\GOSTnets\\fetch_pois.py:72: UserWarning: The `geometries` module and `geometries_from_X` functions have been renamed the `features` module and `features_from_X` functions. Use these instead. The `geometries` module and function names are deprecated and will be removed in a future release.\n",
      "  df = ox.geometries_from_polygon(self.bbox, self.tags).reset_index()\n",
      "C:\\Users/Owner/Documents/Career/World Bank/CRP/repo/GOSTnets\\GOSTnets\\fetch_pois.py:79: UserWarning: Geometry is in a geographic CRS. Results from 'centroid' are likely incorrect. Use 'GeoSeries.to_crs()' to re-project geometries to a projected CRS before this operation.\n",
      "\n",
      "  polygons['geometry'] = polygons.centroid\n",
      "C:\\Users/Owner/Documents/Career/World Bank/CRP/repo/GOSTnets\\GOSTnets\\fetch_pois.py:95: UserWarning: Geometry is in a geographic CRS. Results from 'buffer' are likely incorrect. Use 'GeoSeries.to_crs()' to re-project geometries to a projected CRS before this operation.\n",
      "\n",
      "  gdf['buffer'] = gdf['geometry'].buffer(buf_width)\n"
     ]
    },
    {
     "ename": "AttributeError",
     "evalue": "'DataFrame' object has no attribute 'append'",
     "output_type": "error",
     "traceback": [
      "\u001b[1;31m---------------------------------------------------------------------------\u001b[0m",
      "\u001b[1;31mAttributeError\u001b[0m                            Traceback (most recent call last)",
      "\u001b[1;32m~\\AppData\\Local\\Temp\\ipykernel_21168\\1771372443.py\u001b[0m in \u001b[0;36m?\u001b[1;34m()\u001b[0m\n\u001b[0;32m     10\u001b[0m \u001b[1;33m\u001b[0m\u001b[0m\n\u001b[0;32m     11\u001b[0m     \u001b[1;31m# if query is not empty\u001b[0m\u001b[1;33m\u001b[0m\u001b[1;33m\u001b[0m\u001b[0m\n\u001b[0;32m     12\u001b[0m     \u001b[1;32mif\u001b[0m \u001b[0mresult\u001b[0m\u001b[1;33m.\u001b[0m\u001b[0mempty\u001b[0m \u001b[1;33m==\u001b[0m \u001b[1;32mFalse\u001b[0m\u001b[1;33m:\u001b[0m\u001b[1;33m\u001b[0m\u001b[1;33m\u001b[0m\u001b[0m\n\u001b[0;32m     13\u001b[0m \u001b[1;33m\u001b[0m\u001b[0m\n\u001b[1;32m---> 14\u001b[1;33m         \u001b[0mquery\u001b[0m\u001b[1;33m[\u001b[0m\u001b[1;36m1\u001b[0m\u001b[1;33m]\u001b[0m\u001b[1;33m.\u001b[0m\u001b[0mRemoveDupes\u001b[0m\u001b[1;33m(\u001b[0m\u001b[1;36m0.0005\u001b[0m\u001b[1;33m)\u001b[0m\u001b[1;33m\u001b[0m\u001b[1;33m\u001b[0m\u001b[0m\n\u001b[0m\u001b[0;32m     15\u001b[0m \u001b[1;33m\u001b[0m\u001b[0m\n\u001b[0;32m     16\u001b[0m         \u001b[1;31m#print(query[1].df)\u001b[0m\u001b[1;33m\u001b[0m\u001b[1;33m\u001b[0m\u001b[0m\n\u001b[0;32m     17\u001b[0m \u001b[1;33m\u001b[0m\u001b[0m\n",
      "\u001b[1;32mC:\\Users/Owner/Documents/Career/World Bank/CRP/repo/GOSTnets\\GOSTnets\\fetch_pois.py\u001b[0m in \u001b[0;36m?\u001b[1;34m(self, buf_width, crs)\u001b[0m\n\u001b[0;32m     96\u001b[0m         \u001b[0ml\u001b[0m \u001b[1;33m=\u001b[0m \u001b[0mpd\u001b[0m\u001b[1;33m.\u001b[0m\u001b[0mDataFrame\u001b[0m\u001b[1;33m(\u001b[0m\u001b[1;33m)\u001b[0m\u001b[1;33m\u001b[0m\u001b[1;33m\u001b[0m\u001b[0m\n\u001b[0;32m     97\u001b[0m         \u001b[1;32mfor\u001b[0m \u001b[0mi\u001b[0m \u001b[1;32min\u001b[0m \u001b[0mgdf\u001b[0m\u001b[1;33m.\u001b[0m\u001b[0mindex\u001b[0m\u001b[1;33m:\u001b[0m\u001b[1;33m\u001b[0m\u001b[1;33m\u001b[0m\u001b[0m\n\u001b[0;32m     98\u001b[0m             \u001b[0mrow\u001b[0m \u001b[1;33m=\u001b[0m \u001b[0mgdf\u001b[0m\u001b[1;33m.\u001b[0m\u001b[0mloc\u001b[0m\u001b[1;33m[\u001b[0m\u001b[0mi\u001b[0m\u001b[1;33m]\u001b[0m\u001b[1;33m\u001b[0m\u001b[1;33m\u001b[0m\u001b[0m\n\u001b[0;32m     99\u001b[0m             \u001b[1;32mif\u001b[0m \u001b[0mlen\u001b[0m\u001b[1;33m(\u001b[0m\u001b[0ml\u001b[0m\u001b[1;33m)\u001b[0m \u001b[1;33m==\u001b[0m \u001b[1;36m0\u001b[0m\u001b[1;33m:\u001b[0m\u001b[1;33m\u001b[0m\u001b[1;33m\u001b[0m\u001b[0m\n\u001b[1;32m--> 100\u001b[1;33m                 \u001b[0ml\u001b[0m \u001b[1;33m=\u001b[0m \u001b[0ml\u001b[0m\u001b[1;33m.\u001b[0m\u001b[0mappend\u001b[0m\u001b[1;33m(\u001b[0m\u001b[0mrow\u001b[0m\u001b[1;33m,\u001b[0m \u001b[0mignore_index\u001b[0m \u001b[1;33m=\u001b[0m \u001b[1;32mTrue\u001b[0m\u001b[1;33m)\u001b[0m\u001b[1;33m\u001b[0m\u001b[1;33m\u001b[0m\u001b[0m\n\u001b[0m\u001b[0;32m    101\u001b[0m             \u001b[1;32melse\u001b[0m\u001b[1;33m:\u001b[0m\u001b[1;33m\u001b[0m\u001b[1;33m\u001b[0m\u001b[0m\n\u001b[0;32m    102\u001b[0m                 \u001b[0mcurrent_points\u001b[0m \u001b[1;33m=\u001b[0m \u001b[0mcascaded_union\u001b[0m\u001b[1;33m(\u001b[0m\u001b[0ml\u001b[0m\u001b[1;33m[\u001b[0m\u001b[1;34m'buffer'\u001b[0m\u001b[1;33m]\u001b[0m\u001b[1;33m)\u001b[0m\u001b[1;33m\u001b[0m\u001b[1;33m\u001b[0m\u001b[0m\n\u001b[0;32m    103\u001b[0m                 \u001b[1;32mif\u001b[0m \u001b[0mrow\u001b[0m\u001b[1;33m[\u001b[0m\u001b[1;34m'buffer'\u001b[0m\u001b[1;33m]\u001b[0m\u001b[1;33m.\u001b[0m\u001b[0mintersects\u001b[0m\u001b[1;33m(\u001b[0m\u001b[0mcurrent_points\u001b[0m\u001b[1;33m)\u001b[0m\u001b[1;33m:\u001b[0m\u001b[1;33m\u001b[0m\u001b[1;33m\u001b[0m\u001b[0m\n",
      "\u001b[1;32m~\\anaconda3\\envs\\crp\\lib\\site-packages\\pandas\\core\\generic.py\u001b[0m in \u001b[0;36m?\u001b[1;34m(self, name)\u001b[0m\n\u001b[0;32m   5985\u001b[0m             \u001b[1;32mand\u001b[0m \u001b[0mname\u001b[0m \u001b[1;32mnot\u001b[0m \u001b[1;32min\u001b[0m \u001b[0mself\u001b[0m\u001b[1;33m.\u001b[0m\u001b[0m_accessors\u001b[0m\u001b[1;33m\u001b[0m\u001b[1;33m\u001b[0m\u001b[0m\n\u001b[0;32m   5986\u001b[0m             \u001b[1;32mand\u001b[0m \u001b[0mself\u001b[0m\u001b[1;33m.\u001b[0m\u001b[0m_info_axis\u001b[0m\u001b[1;33m.\u001b[0m\u001b[0m_can_hold_identifiers_and_holds_name\u001b[0m\u001b[1;33m(\u001b[0m\u001b[0mname\u001b[0m\u001b[1;33m)\u001b[0m\u001b[1;33m\u001b[0m\u001b[1;33m\u001b[0m\u001b[0m\n\u001b[0;32m   5987\u001b[0m         ):\n\u001b[0;32m   5988\u001b[0m             \u001b[1;32mreturn\u001b[0m \u001b[0mself\u001b[0m\u001b[1;33m[\u001b[0m\u001b[0mname\u001b[0m\u001b[1;33m]\u001b[0m\u001b[1;33m\u001b[0m\u001b[1;33m\u001b[0m\u001b[0m\n\u001b[1;32m-> 5989\u001b[1;33m         \u001b[1;32mreturn\u001b[0m \u001b[0mobject\u001b[0m\u001b[1;33m.\u001b[0m\u001b[0m__getattribute__\u001b[0m\u001b[1;33m(\u001b[0m\u001b[0mself\u001b[0m\u001b[1;33m,\u001b[0m \u001b[0mname\u001b[0m\u001b[1;33m)\u001b[0m\u001b[1;33m\u001b[0m\u001b[1;33m\u001b[0m\u001b[0m\n\u001b[0m",
      "\u001b[1;31mAttributeError\u001b[0m: 'DataFrame' object has no attribute 'append'"
     ]
    }
   ],
   "source": [
    "queries = {}\n",
    "for tags in tag_dictionary.items():\n",
    "    print(tags[0])\n",
    "    # create the OsmObject\n",
    "    queries[tags[0]] = OsmObject(f'{tags[0]}', extent.geometry[0].buffer(0), tags[1])\n",
    "query_results_gpd_dict = {}\n",
    "for query in queries.items():\n",
    "    print(query)\n",
    "    result = query[1].GenerateOSMPOIs()\n",
    "    \n",
    "    # if query is not empty\n",
    "    if result.empty == False:\n",
    "        \n",
    "        query[1].RemoveDupes(0.0005)\n",
    "        \n",
    "        #print(query[1].df)\n",
    "\n",
    "        if 'name' in query[1].df.columns:\n",
    "            query_results = query[1].df[['amenity','geometry','name']]\n",
    "        else:\n",
    "            query_results = query[1].df[['amenity','geometry']]\n",
    "\n",
    "        # convert to GeoDataFrame\n",
    "        query_results_gpd = gpd.GeoDataFrame(query_results, crs = \"epsg:4326\", geometry = 'geometry')\n",
    "        query_results_gpd.to_file(outputFolder + f'/osm_infrastructure/osm_{query[0]}.shp')\n",
    "\n",
    "        #save result in query_results_gpd_dict \n",
    "        query_results_gpd_dict[query[0]] = query_results_gpd"
   ]
  },
  {
   "cell_type": "markdown",
   "metadata": {},
   "source": [
    "## We will extract the Roads and convert into a graph"
   ]
  },
  {
   "cell_type": "code",
   "execution_count": 237,
   "metadata": {},
   "outputs": [],
   "source": [
    "# This is the section where we can adjust the road speeds\n",
    "if not os.path.exists(roadGraph):\n",
    "    extent = box(*extent.total_bounds)\n",
    "    G = ox.graph_from_polygon(extent, network_type = 'drive_service')\n",
    "    # This is how time is calculated from the OSMNX length attribute\n",
    "    G = gn.convert_network_to_time(G, 'length')\n",
    "    # save the largest subgraph\n",
    "   \n",
    "    # compatible with NetworkX 2.4\n",
    "    list_of_subgraphs = list(G.subgraph(c).copy() for c in nx.strongly_connected_components(G))\n",
    "    max_graph = None\n",
    "    max_edges = 0\n",
    "    for i in list_of_subgraphs:\n",
    "        if i.number_of_edges() > max_edges:\n",
    "            max_edges = i.number_of_edges()\n",
    "            max_graph = i\n",
    "\n",
    "    # set your graph equal to the largest sub-graph\n",
    "    G = max_graph\n",
    "\n",
    "    # networkx ver 2\n",
    "    #nx.write_gpickle(G, roadGraph)\n",
    "    \n",
    "    # for networkX ver 3\n",
    "    with open(roadGraph, 'wb') as f:\n",
    "        pickle.dump(G, f, pickle.HIGHEST_PROTOCOL)\n",
    "else:\n",
    "    # networkx ver 2\n",
    "    #G = nx.read_gpickle(roadGraph)\n",
    "    \n",
    "    # for networkX ver 3\n",
    "    with open(roadGraph, 'rb') as f:\n",
    "        G = pickle.load(f)\n",
    "    \n",
    "    G = gn.convert_network_to_time(G, 'length')"
   ]
  },
  {
   "cell_type": "markdown",
   "metadata": {},
   "source": [
    "### Inspect the road graph as a shapefile"
   ]
  },
  {
   "cell_type": "code",
   "execution_count": 238,
   "metadata": {},
   "outputs": [],
   "source": [
    "roads = gn.edge_gdf_from_graph(G)"
   ]
  },
  {
   "cell_type": "code",
   "execution_count": 239,
   "metadata": {},
   "outputs": [],
   "source": [
    "pd.set_option('display.max_columns', None)"
   ]
  },
  {
   "cell_type": "markdown",
   "metadata": {},
   "source": [
    "### Sometimes the highway value can have a list instead of a single value, in these cases the code below will replace the list with the first value of the list"
   ]
  },
  {
   "cell_type": "code",
   "execution_count": 240,
   "metadata": {},
   "outputs": [],
   "source": [
    "def replace_hwy(x):\n",
    "    if isinstance(x, list):\n",
    "        x = x[0]\n",
    "    return x"
   ]
  },
  {
   "cell_type": "code",
   "execution_count": 241,
   "metadata": {},
   "outputs": [],
   "source": [
    "roads['highway'] = roads.apply(lambda x: replace_hwy(x['highway']), axis=1)"
   ]
  },
  {
   "cell_type": "code",
   "execution_count": 242,
   "metadata": {},
   "outputs": [
    {
     "data": {
      "text/html": [
       "<div>\n",
       "<style scoped>\n",
       "    .dataframe tbody tr th:only-of-type {\n",
       "        vertical-align: middle;\n",
       "    }\n",
       "\n",
       "    .dataframe tbody tr th {\n",
       "        vertical-align: top;\n",
       "    }\n",
       "\n",
       "    .dataframe thead th {\n",
       "        text-align: right;\n",
       "    }\n",
       "</style>\n",
       "<table border=\"1\" class=\"dataframe\">\n",
       "  <thead>\n",
       "    <tr style=\"text-align: right;\">\n",
       "      <th></th>\n",
       "      <th>stnode</th>\n",
       "      <th>endnode</th>\n",
       "      <th>reversed</th>\n",
       "      <th>length</th>\n",
       "      <th>time</th>\n",
       "      <th>name</th>\n",
       "      <th>highway</th>\n",
       "      <th>junction</th>\n",
       "      <th>tunnel</th>\n",
       "      <th>access</th>\n",
       "      <th>maxspeed</th>\n",
       "      <th>ref</th>\n",
       "      <th>lanes</th>\n",
       "      <th>mode</th>\n",
       "      <th>service</th>\n",
       "      <th>osmid</th>\n",
       "      <th>bridge</th>\n",
       "      <th>oneway</th>\n",
       "      <th>geometry</th>\n",
       "    </tr>\n",
       "  </thead>\n",
       "  <tbody>\n",
       "    <tr>\n",
       "      <th>0</th>\n",
       "      <td>30932706</td>\n",
       "      <td>4829322405</td>\n",
       "      <td>False</td>\n",
       "      <td>37.954</td>\n",
       "      <td>6.83172</td>\n",
       "      <td>Gumani Street</td>\n",
       "      <td>unclassified</td>\n",
       "      <td>NaN</td>\n",
       "      <td>NaN</td>\n",
       "      <td>NaN</td>\n",
       "      <td>NaN</td>\n",
       "      <td>NaN</td>\n",
       "      <td>NaN</td>\n",
       "      <td>drive</td>\n",
       "      <td>NaN</td>\n",
       "      <td>4816061</td>\n",
       "      <td>NaN</td>\n",
       "      <td>False</td>\n",
       "      <td>LINESTRING (-0.83902 9.43728, -0.83868 9.43726)</td>\n",
       "    </tr>\n",
       "    <tr>\n",
       "      <th>1</th>\n",
       "      <td>30932706</td>\n",
       "      <td>1785712350</td>\n",
       "      <td>False</td>\n",
       "      <td>102.716</td>\n",
       "      <td>18.48888</td>\n",
       "      <td>Gumani Road</td>\n",
       "      <td>unclassified</td>\n",
       "      <td>NaN</td>\n",
       "      <td>NaN</td>\n",
       "      <td>NaN</td>\n",
       "      <td>NaN</td>\n",
       "      <td>NaN</td>\n",
       "      <td>NaN</td>\n",
       "      <td>drive</td>\n",
       "      <td>NaN</td>\n",
       "      <td>4816052</td>\n",
       "      <td>NaN</td>\n",
       "      <td>False</td>\n",
       "      <td>LINESTRING (-0.83902 9.43728, -0.83902 9.43679...</td>\n",
       "    </tr>\n",
       "  </tbody>\n",
       "</table>\n",
       "</div>"
      ],
      "text/plain": [
       "     stnode     endnode reversed   length      time           name   \n",
       "0  30932706  4829322405    False   37.954   6.83172  Gumani Street  \\\n",
       "1  30932706  1785712350    False  102.716  18.48888    Gumani Road   \n",
       "\n",
       "        highway junction tunnel access maxspeed  ref lanes   mode service   \n",
       "0  unclassified      NaN    NaN    NaN      NaN  NaN   NaN  drive     NaN  \\\n",
       "1  unclassified      NaN    NaN    NaN      NaN  NaN   NaN  drive     NaN   \n",
       "\n",
       "     osmid bridge  oneway                                           geometry  \n",
       "0  4816061    NaN   False    LINESTRING (-0.83902 9.43728, -0.83868 9.43726)  \n",
       "1  4816052    NaN   False  LINESTRING (-0.83902 9.43728, -0.83902 9.43679...  "
      ]
     },
     "execution_count": 242,
     "metadata": {},
     "output_type": "execute_result"
    }
   ],
   "source": [
    "roads[:2]"
   ]
  },
  {
   "cell_type": "code",
   "execution_count": 243,
   "metadata": {},
   "outputs": [],
   "source": [
    "if not os.path.exists(outputFolder + '/OSM_Roads/OSM_Roads.shp'):\n",
    "    #roads['oneway'] = roads.oneway.astype(int)\n",
    "    roads = roads[['length','time','mode','geometry']]\n",
    "    roads.to_file(outputFolder + '/OSM_Roads')"
   ]
  },
  {
   "cell_type": "markdown",
   "metadata": {},
   "source": [
    "### Snap destinations to the road graph"
   ]
  },
  {
   "cell_type": "code",
   "execution_count": 244,
   "metadata": {},
   "outputs": [],
   "source": [
    "snapped_destinations_dict = {}\n",
    "for results_gpd in query_results_gpd_dict.items():\n",
    "    snapped_destinations = gn.pandana_snap(G, query_results_gpd_dict[results_gpd[0]])\n",
    "    snapped_destinations_dict[results_gpd[0]] = list(snapped_destinations['NN'].unique())"
   ]
  },
  {
   "cell_type": "code",
   "execution_count": 245,
   "metadata": {},
   "outputs": [],
   "source": [
    "# snapped_destinations_dict"
   ]
  },
  {
   "cell_type": "markdown",
   "metadata": {},
   "source": [
    "## Isochrones processing"
   ]
  },
  {
   "cell_type": "code",
   "execution_count": 246,
   "metadata": {},
   "outputs": [],
   "source": [
    "threshold_list = {\n",
    "    'schools': [800,1600,2400],\n",
    "    'health': [1000,2000,3000]\n",
    "}"
   ]
  },
  {
   "cell_type": "code",
   "execution_count": 247,
   "metadata": {},
   "outputs": [],
   "source": [
    "# find graph utm zone\n",
    "G_utm = gn.utm_of_graph(G)"
   ]
  },
  {
   "cell_type": "code",
   "execution_count": 248,
   "metadata": {},
   "outputs": [],
   "source": [
    "def isochrone_processing(amenity_type):\n",
    "    amenity_threshold_list = threshold_list.get(amenity_type)\n",
    "    if amenity_threshold_list == None:\n",
    "        return \"Amenity type not found\"\n",
    "    # if no destinations for amenity type exist\n",
    "    if snapped_destinations_dict.get(amenity_type) == None:\n",
    "        print(f\"no destinations for {amenity_type} exist\")\n",
    "    else:\n",
    "        for threshold in amenity_threshold_list:\n",
    "            print(threshold)\n",
    "            iso_gdf = gn.make_iso_polys(G, snapped_destinations_dict[amenity_type], [threshold], edge_buff=300, node_buff=300, weight = 'length', measure_crs = G_utm)\n",
    "            dissolved = iso_gdf.dissolve(by=\"thresh\")\n",
    "            gdf_out = dissolved.explode()\n",
    "            gdf_out2 = gdf_out.reset_index()\n",
    "            # save file\n",
    "            gdf_out2.to_file(outputFolder + f'/{city_name}_AOI_accessibility_{amenity_type}_isochrones_{threshold}m.shp')\n",
    "        "
   ]
  },
  {
   "cell_type": "code",
   "execution_count": 249,
   "metadata": {},
   "outputs": [
    {
     "name": "stdout",
     "output_type": "stream",
     "text": [
      "schools\n",
      "800\n",
      "merge all edges and nodes\n",
      "unary_union\n"
     ]
    },
    {
     "name": "stderr",
     "output_type": "stream",
     "text": [
      "/var/folders/gr/04wfn6914nn08mfvwlf0_j2h0000gn/T/ipykernel_12678/3651699368.py:13: FutureWarning: Currently, index_parts defaults to True, but in the future, it will default to False to be consistent with Pandas. Use `index_parts=True` to keep the current behavior and True/False to silence the warning.\n",
      "  gdf_out = dissolved.explode()\n"
     ]
    },
    {
     "name": "stdout",
     "output_type": "stream",
     "text": [
      "1600\n",
      "merge all edges and nodes\n",
      "unary_union\n"
     ]
    },
    {
     "name": "stderr",
     "output_type": "stream",
     "text": [
      "/var/folders/gr/04wfn6914nn08mfvwlf0_j2h0000gn/T/ipykernel_12678/3651699368.py:13: FutureWarning: Currently, index_parts defaults to True, but in the future, it will default to False to be consistent with Pandas. Use `index_parts=True` to keep the current behavior and True/False to silence the warning.\n",
      "  gdf_out = dissolved.explode()\n"
     ]
    },
    {
     "name": "stdout",
     "output_type": "stream",
     "text": [
      "2400\n",
      "merge all edges and nodes\n",
      "unary_union\n"
     ]
    },
    {
     "name": "stderr",
     "output_type": "stream",
     "text": [
      "/var/folders/gr/04wfn6914nn08mfvwlf0_j2h0000gn/T/ipykernel_12678/3651699368.py:13: FutureWarning: Currently, index_parts defaults to True, but in the future, it will default to False to be consistent with Pandas. Use `index_parts=True` to keep the current behavior and True/False to silence the warning.\n",
      "  gdf_out = dissolved.explode()\n"
     ]
    },
    {
     "name": "stdout",
     "output_type": "stream",
     "text": [
      "health\n",
      "1000\n",
      "merge all edges and nodes\n",
      "unary_union\n"
     ]
    },
    {
     "name": "stderr",
     "output_type": "stream",
     "text": [
      "/var/folders/gr/04wfn6914nn08mfvwlf0_j2h0000gn/T/ipykernel_12678/3651699368.py:13: FutureWarning: Currently, index_parts defaults to True, but in the future, it will default to False to be consistent with Pandas. Use `index_parts=True` to keep the current behavior and True/False to silence the warning.\n",
      "  gdf_out = dissolved.explode()\n"
     ]
    },
    {
     "name": "stdout",
     "output_type": "stream",
     "text": [
      "2000\n",
      "merge all edges and nodes\n",
      "unary_union\n"
     ]
    },
    {
     "name": "stderr",
     "output_type": "stream",
     "text": [
      "/var/folders/gr/04wfn6914nn08mfvwlf0_j2h0000gn/T/ipykernel_12678/3651699368.py:13: FutureWarning: Currently, index_parts defaults to True, but in the future, it will default to False to be consistent with Pandas. Use `index_parts=True` to keep the current behavior and True/False to silence the warning.\n",
      "  gdf_out = dissolved.explode()\n"
     ]
    },
    {
     "name": "stdout",
     "output_type": "stream",
     "text": [
      "3000\n",
      "merge all edges and nodes\n",
      "unary_union\n"
     ]
    },
    {
     "name": "stderr",
     "output_type": "stream",
     "text": [
      "/var/folders/gr/04wfn6914nn08mfvwlf0_j2h0000gn/T/ipykernel_12678/3651699368.py:13: FutureWarning: Currently, index_parts defaults to True, but in the future, it will default to False to be consistent with Pandas. Use `index_parts=True` to keep the current behavior and True/False to silence the warning.\n",
      "  gdf_out = dissolved.explode()\n"
     ]
    }
   ],
   "source": [
    "for key in threshold_list:\n",
    "    print(key)\n",
    "    isochrone_processing(key)"
   ]
  }
 ],
 "metadata": {
  "kernelspec": {
   "display_name": "Python 3 (ipykernel)",
   "language": "python",
   "name": "python3"
  },
  "language_info": {
   "codemirror_mode": {
    "name": "ipython",
    "version": 3
   },
   "file_extension": ".py",
   "mimetype": "text/x-python",
   "name": "python",
   "nbconvert_exporter": "python",
   "pygments_lexer": "ipython3",
   "version": "3.10.12"
  }
 },
 "nbformat": 4,
 "nbformat_minor": 4
}
