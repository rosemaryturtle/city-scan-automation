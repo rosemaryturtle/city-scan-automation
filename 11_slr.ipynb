{
 "cells": [
  {
   "cell_type": "code",
   "execution_count": null,
   "id": "7224d3d9-9b42-4ae4-ac80-c5d7fd1616b7",
   "metadata": {},
   "outputs": [],
   "source": [
    "# processes sea level rise data"
   ]
  },
  {
   "cell_type": "code",
   "execution_count": 1,
   "id": "06ad2d66-0f3b-48f2-92f5-29598c5ec8c6",
   "metadata": {},
   "outputs": [],
   "source": [
    "import os\n",
    "import sys\n",
    "import math\n",
    "import warnings\n",
    "import yaml\n",
    "import pandas as pd\n",
    "import geopandas as gpd\n",
    "from osgeo import gdal\n",
    "import glob\n",
    "import numpy as np\n",
    "import rasterio.mask\n",
    "import rasterio\n",
    "from rasterio.warp import calculate_default_transform, reproject, Resampling\n",
    "from rasterio.merge import merge\n",
    "from os.path import exists\n",
    "from pathlib import Path\n",
    "from shutil import copyfile"
   ]
  },
  {
   "cell_type": "code",
   "execution_count": 2,
   "id": "7b58e942-e4e5-4416-a659-faeb69b8d2e3",
   "metadata": {},
   "outputs": [],
   "source": [
    "country = 'Albania'"
   ]
  },
  {
   "cell_type": "code",
   "execution_count": 4,
   "id": "484f5a86-1c7e-4d31-b6cc-0eb9e55c05ee",
   "metadata": {},
   "outputs": [],
   "source": [
    "aoi_folder = Path(r'C:\\Users\\Owner\\Documents\\Career\\World Bank\\CRP\\Albania\\data\\AOI')\n",
    "output_folder = Path(r'C:\\Users\\Owner\\Documents\\Career\\World Bank\\CRP\\Albania\\data')\n",
    "\n",
    "# Raw data folder. Change file path as needed\n",
    "data_folder = Path(r'D:\\World Bank\\CRP\\data\\Sea level rise\\WB_Mar2023')\n",
    "\n",
    "# create a corresponding folder on an external hard drive to store large raster files (intermediate outputs). Change file path as needed\n",
    "int_output_folder = Path(r'D:\\World Bank\\CRP') / country / 'data/SLR'\n",
    "cities = ['Shkoder', 'Vlore']\n",
    "# centroids = pd.read_csv('centroids.csv')\n",
    "epsg_dict = {'Shkoder': 32634, 'Vlore': 32634}\n",
    "year_list = [2020, 2050, 2100]\n",
    "slr_list = ['', '_RL10']\n",
    "ssp_list = [245, 585]"
   ]
  },
  {
   "cell_type": "code",
   "execution_count": 5,
   "id": "b54a20f2-62bc-4c93-be17-e93e7ad16108",
   "metadata": {},
   "outputs": [],
   "source": [
    "try:\n",
    "    os.mkdir(int_output_folder)\n",
    "except FileExistsError:\n",
    "    pass"
   ]
  },
  {
   "cell_type": "code",
   "execution_count": 6,
   "id": "5e12b1d8-cf6c-4126-abb5-1984e1856aa7",
   "metadata": {},
   "outputs": [],
   "source": [
    "# get country shapefile extent\n",
    "shp_bounds = gpd.read_file(Path(r'C:\\Users\\Owner\\Documents\\Career\\World Bank\\CRP\\Albania\\data') / (country.replace(' ', '_') + '.shp')).bounds"
   ]
  },
  {
   "cell_type": "markdown",
   "id": "9ccfb569-b14a-49d9-bf12-1c811a592cab",
   "metadata": {},
   "source": [
    "Because the SLR data is organized by tiles of 1x1 degree, we first identify the tiles that cover the country extent so that they can be merged into one raster"
   ]
  },
  {
   "cell_type": "code",
   "execution_count": 7,
   "id": "d71c858b-22a2-476c-827e-7831027fb66d",
   "metadata": {},
   "outputs": [],
   "source": [
    "def smart_append(element, ls):\n",
    "    if not element in ls:\n",
    "        ls.append(element)"
   ]
  },
  {
   "cell_type": "code",
   "execution_count": 8,
   "id": "76408290-85b2-4c53-9cd6-52ff0c91d425",
   "metadata": {},
   "outputs": [],
   "source": [
    "lat_list = []\n",
    "\n",
    "for i in range(len(shp_bounds)):\n",
    "    if math.floor(shp_bounds.miny[i]) >= 0:\n",
    "        hemi = 'N'\n",
    "        for y in range(math.floor(shp_bounds.miny[i]), math.ceil(shp_bounds.maxy[i])):\n",
    "            smart_append(hemi + str(y).zfill(2), lat_list)\n",
    "    elif math.ceil(shp_bounds.maxy[i]) >= 0:\n",
    "        for y in range(0, math.ceil(shp_bounds.maxy[i])):\n",
    "            smart_append('N' + str(y).zfill(2), lat_list)\n",
    "        for y in range(math.floor(shp_bounds.miny[i]), 0):\n",
    "            smart_append('S' + str(-y).zfill(2), lat_list)\n",
    "    else:\n",
    "        hemi = 'S'\n",
    "        for y in range(math.floor(shp_bounds.miny[i]), math.ceil(shp_bounds.maxy[i])):\n",
    "            smart_append(hemi + str(-y).zfill(2), lat_list)"
   ]
  },
  {
   "cell_type": "code",
   "execution_count": 9,
   "id": "1c6d3908-1988-411e-acbb-1b8873023ec7",
   "metadata": {},
   "outputs": [],
   "source": [
    "lon_list = []\n",
    "\n",
    "for i in range(len(shp_bounds)):\n",
    "    if math.floor(shp_bounds.minx[i]) >= 0:\n",
    "        hemi = 'E'\n",
    "        for x in range(math.floor(shp_bounds.minx[i]), math.ceil(shp_bounds.maxx[i])):\n",
    "            smart_append(hemi + str(x).zfill(3), lon_list)\n",
    "    elif math.ceil(shp_bounds.maxx[i]) >= 0:\n",
    "        for x in range(0, math.ceil(shp_bounds.maxx[i])):\n",
    "            smart_append('E' + str(x).zfill(3), lon_list)\n",
    "        for x in range(math.floor(shp_bounds.minx[i]), 0):\n",
    "            smart_append('W' + str(-x).zfill(3), lon_list)\n",
    "    else:\n",
    "        hemi = 'W'\n",
    "        for x in range(math.floor(shp_bounds.minx[i]), math.ceil(shp_bounds.maxx[i])):\n",
    "            smart_append(hemi + str(-x).zfill(3), lon_list)"
   ]
  },
  {
   "cell_type": "code",
   "execution_count": 10,
   "id": "f2e7303f-20d3-4b12-810d-d3dba44accc7",
   "metadata": {},
   "outputs": [],
   "source": [
    "# copy all the identified tiles into one folder\n",
    "for year in year_list:\n",
    "    for slr in slr_list:\n",
    "        for ssp in ssp_list:\n",
    "            try:\n",
    "                os.mkdir(int_output_folder / ('ssp' + str(ssp) + '_mediumconfidence_50.0_' + str(year) + slr))\n",
    "            except FileExistsError:\n",
    "                pass\n",
    "            for lat in lat_list:\n",
    "                for lon in lon_list:\n",
    "                    data_subfolder = 'AR6_ssp' + str(ssp) + '_mediumconfidence_50.0_' + str(year) + slr\n",
    "                    if not exists(int_output_folder / ('ssp' + str(ssp) + '_mediumconfidence_50.0_' + str(year) + slr) / (lat + lon + '.tif')):\n",
    "                        try:\n",
    "                            copyfile(data_folder / data_subfolder / (lat + lon + '.tif'),\n",
    "                                     int_output_folder / ('ssp' + str(ssp) + '_mediumconfidence_50.0_' + str(year) + slr) / (lat + lon + '.tif'))\n",
    "                        except FileNotFoundError:\n",
    "                            pass"
   ]
  },
  {
   "cell_type": "code",
   "execution_count": 11,
   "id": "c436c0cc-c852-4d60-8bcf-0e95c39f3181",
   "metadata": {},
   "outputs": [],
   "source": [
    "# merge the tiles into one raster file\n",
    "for year in year_list:\n",
    "    for slr in slr_list:\n",
    "        for ssp in ssp_list:\n",
    "            raster_to_mosaic = []\n",
    "            mosaic_file = 'ssp' + str(ssp) + '_mediumconfidence_50.0_' + str(year) + slr + '.tif'\n",
    "            \n",
    "            mosaic_list = list((int_output_folder / ('ssp' + str(ssp) + '_mediumconfidence_50.0_' + str(year) + slr)).iterdir())\n",
    "            for p in mosaic_list:\n",
    "                raster = rasterio.open(p)\n",
    "                raster_to_mosaic.append(raster)\n",
    "            \n",
    "            mosaic, output = merge(raster_to_mosaic)\n",
    "            output_meta = raster.meta.copy()\n",
    "            output_meta.update(\n",
    "                {\"driver\": \"GTiff\",\n",
    "                    \"height\": mosaic.shape[1],\n",
    "                    \"width\": mosaic.shape[2],\n",
    "                    \"transform\": output,\n",
    "                }\n",
    "            )\n",
    "            \n",
    "            with rasterio.open(int_output_folder / mosaic_file, 'w', **output_meta) as m:\n",
    "                m.write(mosaic)"
   ]
  },
  {
   "cell_type": "code",
   "execution_count": 14,
   "id": "7229cced-b221-45c6-80f2-c7e21fd7898c",
   "metadata": {},
   "outputs": [],
   "source": [
    "# reproject the raster files as needed and clip them to the city extents\n",
    "def clipdata_slr(slr, year, ssp, city):\n",
    "    city_no_space = city.replace(\" \", \"_\")\n",
    "    city_lower = city_no_space.lower()\n",
    "    crs = epsg_dict[city]\n",
    "    shp_name = city_no_space + '.shp'\n",
    "    shp = gpd.read_file(city / aoi_folder / shp_name).to_crs(epsg = crs)\n",
    "    features = shp.geometry\n",
    "    \n",
    "    projected_raster = 'ssp' + str(ssp) + '_mediumconfidence_50.0_' + str(year) + slr + '_' + str(crs) + '.tif'\n",
    "    unprojected_raster = 'ssp' + str(ssp) + '_mediumconfidence_50.0_' + str(year) + slr + '.tif'\n",
    "    if not exists(int_output_folder / projected_raster):\n",
    "        with rasterio.open(int_output_folder / unprojected_raster) as src:\n",
    "            dst_crs = 'EPSG:' + str(crs)\n",
    "\n",
    "            transform, width, height = calculate_default_transform(\n",
    "                src.crs, dst_crs, src.width, src.height, *src.bounds)\n",
    "            kwargs = src.meta.copy()\n",
    "            kwargs.update({\n",
    "                'crs': dst_crs,\n",
    "                'transform': transform,\n",
    "                'width': width,\n",
    "                'height': height\n",
    "            })\n",
    "\n",
    "            with rasterio.open(int_output_folder / projected_raster, 'w', **kwargs) as dst:\n",
    "                for i in range(1, src.count + 1):\n",
    "                    reproject(\n",
    "                        source=rasterio.band(src, i),\n",
    "                        destination=rasterio.band(dst, i),\n",
    "                        src_transform=src.transform,\n",
    "                        src_crs=src.crs,\n",
    "                        dst_transform=transform,\n",
    "                        dst_crs=dst_crs,\n",
    "                        resampling=Resampling.nearest)\n",
    "    \n",
    "    try:\n",
    "        with rasterio.open(int_output_folder / projected_raster) as src:\n",
    "            out_image, out_transform = rasterio.mask.mask(\n",
    "                src, features, crop=True)\n",
    "            out_meta = src.meta.copy()\n",
    "\n",
    "        out_meta.update({\"driver\": \"GTiff\",\n",
    "                         \"height\": out_image.shape[1],\n",
    "                         \"width\": out_image.shape[2],\n",
    "                         \"transform\": out_transform})\n",
    "        \n",
    "        if np.nansum(out_image) != 0:\n",
    "            out_file = city_lower + '_ssp' + str(ssp) + '_slr' + slr + \"_\" + str(year) + '.tif'\n",
    "            with rasterio.open(city / output_folder / out_file, \"w\", **out_meta) as dest:\n",
    "                dest.write(out_image)\n",
    "    except ValueError:\n",
    "        pass"
   ]
  },
  {
   "cell_type": "code",
   "execution_count": 15,
   "id": "a9b3b56d-0196-40c2-aa0a-e59305480290",
   "metadata": {},
   "outputs": [],
   "source": [
    "for city in cities:\n",
    "    for slr in slr_list:\n",
    "        for year in year_list:\n",
    "            for ssp in ssp_list:\n",
    "                clipdata_slr(slr, year, ssp, city)"
   ]
  }
 ],
 "metadata": {
  "kernelspec": {
   "display_name": "crp",
   "language": "python",
   "name": "crp"
  },
  "language_info": {
   "codemirror_mode": {
    "name": "ipython",
    "version": 3
   },
   "file_extension": ".py",
   "mimetype": "text/x-python",
   "name": "python",
   "nbconvert_exporter": "python",
   "pygments_lexer": "ipython3",
   "version": "3.10.12"
  }
 },
 "nbformat": 4,
 "nbformat_minor": 5
}
